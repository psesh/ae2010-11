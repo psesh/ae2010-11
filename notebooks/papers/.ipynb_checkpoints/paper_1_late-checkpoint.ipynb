{
 "cells": [
  {
   "cell_type": "raw",
   "id": "cf46df68",
   "metadata": {},
   "source": [
    "---\n",
    "title: \"Incompressible fluid mechanics paper\"\n",
    "format: \n",
    "  pdf: \n",
    "    documentclass: report\n",
    "    classoption: [twocolumn, landscape]\n",
    "    lof: false\n",
    "    lot: false\n",
    "    geometry:\n",
    "      - top=30mm\n",
    "      - left=20mm\n",
    "      - heightrounded\n",
    "    fontfamily: libertinus\n",
    "    colorlinks: true\n",
    "---"
   ]
  },
  {
   "cell_type": "markdown",
   "id": "b591a728",
   "metadata": {},
   "source": [
    "# Incompressible fluid mechanics paper (late)\n",
    "## Fall 2023 | AE2010-AE2011\n",
    "## Name: "
   ]
  },
  {
   "cell_type": "raw",
   "id": "dddb11a2",
   "metadata": {},
   "source": [
    "#### Instructions\n",
    "Please do not attempt to copy or discuss the contents of this paper with any of your classmates during the course of this paper. Any such attempt, or even the action of glancing over someone else’s work will be viewed as a violation of Georgia Tech’s Honor Code, and this will result in a zero-point grade. Additionally, you are not permitted to use any electronic device during the course of this paper, aside from a standard calculator. You are permitted to use the restrooms, however, prior to leaving the lecture theatre, you are required to leave your cellular device(s) with the instructor. You may collect these once you return. As discussed, you are permitted to use two sides of a single 8.5” x 11” sheet of paper for formulas, notes, or derivations that you may find useful. There is no restriction on what your notes may comprise. Please do not turn in any scratch paper, and ensure your submitted answers do indeed answer the question that is being asked. Carefully read each question as the ask may be slightly different from questions you have practiced before. The numerical value after each question, e.g., ${\\color[rgb]{0.028509,0.250925,0.501969}[5]}$ denotes the number of marks assigned to that question. Finally, please write down all your answers on this provided sheet, along with your derivations and calculations. "
   ]
  },
  {
   "cell_type": "raw",
   "id": "918baad1",
   "metadata": {},
   "source": [
    "### Problem 1\n",
    "\n",
    "Figure 1 shows the entrance part of the water flow in a horizontal circular pipe of constant radius R. The pipe wall velocity profile develops immediately down stream of the entrance (plane 0), where the flow is uniform with velocity ${\\color[rgb]{0.059472,0.501943,0.998465}V_0}$. It reaches the center of the pipe at plane 1 so that an inviscid core no longer exists downstream of this point. At plane 1,the flow has an axisymmetric parabolic velocity profile, \n",
    "\n",
    "\\begin{figure}[h]\n",
    "    \\centering\n",
    "    \\includegraphics[width=0.40\\textwidth]{images/image_5.png}\n",
    "    \\caption{Water flowing through a pipe.}\n",
    "    \\label{fig:enter-label}\n",
    "\\end{figure}\n",
    "\n",
    "$$\n",
    "\\mathsf{{\\color[rgb]{0.059472,0.501943,0.998465}V}\\left( r \\right) = {\\color[rgb]{0.059472,0.501943,0.998465}V_c} \\left[ 1 - \\left( \\frac{r}{R} \\right)^2 \\right]}\n",
    "$$\n",
    "\n",
    "where ${\\color[rgb]{0.059472,0.501943,0.998465}V}$ is the velocity at radius $r$ and ${\\color[rgb]{0.059472,0.501943,0.998465}V_c}$ is the velocity at the centre line of the pipe. The density of water is ${\\color[rgb]{0.918231,0.469102,0.038229}\\rho}$. \n",
    "\n",
    "\\begin{enumerate}\n",
    "\\item[a.] Find ${\\color[rgb]{0.059472,0.501943,0.998465}V_c}$ in terms of ${\\color[rgb]{0.059472,0.501943,0.998465}V_0}$. ${\\color[rgb]{0.028509,0.250925,0.501969}[3]}$\n",
    "\\vspace{4 cm}\n",
    "\\item[b.] Explain why Bernoulli's equation can be used to determine the pressure difference $\\left({\\color[rgb]{0.315209,0.728565,0.037706}p_0} - {\\color[rgb]{0.315209,0.728565,0.037706}p_1} \\right)$ between plane $0$ and plane $1$. Use Bernoulli's equation to find $\\left({\\color[rgb]{0.315209,0.728565,0.037706}p_0} - {\\color[rgb]{0.315209,0.728565,0.037706}p_1} \\right)$  in terms of ${\\color[rgb]{0.918231,0.469102,0.038229}\\rho}$ and ${\\color[rgb]{0.059472,0.501943,0.998465}V_0}$. ${\\color[rgb]{0.028509,0.250925,0.501969}[4]}$\n",
    "\\vspace{3 cm}\n",
    "\\item[c.] Find expressions for the momentum fluxes at plane 0 and plane 1 in terms of R, ${\\color[rgb]{0.059472,0.501943,0.998465}V_0}$ and ${\\color[rgb]{0.918231,0.469102,0.038229}\\rho}$. ${\\color[rgb]{0.028509,0.250925,0.501969}[5]}$\n",
    "\\vspace{3 cm}\n",
    "\\item[d.] Find an expression for the horizontal force that the flow exerts on the pipe between plane 0 and plane 1. Comment on the physical origin of this force. ${\\color[rgb]{0.028509,0.250925,0.501969}[3]}$\n",
    "\\vspace{3 cm}\n",
    "\\end{enumerate}"
   ]
  },
  {
   "cell_type": "raw",
   "id": "52a6b5df",
   "metadata": {},
   "source": [
    "### Problem 2\n",
    "\n",
    "The open-ended U-tube shown in Figure 2 is used to measure the density ${\\color[rgb]{0.918231,0.469102,0.038229}\\rho_1}$ of a liquid of constant density using another liquid of known constant density ${\\color[rgb]{0.918231,0.469102,0.038229}\\rho_2}$. Both ${\\color[rgb]{0.918231,0.469102,0.038229}\\rho_1}$ and ${\\color[rgb]{0.918231,0.469102,0.038229}\\rho_2}$ are much larger than the density of air. Stating your reasoning, find ${\\color[rgb]{0.918231,0.469102,0.038229}\\rho_1}$ in terms of ${\\color[rgb]{0.918231,0.469102,0.038229}\\rho_2}$, $h_1$ and $h_2$. ${\\color[rgb]{0.028509,0.250925,0.501969}[2]}$\n",
    "\n",
    "\\begin{figure}[h]\n",
    "    \\centering\n",
    "    \\includegraphics[width=0.36\\textwidth]{images/image_6.png}\n",
    "    \\caption{U-tube.}\n",
    "    \\label{fig:enter-label}\n",
    "\\end{figure}\n",
    "\n",
    "\n",
    "\\vspace{3 cm}"
   ]
  },
  {
   "cell_type": "raw",
   "id": "2238e6b0",
   "metadata": {},
   "source": [
    "### Problem 3\n",
    "\n",
    "The density of a fluid (salt stratified water) is given by ${\\color[rgb]{0.918231,0.469102,0.038229}\\rho} = 1100 + 500 y \\; \\; kg/m^3$ where $y$ is measured in metres vertically downwards from the free surface of the fluid. \n",
    "\n",
    "\\begin{enumerate}\n",
    "\\item[i.] Find an expression for the gauge pressure in the fluid at depth $y$. ${\\color[rgb]{0.028509,0.250925,0.501969}[2]}$\n",
    "\\vspace{3 cm}\n",
    "\\item[ii.] Calculate the horizontal component of the hydrostatic force per unit width acting on one side of a rectangular gate submerged in the fluid. The top of the gate is at a depth $y=1\\; m$ and the bottom is at a depth of $y=2 \\; m$. ${\\color[rgb]{0.028509,0.250925,0.501969}[3]}$\n",
    "\\vspace{4 cm}\n",
    "\\end{enumerate}"
   ]
  },
  {
   "cell_type": "raw",
   "id": "68b8156a",
   "metadata": {},
   "source": [
    "### Problem 4\n",
    "\n",
    "Please clarify whether the entire statement is true or false. You are **not** required to justify your answers for statements a. to f. For statement g. some justification is required. \n",
    "\n",
    "\\begin{enumerate}\n",
    "\\item[a.] A shear force is what induces rotation of a fluid blob, because the pressure forces alone cannot. ${\\color[rgb]{0.028509,0.250925,0.501969}[1]}$\n",
    "\n",
    "\\item[b.] In streamline coordinates, in 2D flows, there are two components of velocity: one tangent to the velocity vector and one normal to the velocity vector. Neither can ever be zero. ${\\color[rgb]{0.028509,0.250925,0.501969}[1]}$\n",
    "\n",
    "\\item[c.] The acceleration in the normal direction (following the question above) is always zero. ${\\color[rgb]{0.028509,0.250925,0.501969}[1]}$\n",
    "\n",
    "\\item[d.] For flow moving along the positive horizontal direction ${\\color[rgb]{0.986047,0.008333,0.501923}x}$, an adverse pressure gradient is denoted by ${\\color[rgb]{0.315209,0.728565,0.037706}dp} / {\\color[rgb]{0.986047,0.008333,0.501923}dx} > 0 $. ${\\color[rgb]{0.028509,0.250925,0.501969}[1]}$\n",
    "\n",
    "\\item[e.] Aside from pressure, one can have stagnation and static values for temperature. ${\\color[rgb]{0.028509,0.250925,0.501969}[1]}$\n",
    "\n",
    "\\item[f.]  A ball bearing is demonstration of Couette flow. ${\\color[rgb]{0.028509,0.250925,0.501969}[1]}$\n",
    "\n",
    "\\item[g.]  The velocity field given by $\\mathbf{{\\color[rgb]{0.059472,0.501943,0.998465}v}} = 3x^2 \\hat{\\mathbf{e}}_{x} - 4 y \\hat{\\mathbf{e}}_{y}$ is a sink at location $(x, y) = (-2,4)$. ${\\color[rgb]{0.028509,0.250925,0.501969}[4]}$\n",
    "\n",
    "\\vspace{4 cm}\n",
    "\\end{enumerate}"
   ]
  }
 ],
 "metadata": {
  "kernelspec": {
   "display_name": "Python 3 (ipykernel)",
   "language": "python",
   "name": "python3"
  },
  "language_info": {
   "codemirror_mode": {
    "name": "ipython",
    "version": 3
   },
   "file_extension": ".py",
   "mimetype": "text/x-python",
   "name": "python",
   "nbconvert_exporter": "python",
   "pygments_lexer": "ipython3",
   "version": "3.11.1"
  }
 },
 "nbformat": 4,
 "nbformat_minor": 5
}
