{
 "cells": [
  {
   "cell_type": "raw",
   "id": "cf46df68",
   "metadata": {},
   "source": [
    "---\n",
    "title: \"Compressible fluid mechanics paper\"\n",
    "format: \n",
    "  pdf: \n",
    "    documentclass: report\n",
    "    classoption: [twocolumn, landscape]\n",
    "    lof: false\n",
    "    lot: false\n",
    "    geometry:\n",
    "      - top=30mm\n",
    "      - left=20mm\n",
    "      - heightrounded\n",
    "    fontfamily: libertinus\n",
    "    colorlinks: true\n",
    "---"
   ]
  },
  {
   "cell_type": "markdown",
   "id": "b591a728",
   "metadata": {},
   "source": [
    "# Compressible fluid mechanics paper\n",
    "## Fall 2023 | AE2010-AE2011\n",
    "## Name: "
   ]
  },
  {
   "cell_type": "markdown",
   "id": "ece30982",
   "metadata": {},
   "source": [
    "#### Instructions: \n",
    "Please do not attempt to copy or discuss the contents of this paper with any of your classmates during the course of this paper. Any such attempt, or even the action of glancing over someone else’s work will be viewed as a violation of Georgia Tech’s Honor Code, and this will result in a zero-point grade. Additionally, you are not permitted to use any electronic device during the course of this paper, aside from a standard calculator. You are permitted to use the restrooms, however, prior to leaving the lecture theatre, you are required to leave your cellular device(s) with the instructor. You may collect these once you return. As discussed, you are permitted to use two sides of a single 8.5” x 11” sheet of paper for formulas, notes, or derivations that you may find useful. There is no restriction on what your notes may comprise. Please do not turn in any scratch paper, and ensure your submitted answers do indeed answer the question that is being asked. Carefully read each question as the ask may be slightly different from questions you have practiced before. The numerical value after each question, e.g., ${\\color[rgb]{0.028509,0.250925,0.501969}[5]}$ denotes the number of marks assigned to that question. Finally, please write down all your answers on **this** provided sheet, along with your derivations and calculations that you want graded."
   ]
  },
  {
   "cell_type": "markdown",
   "id": "8c9af44d",
   "metadata": {},
   "source": [
    "### Problem 1\n",
    "A supersonic aircraft flies at a Mach number of 2. The figure below shows a section through the center-line of a symmetric two-dimensional bump. \n",
    "\n",
    "\n",
    "\\begin{enumerate}\n",
    "\\item[a.] Assuming the flow remains attached, carefully sketch and label the principal supersonic flow features around the bump on the diagram provided. ${\\color[rgb]{0.028509,0.250925,0.501969}[4]}$\n",
    "\\vspace{3 cm}\n",
    "\\begin{figure}[h]\n",
    "    \\centering\n",
    "    \\includegraphics[width=0.4\\textwidth]{images/image_P4_1.png}\n",
    "\\caption{Supersonic aircraft center-line bump.}\n",
    "    \\label{fig:enter-label}\n",
    "\\end{figure}\n",
    "\n",
    "\\item[b.] Please work out the Mach number in region 1. ${\\color[rgb]{0.028509,0.250925,0.501969}[2]}$\n",
    "\n",
    "\\vspace{3 cm}\n",
    "\n",
    "\\item[c.] Comment on the change in stangation pressure across regions 1, 2, and 3. ${\\color[rgb]{0.028509,0.250925,0.501969}[2]}$\n",
    "\n",
    "\n",
    "\\vspace{3 cm}\n",
    "\n",
    "\\end{enumerate}"
   ]
  },
  {
   "cell_type": "markdown",
   "id": "c0555f49",
   "metadata": {},
   "source": [
    "### Problem 2\n",
    "\n",
    "Consider a control volume of a set of streamlines describing the flow up to the noise of an airfoil. The streamlines are stationary in space, so there is no external work done on the fluid. Additionally assume there is no heat transferred to the flow. \n",
    "\n",
    "\\begin{enumerate}\n",
    "\\item[a.] Consider two points along a single streamline: one in the freestream and one at the nose of the airfoil. From the steady flow momentum equation, please describe the static temperature variation along this streamline. ${\\color[rgb]{0.028509,0.250925,0.501969}[4]}$\n",
    "\n",
    "\\vspace{5 cm}\n",
    "\n",
    "\\item[b.] From the above, please write down the equation for the stagnation temperature, and describe it in words, e.g., ``It is the temperature that the fluid would reach...''. ${\\color[rgb]{0.028509,0.250925,0.501969}[2]}$\n",
    "\n",
    "\n",
    "\\vspace{2 cm}\n",
    "\n",
    "\\item[c.] From b, please derive the following expression ${\\color[rgb]{0.028509,0.250925,0.501969}[4]}$:\n",
    "\n",
    "\\begin{equation*}\n",
    "\\frac{{\\color[rgb]{0.164799,0.878862,0.723179}T_{01}}}{{\\color[rgb]{0.164799,0.878862,0.723179}T_1}} = 1 + \\frac{\\left(\\gamma -1 \\right)}{2}{\\color[rgb]{0.041732,0.352132,0.699576}M_1}^2\n",
    "\\end{equation*}\n",
    "\n",
    "\n",
    "\\vspace{5 cm}\n",
    "\n",
    "\\end{enumerate}\n",
    "\\vspace{5 cm}\n"
   ]
  },
  {
   "cell_type": "markdown",
   "id": "054000bf",
   "metadata": {},
   "source": [
    "### Problem 3\n",
    "Air flows through a duct which has frictionless walls and constant cross-sectional area. The mass flow rate is constant at $20 \\; kg/s$ and a total of ${\\color[rgb]{0.334690,0.296180,0.998454}2 \\; MegaWatts}$ of heat is added along the length of the tube. Measurements taken at the exit of the tube indicate that the exit static temperature is ${\\color[rgb]{0.164799,0.878862,0.723179}660 \\; K}$ and the exit velocity is ${\\color[rgb]{0.059472,0.501943,0.998465}330 \\; m/s}$. You may assume $\\gamma=1.4$, ${\\color[rgb]{0.986252,0.007236,0.027423}c}_{\\color[rgb]{0.315209,0.728565,0.037706}p }= {\\color[rgb]{0.986252,0.007236,0.027423}1005 \\; J / \\left( kg \\cdot K \\right)}$ and use the subsonic flow table provided after these questions. \n",
    "\n",
    "\\begin{enumerate}\n",
    "\\item[a.] Calculate the inlet stagnation temperature (Hint: the expression you derived in 2(c) will be useful here). ${\\color[rgb]{0.028509,0.250925,0.501969}[3]}$\n",
    "\n",
    "\n",
    "\\vspace{3 cm}\n",
    "\n",
    "\\item[b.] Calculate the inlet velocity. ${\\color[rgb]{0.028509,0.250925,0.501969}[4]}$\n",
    "\n",
    "\n",
    "\\vspace{4 cm}\n",
    "\\item[c.] Draw and label a ${\\color[rgb]{0.164799,0.878862,0.723179}T}-{\\color[rgb]{0.500000,0.500000,0.500000}s}$ diagram to show the complete process. ${\\color[rgb]{0.028509,0.250925,0.501969}[3]}$\n",
    "\n",
    "\n",
    "\\vspace{5 cm}\n",
    "\n",
    "\\item[d.] How much more heat would have to be added to choke the exit of the pipe (in ${\\color[rgb]{0.334690,0.296180,0.998454} MegaWatts}$)? ${\\color[rgb]{0.028509,0.250925,0.501969}[6]}$\n",
    "\n",
    "\n",
    "\\vspace{6 cm}\n",
    "\\end{enumerate}\n",
    "\\\\"
   ]
  },
  {
   "cell_type": "markdown",
   "id": "5bed6c85",
   "metadata": {},
   "source": [
    "\\vspace{4 cm}\n",
    "### Problem 4\n",
    "Please clarify whether the entire statement is true or false. You are **not** required to justify your answers for statements.\n",
    "\n",
    "\\begin{enumerate}\n",
    "\\item[a.] Sound is an example of a longitudinal wave; it comprises a series of compressions and rarefactions that dissipate over distances. ${\\color[rgb]{0.028509,0.250925,0.501969}[1]}$\n",
    "\n",
    "\\item[b.] In a sound wave, both pressure and temperature change in a manner where no heat is transferred, i.e., they both change adiabatically. ${\\color[rgb]{0.028509,0.250925,0.501969}[1]}$\n",
    "\n",
    "\\item[c.] Flows greater than Mach 0.3 are considered incompressible. ${\\color[rgb]{0.028509,0.250925,0.501969}[1]}$\n",
    "\n",
    "\\item[d.] Increases or decreases in flow quantities (i.e., ${\\color[rgb]{0.041732,0.352132,0.699576}M}, {\\color[rgb]{0.918231,0.469102,0.038229}\\rho}, {\\color[rgb]{0.315209,0.728565,0.037706}p}, {\\color[rgb]{0.986252,0.007236,0.027423}h}, {\\color[rgb]{0.315209,0.728565,0.037706}p_{0}})$ across an oblique shock are in the same direction as across a normal shock. ${\\color[rgb]{0.028509,0.250925,0.501969}[1]}$\n",
    "\n",
    "\\item[e.] Both Fanno and Rayleigh flow may be considered reversible processes. ${\\color[rgb]{0.028509,0.250925,0.501969}[1]}$\n",
    "\n",
    "\\item[f.] Under the Fanno model, supersonic flow entering a constant cross-section pipe will choke because friction acts to reduce the effective flow area. ${\\color[rgb]{0.028509,0.250925,0.501969}[1]}$\n",
    "\n",
    "\\item[g.] Under the Rayleigh model, supersonic flow will slow down under the action of external heating. ${\\color[rgb]{0.028509,0.250925,0.501969}[1]}$\n",
    "\n",
    "\\item[h.] The Mach angle is given by ${\\color[rgb]{0.064095,0.501831,0.501977}\\mu} = sin^{-1} \\left( 1 / {\\color[rgb]{0.041732,0.352132,0.699576}M} \\right)$. This quantity is not defined for subsonic flows. ${\\color[rgb]{0.028509,0.250925,0.501969}[1]}$\n",
    "\n",
    "\\item[i.] Weak shocks (characterised by a smaller wave angle ${\\color[rgb]{0.131302,0.999697,0.023594}\\beta}$) is the type of oblique shock most likely to occur in a typical supersonic flow. ${\\color[rgb]{0.028509,0.250925,0.501969}[1]}$\n",
    "\n",
    "\\end{enumerate}"
   ]
  }
 ],
 "metadata": {
  "kernelspec": {
   "display_name": "Python 3 (ipykernel)",
   "language": "python",
   "name": "python3"
  },
  "language_info": {
   "codemirror_mode": {
    "name": "ipython",
    "version": 3
   },
   "file_extension": ".py",
   "mimetype": "text/x-python",
   "name": "python",
   "nbconvert_exporter": "python",
   "pygments_lexer": "ipython3",
   "version": "3.11.1"
  }
 },
 "nbformat": 4,
 "nbformat_minor": 5
}
