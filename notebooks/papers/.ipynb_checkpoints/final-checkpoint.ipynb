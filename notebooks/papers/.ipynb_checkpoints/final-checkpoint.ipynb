{
 "cells": [
  {
   "cell_type": "raw",
   "id": "6a1c1d2f",
   "metadata": {},
   "source": [
    "---\n",
    "title: \"Compressible fluid mechanics paper\"\n",
    "format: \n",
    "  pdf: \n",
    "    documentclass: report\n",
    "    classoption: [twocolumn, landscape]\n",
    "    lof: false\n",
    "    lot: false\n",
    "    geometry:\n",
    "      - top=30mm\n",
    "      - left=20mm\n",
    "      - heightrounded\n",
    "    fontfamily: libertinus\n",
    "    colorlinks: true\n",
    "---"
   ]
  },
  {
   "cell_type": "markdown",
   "id": "68ae84d3",
   "metadata": {},
   "source": [
    "# Final paper (take-home)\n",
    "## Spring 2024 | AE2010-AE2011\n",
    "## Name: "
   ]
  },
  {
   "cell_type": "markdown",
   "id": "9136e92e",
   "metadata": {},
   "source": [
    "#### Instructions: \n",
    "Please do not attempt to copy or discuss the contents of this paper with any of your classmates. Any such attempt, will be viewed as a violation of Georgia Tech’s Honor Code, and this will result in a zero-point grade. You may use your own notes, the online course resources, and your own papers. Do not use any other resource. \n",
    "\n",
    "Please do not turn in any scratch paper, and ensure your submitted answers do indeed answer the question that is being asked. Carefully read each question as the ask may be slightly different from questions you have practiced before. The numerical value after each question, e.g., ${\\color[rgb]{0.028509,0.250925,0.501969}[5]}$ denotes the number of marks assigned to that question. Finally, please write down all your answers on **this** provided sheet, along with your derivations and calculations that you want graded.\n",
    "\n",
    "**Please do submit your final solutions on paper to my office before May 2nd 10:50 am. This is a hard deadline and if I do not receive your final solutions by this time you will not get any points.** \n",
    "\n",
    "A printed version of these questions may be found outside my office. Although not included here, you should use the gas properties table (available on the course website) to solve some of these questions. "
   ]
  },
  {
   "cell_type": "markdown",
   "id": "c3f139e2",
   "metadata": {},
   "source": [
    "### Problem 1 (AE2010 only)\n",
    "\n",
    "A fire extinguisher contains a perfect gas with $c_p=1000 \\; J / \\left( kg \\cdot K \\right)$ and $\\gamma = 1.4$. The gas in the extinguisher is at 300 $K$ and pressurized to $10 \\; bar$ ($1 \\; bar = 10^{5} \\; Pa$). When the extinguisher is used, this gas is expanded adiabatically through a valve to $1 \\; bar$. \n",
    "\n",
    "\\begin{itemize}\n",
    "\\item[a.] If the process were isentropic, what would the final temperature be? {\\color[rgb]{0.028509,0.250925,0.501969}[2]}\n",
    "\n",
    "{\\color{White}{Please write down your solution here. Please write down your solution here. Please write down your solution here. Please write down your solution here. Please write down your solution here. Please write down your solution here. Please write down your solution here. \\vspace{5 cm} }}\n",
    "\n",
    "\\item[b.] In practice, the process is \\emph{not} isentropic. Sketch the process on a $T-s$ diagram, labelling all lines clearly. {\\color[rgb]{0.028509,0.250925,0.501969}[2]}\n",
    "\n",
    "{\\color{White}{Please write down your solution here. Please write down your solution here. Please write down your solution here. Please write down your solution here. Please write down your solution here. Please write down your solution here. Please write down your solution here. \\vspace{5 cm} }}\n",
    "\n",
    "\\item[c.] If the final temperature of the gas is $246 \\; K$, calculate the entropy change per unit mass of gas and the ratio of the final volume of gas to the its initial volume. {\\color[rgb]{0.028509,0.250925,0.501969}[4]}\n",
    "\n",
    "{\\color{White}{Please write down your solution here. Please write down your solution here. Please write down your solution here. Please write down your solution here. Please write down your solution here. Please write down your solution here. Please write down your solution here. \\vspace{5 cm} }}\n",
    "\n",
    "\\end{itemize}"
   ]
  },
  {
   "cell_type": "markdown",
   "id": "46b4658d",
   "metadata": {},
   "source": [
    "### Problem 1 (AE2011 only)\n",
    "\n",
    "A tank of water of density $\\rho$ feeds two taps, at heights $h_1$ and $h_2$ below the tank's free surface, under the effect of gravity as shown in Figure \\ref{fig:1}. The tank and the taps have uniform cross-sectional areas $A_0$ and $A_1$ respectively. Friction may be neglected throughout and the flow can be considered quasi-steady. \n",
    "\n",
    "\\begin{figure}[h]\n",
    "    \\centering\n",
    "    \\includegraphics[width=0.25\\textwidth]{images/final.png}\n",
    "    \\caption{Tank of water feeding two taps.}\n",
    "    \\label{fig:1}\n",
    "\\end{figure}\n",
    "\n",
    "\\begin{itemize}\n",
    "\\item[a.] Find the two expressions for the exit velocities at the taps, $v_1$ and $v_2$, as a function of $\\rho, g, h_1, h_2$, and the velocity of the water at the free surface in the tank, $v_0$. Assuming that $v_0 << \\sqrt{2 g h_1}$, simplify the above expressions and give $v_1$ and $v_2$ as a function of $\\rho$, $g$, $h_1$, and $h_2$. {\\color[rgb]{0.028509,0.250925,0.501969}[4]}\n",
    "\n",
    "{\\color{White}{Please write down your solution here. Please write down your solution here. Please write down your solution here. Please write down your solution here. Please write down your solution here. Please write down your solution here. Please write down your solution here. \\vspace{5 cm} }}\n",
    "\n",
    "\\item[b.] Use mass conservation to obtain $v_0$ as a function of $A_0$ and $A_1$ and the previously obtained $v_1$ and $v_2$. For a system with $g=10 \\; m/s^2$, $h_1=3 \\; m$, $h_2 = 6 \\; m$, $A_0 = 0.4 \\; m^2$ and $A_1 = 4 \\; cm^2$, check if the above simplified method is justified. {\\color[rgb]{0.028509,0.250925,0.501969}[4]}\n",
    "\n",
    "{\\color{White}{Please write down your solution here. Please write down your solution here. Please write down your solution here. Please write down your solution here. Please write down your solution here. Please write down your solution here. Please write down your solution here. \\vspace{5 cm} }}\n",
    "\\end{itemize}"
   ]
  },
  {
   "cell_type": "markdown",
   "id": "b3701752",
   "metadata": {},
   "source": [
    "### Problem 2\n",
    "\n",
    "A large reservoir contains air at a pressure of $5 \\; bar$ and a temperature of $583 \\; K$. From the reservoir, the air passes into a frictionless convergent-divergent nozzle, where it accelerates to a speed of $603 \\; m/s$. It then enters a cylindrical duct of length $1.2 \\; m$ and diameter of $0.08\\; m$. At the end of the duct there is a normal shock wave. Immediately upstream of the shock, the temperature is $69 \\; K$ higher than at the duct entry. The flow is adiabatic throughout, and exhibits perfect gas behavior. \n",
    "\n",
    "\\begin{itemize}\n",
    "\\item[a.] Calculate the Mach number of the flow when it enters the cylindrical duct. {\\color[rgb]{0.028509,0.250925,0.501969}[3]}\n",
    "{\\color{White}{Please write down your solution here. Please write down your solution here. Please write down your solution here. Please write down your solution here. Please write down your solution here. Please write down your solution here. Please write down your solution here. \\vspace{5 cm} }}\n",
    "\\item[b.] What is the value of the skin-friction coefficient in the duct? {\\color[rgb]{0.028509,0.250925,0.501969}[5]}\n",
    "{\\color{White}{Please write down your solution here. Please write down your solution here. Please write down your solution here. Please write down your solution here. Please write down your solution here. Please write down your solution here. Please write down your solution here. \\vspace{5 cm} }}\n",
    "\\item[c.] Find the ambient pressure in the atmosphere surrounding the duct exit. {\\color[rgb]{0.028509,0.250925,0.501969}[2]}\n",
    "{\\color{White}{Please write down your solution here. Please write down your solution here. Please write down your solution here. Please write down your solution here. Please write down your solution here. Please write down your solution here. Please write down your solution here. \\vspace{5 cm} }}\n",
    "\\item[d.] The ambient pressure at the duct exit is now gradually raised from the value you found earlier up to $5 \\; bar$. Describe, qualitatively, the changes in the flow during this process, and explain why the occur. {\\color[rgb]{0.028509,0.250925,0.501969}[4]}\n",
    "{\\color{White}{Please write down your solution here. Please write down your solution here. Please write down your solution here. Please write down your solution here. Please write down your solution here. Please write down your solution here. Please write down your solution here. \\vspace{5 cm} }}\n",
    "\\end{itemize}"
   ]
  },
  {
   "cell_type": "markdown",
   "id": "19aee4a9",
   "metadata": {},
   "source": [
    "### Problem 3\n",
    "\n",
    "A jet engine reheat system is to be modelled by the frictionless flow of air in a duct of constant cross-sectional area with combustion being represented by heat addition. At the downstream end of the duct there is a converging nozzle with adjustable area ratio. The system is operated with an inlet condition to the duct of $M=0.3$ and $T_0 = 600 \\; K$ and with the exit nozzle choked. \n",
    "\n",
    "What area ratio must the nozzle have \n",
    "\n",
    "\\begin{itemize}\n",
    "\\item[i.] without reheat, and {\\color[rgb]{0.028509,0.250925,0.501969}[4]}\n",
    "{\\color{White}{Please write down your solution here. Please write down your solution here. Please write down your solution here. Please write down your solution here. Please write down your solution here. Please write down your solution here. Please write down your solution here. \\vspace{5 cm} }}\n",
    "\\item[ii.] with heat raising the stagnation temperature in the duct from $600 \\; K$ to $1000 \\; K$? {\\color[rgb]{0.028509,0.250925,0.501969}[5]}\n",
    "{\\color{White}{Please write down your solution here. Please write down your solution here. Please write down your solution here. Please write down your solution here. Please write down your solution here. Please write down your solution here. Please write down your solution here. \\vspace{5 cm} }}\n",
    "\\end{itemize}\n",
    "\n",
    "By what percentage is the impulse function at the exit of the nozzle raised by the reheat? Assume $\\gamma = 1.4$. \\color[rgb]{0.028509,0.250925,0.501969}{[3]}\n",
    "\n",
    "\n",
    "\n",
    "\\color{White}{Please write down your solution here. Please write down your solution here. Please write down your solution here. Please write down your solution here. Please write down your solution here. Please write down your solution here. Please write down your solution here. \\vspace{5 cm} }"
   ]
  },
  {
   "cell_type": "markdown",
   "id": "f1bc3c3b",
   "metadata": {},
   "source": [
    "\\color{Black}{}\n",
    "\n",
    "### Problem 4\n",
    "Please clarify whether the entire statement is true or false. You are **not** required to justify your answers for statements.\n",
    "\n",
    "\\begin{enumerate}\n",
    "\\item[a.] The Pi theorem is able to determine the number of truly dimensionless variables in a physical problem by subtracting the number of fundamental dimensions (e.g., mass, length, time) from the total number of variables. {\\color[rgb]{0.028509,0.250925,0.501969}[1]}\n",
    "\n",
    "\\item[b.] One can think of the Reynolds number as a non-dimensionalization of the effect of viscosity. {\\color[rgb]{0.028509,0.250925,0.501969}[1]}\n",
    "\n",
    "\\item[c.] The Mach number downstream of an expansion fan is $2.65$ when the upstream Mach number is $1.86$ and the flow deflection angle is $20^{\\circ}$. {\\color[rgb]{0.028509,0.250925,0.501969}[2]}\n",
    "\n",
    "\\item[d.] The Hagen-Poiseuille equation describes pressure loss in a pipe as a function of volumetric flow rate, pipe length, pipe diameter, and fluid viscosity. {\\color[rgb]{0.028509,0.250925,0.501969}[1]}\n",
    "\n",
    "\\item[e.] One of the challenges with the device that our guest speaker presented was the requirement of a renewable source of energy to provide shaft torque. {\\color[rgb]{0.028509,0.250925,0.501969}[1]}\n",
    "\n",
    "\\item[f.] $c_p$ should only be used for enthalpy calculations at constant pressure. {\\color[rgb]{0.028509,0.250925,0.501969}[1]}\n",
    "\n",
    "\\item[g.] The rate of change of altitute $A$ given an airplane's velocity $\\mathbf{v}$ may be expressed as $\\mathbf{v} \\cdot \\nabla A$. {\\color[rgb]{0.028509,0.250925,0.501969}[1]}\n",
    "\n",
    "\\end{enumerate}"
   ]
  }
 ],
 "metadata": {
  "kernelspec": {
   "display_name": "Python 3 (ipykernel)",
   "language": "python",
   "name": "python3"
  },
  "language_info": {
   "codemirror_mode": {
    "name": "ipython",
    "version": 3
   },
   "file_extension": ".py",
   "mimetype": "text/x-python",
   "name": "python",
   "nbconvert_exporter": "python",
   "pygments_lexer": "ipython3",
   "version": "3.11.1"
  }
 },
 "nbformat": 4,
 "nbformat_minor": 5
}
