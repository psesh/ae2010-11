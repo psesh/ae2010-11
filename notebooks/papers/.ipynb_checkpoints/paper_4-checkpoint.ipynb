{
 "cells": [
  {
   "cell_type": "raw",
   "id": "cf46df68",
   "metadata": {},
   "source": [
    "---\n",
    "title: \"Final paper\"\n",
    "format: \n",
    "  pdf: \n",
    "    documentclass: report\n",
    "    classoption: [twocolumn, landscape]\n",
    "    lof: false\n",
    "    lot: false\n",
    "    geometry:\n",
    "      - top=30mm\n",
    "      - left=20mm\n",
    "      - heightrounded\n",
    "    fontfamily: libertinus\n",
    "    colorlinks: true\n",
    "---"
   ]
  },
  {
   "cell_type": "markdown",
   "id": "b591a728",
   "metadata": {},
   "source": [
    "# Final paper \n",
    "## Fall 2023 | AE2010-AE2011\n",
    "## Name:\n",
    "### Due Date: Wednesday, December 13th 10:50\n",
    "### Submission location: MK421A"
   ]
  },
  {
   "cell_type": "markdown",
   "id": "ece30982",
   "metadata": {},
   "source": [
    "#### Instructions and comments: \n",
    "This is a take-home exam, and should take you less than 115 minutes to complete. While you may discuss questions with other students in this course, the work you submit must be your own. You are welcome to all resources that have been made available on the course website; you will not need any other resources. You are not permitted to post / ask questions on any external online forum; you are also not permitted to speak to any tutor about these questions. Any violation of the above will result in a zero-point grade. Should you have any questions or require any clarifications, please email me. Please do not turn in any scratch paper, and ensure your submitted answers do indeed answer the question that is being asked. Carefully read each question as the ask may be slightly different from questions you have practiced before. The numerical value after each question, e.g., ${\\color[rgb]{0.028509,0.250925,0.501969}[5]}$ denotes the number of marks assigned to that question. Finally, please either (i) write down all your answers on a print out of this set, or (ii) write the answers on a separate sheets---the choice is yours. Submit this to my office (MK421A) anytime before the deadline. If I am not in, please slide your solution under the door. No late solutions will be accepted. I wish you all the very best of luck, and I just want to say that it has been a pleasure to be your instructor for this course. "
   ]
  },
  {
   "cell_type": "markdown",
   "id": "8c9af44d",
   "metadata": {},
   "source": [
    "### Problem 1\n",
    "An air compressor operates in steady flow with air entering with pressure ${\\color[rgb]{0.315209,0.728565,0.037706}p_1}$ and temperature ${\\color[rgb]{0.164799,0.878862,0.723179}T_1}$, and leaving at pressure ${\\color[rgb]{0.315209,0.728565,0.037706}p_2}$. Within the compressor the air undergoes a reversible polytropic process, ${\\color[rgb]{0.315209,0.728565,0.037706}p}{\\color[rgb]{0.918231,0.469102,0.038229}\\nu}^{n} = constant$, where ${\\color[rgb]{0.918231,0.469102,0.038229}\\nu}$ is the specific volume and $n$ is a constant. Assume air behaves as a perfect gas and neglect changes in kinetic and potential energy between the inlet and outlet. \n",
    "\n",
    "\\begin{enumerate}\n",
    "\\item[a.] Starting from the expression ${\\color[rgb]{0.562040,0.190215,0.568721}dw_{x}} = - {\\color[rgb]{0.918231,0.469102,0.038229}\\nu}{\\color[rgb]{0.315209,0.728565,0.037706}dp}$ for reversible steady flow, show that ${\\color[rgb]{0.562040,0.190215,0.568721}w_{x}}$, the shaft work transfer from the compressor per unit mass of air, is given by\n",
    "\n",
    "\\begin{equation*}\n",
    "{\\color[rgb]{0.562040,0.190215,0.568721}w_x} = - \\frac{nR}{n - 1} \\left({\\color[rgb]{0.164799,0.878862,0.723179}T_2} - {\\color[rgb]{0.164799,0.878862,0.723179}T_1} \\right),\n",
    "\\end{equation*}\n",
    "\n",
    "where $R$ is the gas constant per unit mass of air, i.e., $R = {\\color[rgb]{0.315209,0.728565,0.037706}p} {\\color[rgb]{0.918231,0.469102,0.038229}\\nu} / {\\color[rgb]{0.164799,0.878862,0.723179}T}$. ${\\color[rgb]{0.028509,0.250925,0.501969}[4]}$ \n",
    "\n",
    "\\vspace{4 cm}\n",
    "\n",
    "\\item[b.] Derive an expression for the heat transfer to the compressor per unit mass of air in terms of $R, {\\color[rgb]{0.164799,0.878862,0.723179}T_1}, {\\color[rgb]{0.164799,0.878862,0.723179}T_2}, n$ and the ratio of the specific heat capacities $\\gamma$. ${\\color[rgb]{0.028509,0.250925,0.501969}[6]}$\n",
    "\n",
    "\\vspace{6 cm}\n",
    "\\end{enumerate}"
   ]
  },
  {
   "cell_type": "markdown",
   "id": "0092001e",
   "metadata": {},
   "source": [
    "\\vspace{4 cm}\n",
    "### Problem 2\n",
    "Within the compressor of a modern turbofan engine, the stagnation temperature and stagnation pressure within the main gas path are found to be ${\\color[rgb]{0.164799,0.878862,0.723179}500 \\; K}$ and ${\\color[rgb]{0.315209,0.728565,0.037706}13 \\; atmospheres}$. The static pressure here is measured to be ${\\color[rgb]{0.315209,0.728565,0.037706}10 \\; atmospheres}$. What is the velocity of the gas? You may assume the heat capacity ratio, $\\gamma=1.4$ and a specific gas constant value of $R=287 \\; J/(K \\cdot kg)$. *Hint*: Assume the flow is isentropic. ${\\color[rgb]{0.028509,0.250925,0.501969}[8]}$ \n",
    "\\vspace{6 cm}"
   ]
  },
  {
   "cell_type": "markdown",
   "id": "87f35da0",
   "metadata": {},
   "source": [
    "\\vspace{6 cm}\n",
    "### Problem 3\n",
    "Fluid flows through a duct of height $h$ as shown in the figure below. Part of the upstream section of this duct is divided into two separate ducts of height ${\\color[rgb]{0.599997,0.600015,0.600005}h}$ and ${\\color[rgb]{0.599997,0.600015,0.600005}3h}$ respectively. At station ${\\color[rgb]{0.986252,0.007236,0.027423}1}$, far upstream, the velocity and pressure are uniform in each duct. In the larger duct, the velocity is ${\\color[rgb]{0.059472,0.501943,0.998465}v_1}$ and the pressure is ${\\color[rgb]{0.315209,0.728565,0.037706}p_1}$, and in the smaller duct the velocity is ${\\color[rgb]{0.059472,0.501943,0.998465}9v_1}$, but the pressure is the same. \n",
    "\n",
    "At some distance from the exit of the smaller duct, a flat plate of height ${\\color[rgb]{0.599997,0.600015,0.600005}h}$ is mounted on the floor, perpendicular to the flow. Fluid from the two upstream ducts mixes turbulently and passes through the gap between this flat plate and the top of the duct. At station ${\\color[rgb]{0.986252,0.007236,0.027423}2}$, just upstream of the gap, the pressure is uniform across the whole height of the duct and the velocity ${\\color[rgb]{0.059472,0.501943,0.998465}v_2}$ is uniform across the gap. At station ${\\color[rgb]{0.986252,0.007236,0.027423}3}$, far downstream, the velocity ${\\color[rgb]{0.059472,0.501943,0.998465}v_3}$ and pressure ${\\color[rgb]{0.315209,0.728565,0.037706}p_3}$ are both uniform over the whole duct height. The fluid throughout has a uniform density of ${\\color[rgb]{0.918231,0.469102,0.038229}\\rho}$, the flow is incompressible and friction forces may be ignored. The duct has unit width into the page. \n",
    "\n",
    "\\begin{figure}[h]\n",
    "    \\centering\n",
    "    \\includegraphics[width=0.4\\textwidth]{images/image_P5_1.png}\n",
    "\\caption{Flow through a duct.}\n",
    "    \\label{fig:enter-label}\n",
    "\\end{figure}\n",
    "\n",
    "\\begin{enumerate}\n",
    "\\item[a.] What is the velocity ${\\color[rgb]{0.059472,0.501943,0.998465}v_2}$ in the gap between the plate and the top of the duct in terms of ${\\color[rgb]{0.059472,0.501943,0.998465}v_1}$? ${\\color[rgb]{0.028509,0.250925,0.501969}[3]}$\n",
    "\n",
    "\\vspace{3 cm}\n",
    "\n",
    "\\item[b.] What is the velocity ${\\color[rgb]{0.059472,0.501943,0.998465}v_3}$ at the station far downstream in terms of ${\\color[rgb]{0.059472,0.501943,0.998465}v_1}$? ${\\color[rgb]{0.028509,0.250925,0.501969}[3]}$\n",
    "\n",
    "\\vspace{3 cm}\n",
    "\n",
    "\\item[c.] What is the pressure ${\\color[rgb]{0.315209,0.728565,0.037706}p_2}$ at station ${\\color[rgb]{0.986252,0.007236,0.027423}2}$ in terms of ${\\color[rgb]{0.315209,0.728565,0.037706}p_1}$, ${\\color[rgb]{0.918231,0.469102,0.038229}\\rho}$, and ${\\color[rgb]{0.059472,0.501943,0.998465}v_1}$? ${\\color[rgb]{0.028509,0.250925,0.501969}[5]}$\n",
    "\n",
    "\\vspace{5 cm}\n",
    "\n",
    "\\item[d.] Find an expression for the force $F$ that the plate exerts on the fluid in terms of ${\\color[rgb]{0.315209,0.728565,0.037706}p_1}$, ${\\color[rgb]{0.315209,0.728565,0.037706}p_3}$, ${\\color[rgb]{0.918231,0.469102,0.038229}\\rho}$, and ${\\color[rgb]{0.599997,0.600015,0.600005}h}$. ${\\color[rgb]{0.028509,0.250925,0.501969}[7]}$ \\\\\n",
    "\\end{enumerate}"
   ]
  },
  {
   "cell_type": "markdown",
   "id": "5bed6c85",
   "metadata": {},
   "source": [
    "\\\n",
    "\\vspace{8 cm}\n",
    "\n",
    "### Problem 4\n",
    "Please clarify whether the entire statement is true or false. You are **not** required to justify your answers for statements.\n",
    "\n",
    "\\begin{enumerate}\n",
    "\\item[a.] Control volumes and system boundaries are very important concepts when studying fluids. Mass can cross a system boundary, however, energy in the form of work or heat cannot. ${\\color[rgb]{0.028509,0.250925,0.501969}[1]}$\n",
    "\n",
    "\\item[b.] Using the forces and stresses acting on a fluid blob, and using the definition of the material (or substantial) derivative, we can derive both the incompressible Euler and incompressible Navier Stokes equations. The difference between the two equations are the shear terms (only present in the latter). ${\\color[rgb]{0.028509,0.250925,0.501969}[1]}$\n",
    "\n",
    "\\item[c.] When studying losses in pipes, we came across the Hagen-Poiseuille equation that describes the pressure loss as a function of bulk volumetric flow rate, pipe length, pipe diameter, and fluid viscosity. ${\\color[rgb]{0.028509,0.250925,0.501969}[1]}$\n",
    "\n",
    "\\item[d.] The rate of change of altitute $A$ given an airplane's velocity ${\\color[rgb]{0.059472,0.501943,0.998465}\\boldsymbol{v}}$ may be expressed as ${\\color[rgb]{0.059472,0.501943,0.998465}\\boldsymbol{v}} \\cdot \\nabla A$. ${\\color[rgb]{0.028509,0.250925,0.501969}[1]}$\n",
    "\n",
    "\\item[e.] Intensive thermodynamic properties depend on the size of the system. Volume is an example. ${\\color[rgb]{0.028509,0.250925,0.501969}[1]}$\n",
    "\n",
    "\\item[f.] In the first law, a negative work term (i.e., ${\\color[rgb]{0.334690,0.296180,0.998454}Q} - \\left(-{\\color[rgb]{0.562040,0.190215,0.568721}W} \\right) = {\\color[rgb]{1.000000,0.869732,0.000000}\\Delta E}$) indicates that the work is transferred to the system from the surroundings. ${\\color[rgb]{0.028509,0.250925,0.501969}[1]}$\n",
    "\n",
    "\\item[g.] For ideal gases, enthalpy is a function of both temperature and pressure, while for real gases it is only a function of temperature. ${\\color[rgb]{0.028509,0.250925,0.501969}[1]}$\n",
    "\n",
    "\\end{enumerate}"
   ]
  }
 ],
 "metadata": {
  "kernelspec": {
   "display_name": "Python 3 (ipykernel)",
   "language": "python",
   "name": "python3"
  },
  "language_info": {
   "codemirror_mode": {
    "name": "ipython",
    "version": 3
   },
   "file_extension": ".py",
   "mimetype": "text/x-python",
   "name": "python",
   "nbconvert_exporter": "python",
   "pygments_lexer": "ipython3",
   "version": "3.11.1"
  }
 },
 "nbformat": 4,
 "nbformat_minor": 5
}
