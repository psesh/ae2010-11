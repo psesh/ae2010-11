{
 "cells": [
  {
   "cell_type": "raw",
   "id": "cf46df68",
   "metadata": {},
   "source": [
    "---\n",
    "title: \"Incompressible fluid mechanics paper solutions\"\n",
    "format: \n",
    "  pdf: \n",
    "    documentclass: report\n",
    "    classoption: [twocolumn, landscape]\n",
    "    lof: false\n",
    "    lot: false\n",
    "    geometry:\n",
    "      - top=30mm\n",
    "      - left=20mm\n",
    "      - heightrounded\n",
    "    fontfamily: libertinus\n",
    "    colorlinks: true\n",
    "---"
   ]
  },
  {
   "cell_type": "markdown",
   "id": "b591a728",
   "metadata": {},
   "source": [
    "# Incompressible fluid mechanics paper\n",
    "## Fall 2023 | AE2010-AE2011"
   ]
  },
  {
   "cell_type": "markdown",
   "id": "ece30982",
   "metadata": {},
   "source": [
    "## Solutions"
   ]
  },
  {
   "cell_type": "markdown",
   "id": "8c9af44d",
   "metadata": {},
   "source": [
    "### Problem 1\n",
    "\n",
    "A two-dimensional hydraulic jump occurs in a channel as shown in Figure 1. Well upstream and downstream of the jump, at sections 1 and 2, the flow is uniform and steady with velocities ${\\color[rgb]{0.059472,0.501943,0.998465}V}_1$ and ${\\color[rgb]{0.059472,0.501943,0.998465}V}_2$ and depths $h_1$ and $h_2$. "
   ]
  },
  {
   "cell_type": "raw",
   "id": "5fc3fc65",
   "metadata": {},
   "source": [
    "\\begin{figure}[h]\n",
    "    \\centering\n",
    "    \\includegraphics[width=0.36\\textwidth]{images/image_1.png}\n",
    "    \\caption{Hydraulic jump.}\n",
    "    \\label{fig:enter-label}\n",
    "\\end{figure}"
   ]
  },
  {
   "cell_type": "raw",
   "id": "3a0ff6ad",
   "metadata": {},
   "source": [
    "\\begin{enumerate}\n",
    "\\item[a.] Explain why the pressure distribution in the fluid at sections 1 and 2 may be treated as hydrostatic. ${\\color[rgb]{0.028509,0.250925,0.501969}[2]}$\n",
    "\n",
    "\\item[b.] Using the force-momentum equation show that the expression below is true; carefully state any assumptions you have made in addition to those in part (a) ${\\color[rgb]{0.028509,0.250925,0.501969}[5]}$ :\n",
    "\n",
    "$$\n",
    "h_1 {\\color[rgb]{0.059472,0.501943,0.998465}V}^2_1 + \\frac{1}{2} g h_1^2 = h_2 {\\color[rgb]{0.059472,0.501943,0.998465}V}_2^2 + \\frac{1}{2}gh_2^2\n",
    "$$\n",
    "\\end{enumerate}"
   ]
  },
  {
   "cell_type": "markdown",
   "id": "f2026e84",
   "metadata": {},
   "source": [
    "### Solution 1"
   ]
  },
  {
   "cell_type": "raw",
   "id": "99cff10c",
   "metadata": {},
   "source": [
    "\\begin{enumerate}\n",
    "\\item[a.] At both sections 1 and 2, the flow is far away from the jump, and can be treated as quasi-steady. The streamlines are horizontal and the flow has no accelerations in the vertical direction. Thus, the only force acting on the fluids is caused by the weight of the fluid, i.e., the hydrostatic pressure. *Note: It is perfectly acceptable if the students do not mention that the system can be treated as quasi-steady away from the jump. However they need to state that the pressure is caused by the volume of fluid between the surface and a given depth.*\n",
    "\\item[b.] The force momentum equation (or the steady flow momentum equation) along the horizontal direction takes the form:\n",
    "\n",
    "$$\n",
    "{\\color[rgb]{0.986252,0.007236,0.027423}F_x }+ \\int {\\color[rgb]{0.315209,0.728565,0.037706}p}dA_1 + {\\color[rgb]{0.918231,0.469102,0.038229}\\rho }A_1 {\\color[rgb]{0.059472,0.501943,0.998465}V}_1^2 = \\int {\\color[rgb]{0.315209,0.728565,0.037706}p} dA_2 + {\\color[rgb]{0.918231,0.469102,0.038229}\\rho} A_2 {\\color[rgb]{0.059472,0.501943,0.998465}V}_2^2.\n",
    "$$\n",
    "\n",
    "This can be simplified to\n",
    "\n",
    "$$\n",
    "{\\color[rgb]{0.986252,0.007236,0.027423}F_x} + \\frac{1}{2} {\\color[rgb]{0.918231,0.469102,0.038229}\\rho} g w_1 h_1^2 + {\\color[rgb]{0.918231,0.469102,0.038229}\\rho} w_1 h_1 {\\color[rgb]{0.059472,0.501943,0.998465}V}^2_1 = \\frac{1}{2} {\\color[rgb]{0.918231,0.469102,0.038229}\\rho} g w_2 h_2^2 + {\\color[rgb]{0.918231,0.469102,0.038229}\\rho} w_2 h_2 {\\color[rgb]{0.059472,0.501943,0.998465}V}_2^2\n",
    "$$\n",
    "\n",
    "The assumptions made are:\n",
    "\n",
    "\\begin{itemize}\n",
    "\\item Inviscid flow -- no viscous friction force from the bed and sides on the flow (and water is treated as incompressible by default).\n",
    "\\item Uniform channel width -- no horizontal pressure force due to channel width change. \\textit{Note: if students do not get this that is still acceptable}.\n",
    "\\item Steady flow at sections 1 and 2.\n",
    "\\end{itemize}\n",
    "\n",
    "The assumptions lead to $F_x=0$; $\\rho$ and $w$ are constant so can be divded throughout, the result is:\n",
    "\n",
    "$$\n",
    "\\frac{1}{2} gh_1^2 + h_1 {\\color[rgb]{0.059472,0.501943,0.998465}V}_1^2 = \\frac{1}{2} gh_2^2 + h_2 {\\color[rgb]{0.059472,0.501943,0.998465}V}_2^2\n",
    "$$\n",
    "\\end{enumerate}"
   ]
  },
  {
   "cell_type": "markdown",
   "id": "f03ae468",
   "metadata": {},
   "source": [
    "## Problem 2\n",
    "\n",
    "By examining the curvature of the streamlines in Figure 2, indicate the regions of higher and lower pressure on a copy of the diagram. You can ignore the hydrostatic pressure variation owing to gravity. ${\\color[rgb]{0.028509,0.250925,0.501969}[5]}$"
   ]
  },
  {
   "cell_type": "raw",
   "id": "cc9934c7",
   "metadata": {},
   "source": [
    "\\begin{figure}[h]\n",
    "    \\centering\n",
    "    \\includegraphics[width=0.30\\textwidth]{images/image_2.png}\n",
    "    \\caption{Streamline curvature.}\n",
    "    \\label{fig:enter-label}\n",
    "\\end{figure}"
   ]
  },
  {
   "cell_type": "raw",
   "id": "ab468dd1",
   "metadata": {},
   "source": [
    "Please see the annotated figure below.\n",
    "\n",
    "\\begin{figure}[h]\n",
    "    \\centering\n",
    "    \\includegraphics[width=0.45\\textwidth]{images/image_4.png}\n",
    "    \\caption{Solution to the streamline curvature.}\n",
    "    \\label{fig:enter-label}\n",
    "\\end{figure}\n",
    "\n",
    "\\textit{Note: For full credit students did not have to label the direction of flow acceleration, however, they must have clearly indicated the region of high pressure and low pressure}. "
   ]
  },
  {
   "cell_type": "markdown",
   "id": "054000bf",
   "metadata": {},
   "source": [
    "## Problem 3\n",
    "\n",
    "A viscous fluid flows down the slope of angle $\\gamma$ as shown in Figure 3. The flow is steady and the upper surface of the fluid is open to the atmosphere."
   ]
  },
  {
   "cell_type": "raw",
   "id": "15fb2d21",
   "metadata": {},
   "source": [
    "\\begin{figure}[h]\n",
    "    \\centering\n",
    "    \\includegraphics[width=0.40\\textwidth]{images/image_3.png}\n",
    "    \\caption{Viscous flow down a slope.}\n",
    "    \\label{fig:enter-label}\n",
    "\\end{figure}"
   ]
  },
  {
   "cell_type": "raw",
   "id": "6d5e370f",
   "metadata": {},
   "source": [
    "\\begin{enumerate}\n",
    "\\item[a.]  Explain, stating any assumptions, why the pressure, velocity and fluid thickness ${\\color[rgb]{0.990448,0.502245,0.032881}h}$ are independent of the streamwise position ${\\color[rgb]{0.986047,0.008333,0.501923}x}$. ${\\color[rgb]{0.028509,0.250925,0.501969}[2]}$\n",
    "\n",
    "\\item[b.]  Show that the variation of shear stress ${\\color[rgb]{0.987422,0.657266,0.082096}\\tau}$ with distance perpendicular to the slope ${\\color[rgb]{0.131302,0.999697,0.023594}y}$ is given by the equation below ${\\color[rgb]{0.028509,0.250925,0.501969}[3]}$:\n",
    "\n",
    "$$\n",
    "\\frac{d {\\color[rgb]{0.987422,0.657266,0.082096}\\tau}}{d {\\color[rgb]{0.131302,0.999697,0.023594}y}} = - {\\color[rgb]{0.918231,0.469102,0.038229}\\rho} g sin \\left( \\alpha \\right)\n",
    "$$\n",
    "\n",
    "\\item[c.]  Calculate the shear stress (units must be provided) if ${\\color[rgb]{0.990448,0.502245,0.032881}h}= {\\color[rgb]{0.990448,0.502245,0.032881}10 \\; mm}$, the density of the fluid is ${\\color[rgb]{0.918231,0.469102,0.038229}1500 \\; kg/m^3}$ and $\\alpha=10^{\\circ}$. ${\\color[rgb]{0.028509,0.250925,0.501969}[3]}$\n",
    "\n",
    "\\item[d.]  Find an expression for the velocity profile ${\\color[rgb]{0.059472,0.501943,0.998465}v}\\left({\\color[rgb]{0.131302,0.999697,0.023594}y} \\right)$. ${\\color[rgb]{0.028509,0.250925,0.501969}[5]}$\n",
    "\n",
    "\\item[e.]  Find an expression for the volumetric flow rate per unit width. ${\\color[rgb]{0.028509,0.250925,0.501969}[4]}$\n",
    "\\end{enumerate}"
   ]
  },
  {
   "cell_type": "markdown",
   "id": "a175415d",
   "metadata": {},
   "source": [
    "### Solution 3\n"
   ]
  },
  {
   "cell_type": "raw",
   "id": "79f6359d",
   "metadata": {},
   "source": [
    "\\begin{enumerate}\n",
    "\\item[a.] Streamlines are parallel so the pressure gradient along the ${\\color[rgb]{0.131302,0.999697,0.023594}y}$-direction is due to hydrostatics. Pressure on the free surface is constant and is atmospheric, so it is independent of ${\\color[rgb]{0.986047,0.008333,0.501923}x}$. Parallel streamlines implies that the ${\\color[rgb]{0.131302,0.999697,0.023594}y}$-component of velocity is zero everywhere. By continuity, this means the ${\\color[rgb]{0.986047,0.008333,0.501923}x}$-component of velocity is independent of ${\\color[rgb]{0.986047,0.008333,0.501923}x}$. \n",
    "\n",
    "\\item[b.] Forces on a small element in the flow (following the derivation in lecture, where recall $d{\\color[rgb]{0.315209,0.728565,0.037706}p} / d{\\color[rgb]{0.986047,0.008333,0.501923}x} = 0$) are given by:\n",
    "\n",
    "$$\n",
    "\\left( {\\color[rgb]{0.987422,0.657266,0.082096}\\tau} + d {\\color[rgb]{0.987422,0.657266,0.082096}\\tau} \\right) \\Delta{\\color[rgb]{0.986047,0.008333,0.501923} x} - {\\color[rgb]{0.987422,0.657266,0.082096}\\tau }\\Delta {\\color[rgb]{0.986047,0.008333,0.501923}x }+ {\\color[rgb]{0.918231,0.469102,0.038229}\\rho} g sin \\left( \\alpha \\right) \\Delta {\\color[rgb]{0.986047,0.008333,0.501923}x} d{\\color[rgb]{0.315209,0.728565,0.037706}y} = 0 \n",
    "$$\n",
    "\n",
    "This yields\n",
    "\n",
    "$$\n",
    "\\frac{d {\\color[rgb]{0.987422,0.657266,0.082096}\\tau}}{d {\\color[rgb]{0.131302,0.999697,0.023594}y} } = {\\color[rgb]{0.918231,0.469102,0.038229}\\rho} g sin \\left( \\alpha \\right)\n",
    "$$\n",
    "\n",
    "\\item[c.]  To calculate the shear stress, given the values in the question, we can integrate the expression above, i.e.,\n",
    "\n",
    "$$\n",
    "\\int d{\\color[rgb]{0.987422,0.657266,0.082096}\\tau} = \\int_{0}^{h} {\\color[rgb]{0.918231,0.469102,0.038229}\\rho} g sin \\left( \\alpha \\right) d{\\color[rgb]{0.131302,0.999697,0.023594}y} = {\\color[rgb]{0.918231,0.469102,0.038229}\\rho} g {\\color[rgb]{0.501961,0.250953,0.010028}h} sin \\left( \\alpha \\right) \n",
    "$$\n",
    "\n",
    "This yields\n",
    "\n",
    "$$\n",
    "{\\color[rgb]{0.987422,0.657266,0.082096}\\tau} = {\\color[rgb]{0.918231,0.469102,0.038229}1500} \\; {\\color[rgb]{0.918231,0.469102,0.038229}\\frac{kg}{m^3}} \\times 9.81 \\; \\frac{m}{s^2} \\times {\\color[rgb]{0.501961,0.250953,0.010028}0.01} \\; {\\color[rgb]{0.501961,0.250953,0.010028}m} \\times sin \\left( 10^{\\circ} \\right) = 25.55 \\; \\frac{kg}{m \\cdot s^2},\n",
    "$$\n",
    "\n",
    "which is equivalent to $25.55  \\; Pa$. \n",
    "\n",
    "\\item[d.] To work out the velocity profile, we use\n",
    "\n",
    "\n",
    "$$\n",
    "{\\color[rgb]{0.501963,0.000046,0.501966}\\mu }\\frac{d^2 {\\color[rgb]{0.059472,0.501943,0.998465}v}_{{\\color[rgb]{0.986047,0.008333,0.501923}x}} }{d{\\color[rgb]{0.131302,0.999697,0.023594}y}^2} = - {\\color[rgb]{0.918231,0.469102,0.038229}\\rho} g sin \\left( \\alpha \\right)\n",
    "$$\n",
    "\n",
    "$$\n",
    "\\Rightarrow \\int {\\color[rgb]{0.501963,0.000046,0.501966}\\mu }\\frac{d^2 {\\color[rgb]{0.059472,0.501943,0.998465}v}_{{\\color[rgb]{0.986047,0.008333,0.501923}x}} }{d{\\color[rgb]{0.131302,0.999697,0.023594}y}^2} d{\\color[rgb]{0.131302,0.999697,0.023594}y} = - \\int  {\\color[rgb]{0.918231,0.469102,0.038229}\\rho} g sin \\left( \\alpha \\right) d{\\color[rgb]{0.131302,0.999697,0.023594}y}\n",
    "$$\n",
    "\n",
    "$$\n",
    "\\Rightarrow  {\\color[rgb]{0.501963,0.000046,0.501966}\\mu }\\frac{d {\\color[rgb]{0.059472,0.501943,0.998465}v}_{{\\color[rgb]{0.986047,0.008333,0.501923}x}} }{d{\\color[rgb]{0.131302,0.999697,0.023594}y}}  = - {\\color[rgb]{0.918231,0.469102,0.038229}\\rho} g sin \\left( \\alpha \\right) {\\color[rgb]{0.131302,0.999697,0.023594}y} + C_1\n",
    "$$\n",
    "\n",
    "Integrating the above again, yields\n",
    "\n",
    "$$\n",
    "\\Rightarrow  {\\color[rgb]{0.501963,0.000046,0.501966}\\mu } {\\color[rgb]{0.059472,0.501943,0.998465}v}\\left({\\color[rgb]{0.131302,0.999697,0.023594}y} \\right) = - {\\color[rgb]{0.918231,0.469102,0.038229}\\rho} g sin \\left( \\alpha \\right) \\frac{{\\color[rgb]{0.131302,0.999697,0.023594}y}^2}{2} + C_1{\\color[rgb]{0.131302,0.999697,0.023594}y} + C_2\n",
    "$$\n",
    "\n",
    "where note we have substituted ${\\color[rgb]{0.059472,0.501943,0.998465}v}_{{\\color[rgb]{0.986047,0.008333,0.501923}x}} \\equiv {\\color[rgb]{0.059472,0.501943,0.998465}v}\\left({\\color[rgb]{0.131302,0.999697,0.023594} y} \\right)$ for notational clarity.\n",
    "\n",
    "\n",
    "Next, we need to specify the boundary conditions required to solve this. At the free surface, there is no shear stress and thus $d{\\color[rgb]{0.059472,0.501943,0.998465}v} / d{\\color[rgb]{0.131302,0.999697,0.023594}y} = 0$ at ${\\color[rgb]{0.131302,0.999697,0.023594} y}={\\color[rgb]{0.501961,0.250953,0.010028}h}$. Moreover, at the wall, the velocity is zero, i.e., ${\\color[rgb]{0.059472,0.501943,0.998465}v}=0$ when ${\\color[rgb]{0.131302,0.999697,0.023594} y}=0$. This results in\n",
    "\n",
    "$$\n",
    "C_1 = {\\color[rgb]{0.918231,0.469102,0.038229}\\rho} g sin \\left( \\alpha \\right) {\\color[rgb]{0.501961,0.250953,0.010028}h}, \\; \\; \\; \\; C_2 = 0.\n",
    "$$\n",
    "\n",
    "Thus, our final velocity profile has the form\n",
    "\n",
    "$$\n",
    "{\\color[rgb]{0.059472,0.501943,0.998465}v}\\left({\\color[rgb]{0.131302,0.999697,0.023594}y} \\right) = - \\frac{{\\color[rgb]{0.918231,0.469102,0.038229}\\rho} g}{{\\color[rgb]{0.501963,0.000046,0.501966}\\mu}} sin \\left( \\alpha \\right) \\left( \\frac{{\\color[rgb]{0.131302,0.999697,0.023594}y}^2}{2} - {\\color[rgb]{0.501961,0.250953,0.010028}h}{\\color[rgb]{0.131302,0.999697,0.023594}y} \\right)\n",
    "$$\n",
    "\n",
    "\\item[e.] The volumetric flow rate per unit width, ${\\color[rgb]{0.000066,0.001801,0.998229}Q}_{w}$ is given by\n",
    "\n",
    "$$\n",
    "{\\color[rgb]{0.000066,0.001801,0.998229}Q}_{w} = \\int_{0}^{{\\color[rgb]{0.501961,0.250953,0.010028}h}} {\\color[rgb]{0.059472,0.501943,0.998465}v} \\left({\\color[rgb]{0.131302,0.999697,0.023594}y} \\right) d{\\color[rgb]{0.131302,0.999697,0.023594}y} = \\int_{0}^{{\\color[rgb]{0.501961,0.250953,0.010028}h}} -\\frac{{\\color[rgb]{0.918231,0.469102,0.038229}\\rho} g}{{\\color[rgb]{0.501963,0.000046,0.501966}\\mu}} sin \\left( \\alpha \\right) \\left( \\frac{{\\color[rgb]{0.131302,0.999697,0.023594}y}^2}{2} - {\\color[rgb]{0.501961,0.250953,0.010028}h} {\\color[rgb]{0.131302,0.999697,0.023594}y}\\right)d{\\color[rgb]{0.131302,0.999697,0.023594}y}\n",
    "$$\n",
    "\n",
    "$$\n",
    "\\Rightarrow {\\color[rgb]{0.000066,0.001801,0.998229}Q}_{w} =  -\\frac{{\\color[rgb]{0.918231,0.469102,0.038229}\\rho} g}{{\\color[rgb]{0.501963,0.000046,0.501966}\\mu}} sin \\left( \\alpha \\right) \\left[  \\frac{{\\color[rgb]{0.131302,0.999697,0.023594}y}^3}{6} - {\\color[rgb]{0.501961,0.250953,0.010028}h}\\frac{{\\color[rgb]{0.131302,0.999697,0.023594}y}^2}{2} \\right]_{0}^{{\\color[rgb]{0.501961,0.250953,0.010028}h}}\n",
    "$$\n",
    "\n",
    "$$\n",
    "{\\color[rgb]{0.000066,0.001801,0.998229}Q}_{w} =  \\frac{{\\color[rgb]{0.918231,0.469102,0.038229}\\rho} g}{{\\color[rgb]{0.501963,0.000046,0.501966}\\mu}} sin \\left( \\alpha \\right)  \\frac{{\\color[rgb]{0.501961,0.250953,0.010028}h}^3}{3}  \n",
    "$$\n",
    "\n",
    "Leaving the answer in the above form is perfectly acceptable for full credit. \n",
    "\\end{enumerate}"
   ]
  },
  {
   "cell_type": "markdown",
   "id": "143091cb",
   "metadata": {},
   "source": [
    "## Problem 4"
   ]
  },
  {
   "cell_type": "raw",
   "id": "dec507f0",
   "metadata": {},
   "source": [
    "Please clarify whether the entire statement is true or false. You are **not** required to justify your answers for statements a. to g. For statements h. and i. some justification is required. \n",
    "\n",
    "\\begin{enumerate}\n",
    "\\item[a.] A shear force is equivalent to a friction force. ${\\color[rgb]{0.028509,0.250925,0.501969}[1]}$. \\textbf{False}\n",
    "\n",
    "\\item[b.] In streamline coordinates, in 2D flows, there are two components of velocity: one tangent to the velocity vector and one normal to the velocity vector. Neither can ever be zero. ${\\color[rgb]{0.028509,0.250925,0.501969}[1]}$. \\textbf{False}\n",
    "\n",
    "\\item[c.] The acceleration in the normal direction (following the question above) is always zero. ${\\color[rgb]{0.028509,0.250925,0.501969}[1]}$. \\textbf{False}\n",
    "\n",
    "\\item[d.] For flows moving over bodies, there is likely a competition between the diffusion of momentum and the pressure gradient. ${\\color[rgb]{0.028509,0.250925,0.501969}[1]}$. \\textbf{True}\n",
    "\n",
    "\n",
    "\\item[e.] You can always apply Bernoulli's principle along a streamline and across it. ${\\color[rgb]{0.028509,0.250925,0.501969}[1]}$. \\textbf{False}\n",
    "\n",
    "\n",
    "\\item[f.] A static pressure measurement is made where the flow velocity has been brought to zero. ${\\color[rgb]{0.028509,0.250925,0.501969}[1]}$. \\textbf{False}\n",
    "\n",
    "\\item[g.] Flow through veins and arteries is an example of Couette flow. ${\\color[rgb]{0.028509,0.250925,0.501969}[1]}$. \\textbf{False}\n",
    "\n",
    "\\item[g.] The velocity field given by $\\mathbf{{\\color[rgb]{0.059472,0.501943,0.998465}v}} = x^3 \\hat{\\mathbf{e}}_{x} - 5 y \\hat{\\mathbf{e}}_{y}$ is a source at location $({\\color[rgb]{0.986047,0.008333,0.501923}x}, {\\color[rgb]{0.131302,0.999697,0.023594}y}) = (2,1)$. ${\\color[rgb]{0.028509,0.250925,0.501969}[4]}$. \\textbf{True}\n",
    "\n",
    "To clarify the above, consider that the definition of a source is where $\\nabla \\cdot \\mathbf{{\\color[rgb]{0.059472,0.501943,0.998465}v}} > 0$. Thus, calculating the divergence, we have\n",
    "\n",
    "$$\n",
    "\\frac{\\partial {\\color[rgb]{0.059472,0.501943,0.998465}v}_{{\\color[rgb]{0.986047,0.008333,0.501923}x}} }{\\partial {\\color[rgb]{0.986047,0.008333,0.501923}x}} + \\frac{\\partial {\\color[rgb]{0.059472,0.501943,0.998465}v}_{{\\color[rgb]{0.131302,0.999697,0.023594}y}} }{\\partial {\\color[rgb]{0.131302,0.999697,0.023594}y}} = 3{\\color[rgb]{0.986047,0.008333,0.501923}x}^2 - 5\n",
    "$$\n",
    "\n",
    "At the coordinates $\\left(2, 1 \\right)$, the above becomes $12 -5 = 7 > 0 $. \n",
    "\n",
    "\n",
    "\\item[i.] The expression ${\\color[rgb]{0.990448,0.502245,0.032881}\\rho} \\left(\\nabla \\cdot \\mathbf{{\\color[rgb]{0.059472,0.501943,0.998465}v}} \\right)=0$ is another way to express continuity for incompressible flows, where ${\\color[rgb]{0.990448,0.502245,0.032881}\\rho}$ is the density and $\\mathbf{{\\color[rgb]{0.059472,0.501943,0.998465}v}}$ is the velocity vector. ${\\color[rgb]{0.028509,0.250925,0.501969}[3]}$.  \\textbf{True}\n",
    "\n",
    "The term continuity implies conservation of mass, i.e., $\\dot{m}_{in} = \\dot{m}_{out}$. One can re-write the expression above to yield \n",
    "\n",
    "$$\n",
    "{\\color[rgb]{0.918231,0.469102,0.038229}\\rho} \\left( \\nabla \\cdot \\mathbf{{\\color[rgb]{0.059472,0.501943,0.998465}v}} \\right) = \\left( \\nabla \\cdot {\\color[rgb]{0.918231,0.469102,0.038229}\\rho} \\mathbf{{\\color[rgb]{0.059472,0.501943,0.998465}v}} \\right) = 0 \\Rightarrow {\\color[rgb]{0.918231,0.469102,0.038229}\\rho} A \\mathbf{{\\color[rgb]{0.059472,0.501943,0.998465}v}} = C\n",
    "$$\n",
    "\n",
    "where $C$ is a constant and $A$ is the area. \n",
    "\n",
    "\\end{enumerate}"
   ]
  },
  {
   "cell_type": "code",
   "execution_count": null,
   "id": "7501ddb6",
   "metadata": {},
   "outputs": [],
   "source": []
  }
 ],
 "metadata": {
  "kernelspec": {
   "display_name": "Python 3 (ipykernel)",
   "language": "python",
   "name": "python3"
  },
  "language_info": {
   "codemirror_mode": {
    "name": "ipython",
    "version": 3
   },
   "file_extension": ".py",
   "mimetype": "text/x-python",
   "name": "python",
   "nbconvert_exporter": "python",
   "pygments_lexer": "ipython3",
   "version": "3.11.1"
  }
 },
 "nbformat": 4,
 "nbformat_minor": 5
}
