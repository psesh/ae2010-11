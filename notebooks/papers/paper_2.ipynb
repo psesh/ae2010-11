{
 "cells": [
  {
   "cell_type": "raw",
   "id": "cf46df68",
   "metadata": {},
   "source": [
    "---\n",
    "title: \"Thermodynamics paper\"\n",
    "format: \n",
    "  pdf: \n",
    "    documentclass: report\n",
    "    classoption: [twocolumn, landscape]\n",
    "    lof: false\n",
    "    lot: false\n",
    "    geometry:\n",
    "      - top=30mm\n",
    "      - left=20mm\n",
    "      - heightrounded\n",
    "    fontfamily: libertinus\n",
    "    colorlinks: true\n",
    "---"
   ]
  },
  {
   "cell_type": "markdown",
   "id": "b591a728",
   "metadata": {},
   "source": [
    "# Thermodynamics paper\n",
    "## Spring 2024 | AE2010-AE2011\n",
    "## Name: "
   ]
  },
  {
   "cell_type": "markdown",
   "id": "ece30982",
   "metadata": {},
   "source": [
    "#### Instructions: \n",
    "Please do not attempt to copy or discuss the contents of this paper with any of your classmates during the course of this paper. Any such attempt, or even the action of glancing over someone else’s work will be viewed as a violation of Georgia Tech’s Honor Code, and this will result in a zero-point grade. Additionally, you are not permitted to use any electronic device during the course of this paper, aside from a standard calculator. You are permitted to use the restrooms, however, prior to leaving the lecture theatre, you are required to leave your cellular device(s) with the instructor. You may collect these once you return. As discussed, you are permitted to use two sides of a single 8.5” x 11” sheet of paper for formulas, notes, or derivations that you may find useful. There is no restriction on what your notes may comprise. Please do not turn in any scratch paper, and ensure your submitted answers do indeed answer the question that is being asked. Carefully read each question as the ask may be slightly different from questions you have practiced before. The numerical value after each question, e.g., ${\\color[rgb]{0.028509,0.250925,0.501969}[5]}$ denotes the number of marks assigned to that question. Finally, please write down all your answers on **this** provided sheet, along with your derivations and calculations that you want graded."
   ]
  },
  {
   "cell_type": "markdown",
   "id": "8c9af44d",
   "metadata": {},
   "source": [
    "### Problem 1\n",
    "\n",
    "It is desired to raise the temperature of water (specific heat capacity ${\\color[rgb]{0.986252,0.007236,0.027423}c}_{\\color[rgb]{0.315209,0.728565,0.037706}p}$) from ${\\color[rgb]{0.164799,0.878862,0.723179} T_0}$ to ${\\color[rgb]{0.164799,0.878862,0.723179} T_1}$ while it is flowing at a mass flow rate of $\\dot{m}$ in a constant area duct as shown in Figure \\ref{fig:1}. \n",
    "\n",
    "\\begin{figure}[h]\n",
    "    \\centering\n",
    "    \\includegraphics[width=0.4\\textwidth]{images/image_P1.png}\n",
    "    \\caption{Constant area duct.}\n",
    "    \\label{fig:1}\n",
    "\\end{figure}\n",
    "\n",
    "\n",
    "\\begin{enumerate}\n",
    "\\item[a.] Using the steady flow energy equation, show that \n",
    "$$\n",
    "{\\color[rgb]{0.501967,0.001556,0.998511}\\delta \\dot{Q}} = \\dot{m} {\\color[rgb]{0.986252,0.007236,0.027423}c}_{\\color[rgb]{0.315209,0.728565,0.037706}p} {\\color[rgb]{0.164799,0.878862,0.723179}\\delta T}. \\; {\\color[rgb]{0.028509,0.250925,0.501969}[3]}\n",
    "$$\n",
    "\n",
    "\\vspace{4 cm}\n",
    "\\item[b.] If the environment (surroundings) is at ${\\color[rgb]{0.164799,0.878862,0.723179} T_0}$, show that using heat pumps, the minimum power required is given by\n",
    "$$\n",
    "{\\color[rgb]{0.562040,0.190215,0.568721}\\dot{W}_{min}} = \\dot{m} {\\color[rgb]{0.986252,0.007236,0.027423}c}_{\\color[rgb]{0.315209,0.728565,0.037706}p} \\left[\\left({\\color[rgb]{0.164799,0.878862,0.723179} T_1} - {\\color[rgb]{0.164799,0.878862,0.723179} T_0} \\right) - {\\color[rgb]{0.164799,0.878862,0.723179} T_0 } ln \\left( \\frac{{\\color[rgb]{0.164799,0.878862,0.723179} T_1}}{{\\color[rgb]{0.164799,0.878862,0.723179} T_0}} \\right) \\right]\n",
    "$$\n",
    "and determine the rate at which heat is extracted from the environment ${\\color[rgb]{0.028509,0.250925,0.501969}[6]}$. \n",
    "\\vspace{4 cm}\n",
    "\\end{enumerate}"
   ]
  },
  {
   "cell_type": "markdown",
   "id": "054000bf",
   "metadata": {},
   "source": [
    "\\vspace{4 cm}\n",
    "### Problem 2\n",
    "\n",
    "A compressor is used to increase the density of air $(R = 0.287 \\; kJ / (kg \\cdot K ))$ entering a car engine. Ambient air at ${\\color[rgb]{0.315209,0.728565,0.037706}100 \\; kPa}$ and ${\\color[rgb]{0.164799,0.878862,0.723179} 300 \\; K}$ enters the compressor at a volumetric flow rate of $250$ liters per second. Note that 1 liter of air is $0.001 \\; m^3$. The power input to the compressor is $20 \\; kW$. You may assume a ${\\color[rgb]{0.986252,0.007236,0.027423}c}_{\\color[rgb]{0.315209,0.728565,0.037706}p}$ value of ${\\color[rgb]{0.986252,0.007236,0.027423}1.006 \\; kJ / (kg \\cdot K )}$. \n",
    "\n",
    "\\begin{enumerate}\n",
    "\\item[a.] Calculate the air mass flow rate and the specific work input to the compressor. ${\\color[rgb]{0.028509,0.250925,0.501969}[4]}$ \\\\ \n",
    "${\\color[rgb]{0.999995,1.000000,1.000000} Use this space for your solution. Ideally try to have the entire solution fit within this space.}$\n",
    "\\vspace{6 cm}\n",
    "\\item[b.] Assuming the compression is adiabatic and reversible, and neglecting changes in kinetic and potential energy, calculate the temperature and pressure at the exit from the compressor. ${\\color[rgb]{0.028509,0.250925,0.501969}[4]}$\n",
    "\\vspace{4 cm}\n",
    "\\item[c.] Find the ratio of outlet to inlet air density. ${\\color[rgb]{0.028509,0.250925,0.501969}[3]}$\n",
    "\\vspace{4 cm}\n",
    "\\end{enumerate}"
   ]
  },
  {
   "cell_type": "markdown",
   "id": "2e56e950",
   "metadata": {},
   "source": [
    "\\vspace{4 cm}\n",
    "### Problem 3\n",
    "Consider a heat engine operating between two constant temperature reservoirs ${\\color[rgb]{0.164799,0.878862,0.723179}T_1}$ and ${\\color[rgb]{0.164799,0.878862,0.723179}T_2}$, where ${\\color[rgb]{0.164799,0.878862,0.723179} T_1}$ is the higher temperature. Use the Clausius inequality to show that ${\\color[rgb]{0.501967,0.001556,0.998511}Q_1} / {\\color[rgb]{0.164799,0.878862,0.723179}T_1} \\leq {\\color[rgb]{0.501967,0.001556,0.998511}Q_2} / {\\color[rgb]{0.164799,0.878862,0.723179}T_2}$ where ${\\color[rgb]{0.501967,0.001556,0.998511}Q_1}$ and ${\\color[rgb]{0.501967,0.001556,0.998511}Q_2}$ are the heat input and output respectively ${\\color[rgb]{0.028509,0.250925,0.501969}[2]}$. \n",
    "\\vspace{2 cm}\n",
    "\n",
    "Hence derive a relationship between the maximum efficiency of the engine and the temperatures ${\\color[rgb]{0.164799,0.878862,0.723179}T_1}$ and ${\\color[rgb]{0.164799,0.878862,0.723179}T_2}$ ${\\color[rgb]{0.028509,0.250925,0.501969}[4]}$.\n",
    "\n",
    "\\vspace{4 cm}"
   ]
  },
  {
   "cell_type": "markdown",
   "id": "5bed6c85",
   "metadata": {},
   "source": [
    "\\vspace{4 cm}\n",
    "### Problem 4\n",
    "Please clarify whether the entire statement is true or false. You are **not** required to justify your answers for statements.\n",
    "\n",
    "\\begin{enumerate}\n",
    "\\item[a.] In taking a system between two fixed states, the heat transfer between the system and the surroundings is independent of the path taken. ${\\color[rgb]{0.028509,0.250925,0.501969}[1]}$\n",
    "\n",
    "\\item[b.] The entropy of a system is an extensive thermodynamic property. It represents the inability of a system's thermal energy to yield useful mechanical work. ${\\color[rgb]{0.028509,0.250925,0.501969}[1]}$\n",
    "\n",
    "\\item[c.] For perfect gases, ${\\color[rgb]{0.878548,0.880173,0.060757}c}_{\\color[rgb]{0.079785,0.618358,0.483717}V}$ and ${\\color[rgb]{0.986252,0.007236,0.027423}c}_{\\color[rgb]{0.315209,0.728565,0.037706}p}$ are not constant. ${\\color[rgb]{0.028509,0.250925,0.501969}[1]}$\n",
    "\n",
    "\\item[d.] If a system undergoes an irreversible process, under no circumstances can it be returned to its initial state. ${\\color[rgb]{0.028509,0.250925,0.501969}[1]}$\n",
    "\n",
    "\\item[e.] There are three main ways for heat to transfer: (i) conduction; (ii) radiation, and (iii) convection. ${\\color[rgb]{0.028509,0.250925,0.501969}[1]}$\n",
    "\n",
    "\\item[f.] All adiabatic processes are reversible. ${\\color[rgb]{0.028509,0.250925,0.501969}[1]}$\n",
    "\n",
    "\\item[g.] Isentropic compression can be shown as a vertically straight line between two isobars on a temperature vs. specific entropy graph, i.e., ${\\color[rgb]{0.164799,0.878862,0.723179}T}$ vs. ${\\color[rgb]{0.599997,0.600015,0.600005}s}$. The higher pressure values lie vertically above lower pressure values. ${\\color[rgb]{0.028509,0.250925,0.501969}[1]}$\n",
    "\n",
    "\\end{enumerate}"
   ]
  }
 ],
 "metadata": {
  "kernelspec": {
   "display_name": "Python 3 (ipykernel)",
   "language": "python",
   "name": "python3"
  },
  "language_info": {
   "codemirror_mode": {
    "name": "ipython",
    "version": 3
   },
   "file_extension": ".py",
   "mimetype": "text/x-python",
   "name": "python",
   "nbconvert_exporter": "python",
   "pygments_lexer": "ipython3",
   "version": "3.11.1"
  }
 },
 "nbformat": 4,
 "nbformat_minor": 5
}
