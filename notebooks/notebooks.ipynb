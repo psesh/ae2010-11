{
 "cells": [
  {
   "cell_type": "raw",
   "id": "d145cc09",
   "metadata": {},
   "source": [
    "---\n",
    "title: \"Notebooks\"\n",
    "format:\n",
    "    html:\n",
    "        code-fold: true\n",
    "jupyter: python3\n",
    "fontsize: 1.2em\n",
    "linestretch: 1.5\n",
    "toc: true\n",
    "notebook-view: true\n",
    "---"
   ]
  },
  {
   "cell_type": "markdown",
   "id": "d629b56a",
   "metadata": {},
   "source": [
    "Below you will find a list of all the notebooks. \n",
    "\n",
    "- <a href=\"demo.html\" style=\"text-decoration: none\">Jupyter introduction</a> \n",
    "- <a href=\"for_loops.html\" style=\"text-decoration: none\">Lists and For loops</a> \n",
    "- <a href=\"vector_fields.html\" style=\"text-decoration: none\">Vector fields</a> \n",
    "- <a href=\"couette_flow.html\" style=\"text-decoration: none\">Couette flow</a> \n",
    "- <a href=\"poiseuille_flow.html\" style=\"text-decoration: none\">Poiseuille flow</a> \n",
    "- <a href=\"flow_around_bend.html\" style=\"text-decoration: none\">Flow around a bend</a> \n",
    "- <a href=\"normal_shocks.html\" style=\"text-decoration: none\">Normal shocks</a> \n",
    "- <a href=\"supersonic_flow_friction.html\" style=\"text-decoration: none\">Supersonic flow with friction</a> \n",
    "- <a href=\"dataframes.html\" style=\"text-decoration: none\">Dataframes and plotly</a> "
   ]
  }
 ],
 "metadata": {
  "kernelspec": {
   "display_name": "Python 3 (ipykernel)",
   "language": "python",
   "name": "python3"
  },
  "language_info": {
   "codemirror_mode": {
    "name": "ipython",
    "version": 3
   },
   "file_extension": ".py",
   "mimetype": "text/x-python",
   "name": "python",
   "nbconvert_exporter": "python",
   "pygments_lexer": "ipython3",
   "version": "3.11.1"
  }
 },
 "nbformat": 4,
 "nbformat_minor": 5
}
