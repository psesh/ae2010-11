{
 "cells": [
  {
   "cell_type": "raw",
   "id": "cf46df68",
   "metadata": {},
   "source": [
    "---\n",
    "title: \"Thermodynamics paper\"\n",
    "format: \n",
    "  pdf: \n",
    "    documentclass: report\n",
    "    classoption: [twocolumn, landscape]\n",
    "    lof: false\n",
    "    lot: false\n",
    "    geometry:\n",
    "      - top=30mm\n",
    "      - left=20mm\n",
    "      - heightrounded\n",
    "    fontfamily: libertinus\n",
    "    colorlinks: true\n",
    "---"
   ]
  },
  {
   "cell_type": "markdown",
   "id": "b591a728",
   "metadata": {},
   "source": [
    "# Thermodynamics paper\n",
    "## Fall 2023 | AE2010-AE2011\n",
    "## Name: "
   ]
  },
  {
   "cell_type": "markdown",
   "id": "ece30982",
   "metadata": {},
   "source": [
    "#### Instructions: \n",
    "Please do not attempt to copy or discuss the contents of this paper with any of your classmates during the course of this paper. Any such attempt, or even the action of glancing over someone else’s work will be viewed as a violation of Georgia Tech’s Honor Code, and this will result in a zero-point grade. Additionally, you are not permitted to use any electronic device during the course of this paper, aside from a standard calculator. You are permitted to use the restrooms, however, prior to leaving the lecture theatre, you are required to leave your cellular device(s) with the instructor. You may collect these once you return. As discussed, you are permitted to use two sides of a single 8.5” x 11” sheet of paper for formulas, notes, or derivations that you may find useful. There is no restriction on what your notes may comprise. Please do not turn in any scratch paper, and ensure your submitted answers do indeed answer the question that is being asked. Carefully read each question as the ask may be slightly different from questions you have practiced before. The numerical value after each question, e.g., ${\\color[rgb]{0.028509,0.250925,0.501969}[5]}$ denotes the number of marks assigned to that question. Finally, please write down all your answers on **this** provided sheet, along with your derivations and calculations that you want graded."
   ]
  },
  {
   "cell_type": "markdown",
   "id": "8c9af44d",
   "metadata": {},
   "source": [
    "### Problem 1\n",
    "\n",
    "Air flows steadily and isothermally at ${\\color[rgb]{0.164799,0.878862,0.723179}27^{\\circ} \\; C}$ along a horizontal pipe of constant crosssectional area $100 \\; cm^2$.  At point A the pressure is ${\\color[rgb]{0.315209,0.728565,0.037706}3 \\; bar}$ and the mean velocity is ${\\color[rgb]{0.059472,0.501943,0.998465}160 \\; m/s}$.  At point B the pressure is ${\\color[rgb]{0.315209,0.728565,0.037706}2 \\; bar}$. \n",
    "\n",
    "\\begin{enumerate}\n",
    "\n",
    "\\item[a.] Calculate the velocity at point B, assuming air is an ideal gas ${\\color[rgb]{0.028509,0.250925,0.501969}[4]}$.  \n",
    "\n",
    "\\vspace{3 cm}\n",
    "\n",
    "\\item [b.]Find the heat-transfer per kg of air between the two points ${\\color[rgb]{0.028509,0.250925,0.501969}[5]}$. \n",
    "\n",
    "\\vspace{4 cm}\n",
    "\n",
    "\\item [c.] Assuming the flow is from A to B, calculate the increase in specific entropy due to irreversibility.  Suggest a physical cause for the irreversibility, and comment on the validity of the assumption that the flow is from A to B. Use an R value of $287 \\; J /\\left( kg \\cdot K \\right)$ ${\\color[rgb]{0.028509,0.250925,0.501969}[5]}$.  \n",
    "\n",
    "\\vspace{6 cm}\n",
    "\\end{enumerate}\n",
    "\\"
   ]
  },
  {
   "cell_type": "markdown",
   "id": "054000bf",
   "metadata": {},
   "source": [
    "\\vspace{4 cm}\n",
    "### Problem 2\n",
    "\\begin{enumerate}\n",
    "\\item[a.] Use the first law of thermodynamics, in the form $\n",
    "{\\color[rgb]{0.334690,0.296180,0.998454}dq} = {\\color[rgb]{0.878548,0.880173,0.060757}du} + {\\color[rgb]{0.315209,0.728565,0.037706}p} {\\color[rgb]{0.918231,0.469102,0.038229}d\\nu}\n",
    "$ to show that for a reversible adiabatic process, the incremental change in specific enthalpy is ${\\color[rgb]{0.986252,0.007236,0.027423}dh} = {\\color[rgb]{0.918231,0.469102,0.038229}\\nu} {\\color[rgb]{0.315209,0.728565,0.037706}dp}$. Hence show that when an incompressible fluid undergoes a reversible adiabatic process, the total change in specific enthalpy is given by the expression below  \n",
    "${\\color[rgb]{0.986252,0.007236,0.027423}\\Delta h} = \\frac{{\\color[rgb]{0.315209,0.728565,0.037706}\\Delta p}}{{\\color[rgb]{0.918231,0.469102,0.038229}\\rho}}$. ${\\color[rgb]{0.028509,0.250925,0.501969}[5]}$ \n",
    "\\\\\n",
    "\\vspace{7 cm}\n",
    "\\\\\n",
    "\\item[b.] Water flows through an insulated pump. On the assumption that the flow is reversible, use the steady-flow energy equation along with the equation ${\\color[rgb]{0.986252,0.007236,0.027423}\\Delta h} = \\frac{{\\color[rgb]{0.315209,0.728565,0.037706}\\Delta p}}{{\\color[rgb]{0.918231,0.469102,0.038229}\\rho}}$ to show that the pump power is given by\n",
    "\n",
    "$$\n",
    "{\\color[rgb]{0.562040,0.190215,0.568721}\\dot{W}_{p}} = \\frac{\\dot{m}}{{\\color[rgb]{0.918231,0.469102,0.038229}\\rho}} \\left[ \\left({\\color[rgb]{0.315209,0.728565,0.037706}p_2} - {\\color[rgb]{0.315209,0.728565,0.037706}p_1} \\right) + \\frac{1}{2} {\\color[rgb]{0.918231,0.469102,0.038229}\\rho} \\left( {\\color[rgb]{0.059472,0.501943,0.998465}v_2}^2 - {\\color[rgb]{0.059472,0.501943,0.998465}v_1}^2 \\right) \\right]\n",
    "$$\n",
    "\n",
    "where $\\dot{m}$ is the mass flow rate, ${\\color[rgb]{0.315209,0.728565,0.037706}p_1}$ and ${\\color[rgb]{0.059472,0.501943,0.998465}v_1}$ are the pressure and velocity at the inlet, and ${\\color[rgb]{0.315209,0.728565,0.037706}p_2}$ and ${\\color[rgb]{0.059472,0.501943,0.998465}v_2}$ are the pressure and velocity at the outlet. You may neglect changes in potential energy. ${\\color[rgb]{0.028509,0.250925,0.501969}[5]}$\n",
    "\n",
    "\\vspace{5 cm}\n",
    "\n",
    "\\item[c.] Why will the flow not be reversible in practice? ${\\color[rgb]{0.028509,0.250925,0.501969}[2]}$\n",
    "\n",
    "\\vspace{2 cm}\n",
    "\n",
    "\\end{enumerate}\n",
    "\\"
   ]
  },
  {
   "cell_type": "markdown",
   "id": "2e56e950",
   "metadata": {},
   "source": [
    "\\vspace{4 cm}\n",
    "### Problem 3\n",
    "The figure below is part of an energy storage device comprising a cyclic heat engine operating between a finite hot thermal reservoir and an infinite cold thermal reservoir. The hot reservoir has a thermal capacity of $1 \\times 10^{6} Joules / K$ and its initial temperature is ${\\color[rgb]{0.164799,0.878862,0.723179}600 \\; K}$. The cold reservoir is at a constant temperature of ${\\color[rgb]{0.164799,0.878862,0.723179}300 \\; K}$. \n",
    "\n",
    "\\begin{figure}[h]\n",
    "    \\centering\n",
    "    \\includegraphics[width=0.2\\textwidth]{images/image_1.png}\n",
    "    \\caption{Cyclic heat engine.}\n",
    "    \\label{fig:enter-label}\n",
    "\\end{figure}\n",
    "\n",
    "\n",
    "\n",
    "\\begin{enumerate}\n",
    "\\item[a.] What assumption must one make on this cyclic heat engine to ensure that maximum possible work can be produced? ${\\color[rgb]{0.028509,0.250925,0.501969}[2]}$\n",
    "\\vspace{1 cm}\n",
    "\\item[b.] Calculate the maximum possible work output that can be produced by the device.  ${\\color[rgb]{0.028509,0.250925,0.501969}[8]}$\n",
    "\\\\\n",
    "\\vspace{8 cm}\n",
    "\\end{enumerate}\n",
    "\\\n"
   ]
  },
  {
   "cell_type": "markdown",
   "id": "5bed6c85",
   "metadata": {},
   "source": [
    "\\vspace{4 cm}\n",
    "### Problem 4\n",
    "Please clarify whether the entire statement is true or false. You are **not** required to justify your answers for statements.\n",
    "\n",
    "\\begin{enumerate}\n",
    "\\item[a.] Shock-induced boundary layer separation and viscous dissipation are examples of irreversibilities. ${\\color[rgb]{0.028509,0.250925,0.501969}[1]}$\n",
    "\n",
    "\\item[b.] The entropy of a system is an extensive thermodynamic property. It represents the inability of a system's thermal energy to yield useful mechanical work. ${\\color[rgb]{0.028509,0.250925,0.501969}[1]}$\n",
    "\n",
    "\\item[c.] For perfect gases, ${\\color[rgb]{0.878548,0.880173,0.060757}c}_{\\color[rgb]{0.079785,0.618358,0.483717}V}$ and ${\\color[rgb]{0.986252,0.007236,0.027423}c}_{\\color[rgb]{0.315209,0.728565,0.037706}p}$ are not constant. ${\\color[rgb]{0.028509,0.250925,0.501969}[1]}$\n",
    "\n",
    "\\item[d.] Enthalpy is by definition the sum of internal energy and pressure multiplied by volume, i.e., ${\\color[rgb]{0.986252,0.007236,0.027423}H} = {\\color[rgb]{0.878548,0.880173,0.060757}U} + {\\color[rgb]{0.315209,0.728565,0.037706}p}{\\color[rgb]{0.079785,0.618358,0.483717}V}$. ${\\color[rgb]{0.028509,0.250925,0.501969}[1]}$\n",
    "\n",
    "\\item[e.] There are three main ways for heat to transfer: (i) conduction; (ii) radiation, and (iii) convection. ${\\color[rgb]{0.028509,0.250925,0.501969}[1]}$\n",
    "\n",
    "\\item[f.] All adiabatic processes are reversible. ${\\color[rgb]{0.028509,0.250925,0.501969}[1]}$\n",
    "\n",
    "\\item[g.] Isentropic compression can be shown as a vertically straight line between two isobars on a temperature vs. specific entropy graph, i.e., ${\\color[rgb]{0.164799,0.878862,0.723179}T}$ vs. ${\\color[rgb]{0.599997,0.600015,0.600005}s}$. The higher pressure values lie vertically above lower pressure values. ${\\color[rgb]{0.028509,0.250925,0.501969}[1]}$\n",
    "\n",
    "\\end{enumerate}"
   ]
  }
 ],
 "metadata": {
  "kernelspec": {
   "display_name": "Python 3 (ipykernel)",
   "language": "python",
   "name": "python3"
  },
  "language_info": {
   "codemirror_mode": {
    "name": "ipython",
    "version": 3
   },
   "file_extension": ".py",
   "mimetype": "text/x-python",
   "name": "python",
   "nbconvert_exporter": "python",
   "pygments_lexer": "ipython3",
   "version": "3.11.1"
  }
 },
 "nbformat": 4,
 "nbformat_minor": 5
}
