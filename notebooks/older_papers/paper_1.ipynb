{
 "cells": [
  {
   "cell_type": "raw",
   "id": "cf46df68",
   "metadata": {},
   "source": [
    "---\n",
    "title: \"Incompressible fluid mechanics paper\"\n",
    "format: \n",
    "  pdf: \n",
    "    documentclass: report\n",
    "    classoption: [twocolumn, landscape]\n",
    "    lof: false\n",
    "    lot: false\n",
    "    geometry:\n",
    "      - top=30mm\n",
    "      - left=20mm\n",
    "      - heightrounded\n",
    "    fontfamily: libertinus\n",
    "    colorlinks: true\n",
    "---"
   ]
  },
  {
   "cell_type": "markdown",
   "id": "b591a728",
   "metadata": {},
   "source": [
    "# Incompressible fluid mechanics paper\n",
    "## Fall 2023 | AE2010-AE2011"
   ]
  },
  {
   "cell_type": "markdown",
   "id": "ece30982",
   "metadata": {},
   "source": [
    "### Instructions: \n",
    "    \n",
    "Please do not attempt to copy or discuss the contents of this paper with any of your classmates during the course of this paper. Any such attempt, or even the action of glancing over someone else’s work will be viewed as a violation of Georgia Tech’s Honor Code, and this will result in a zero-point grade. Additionally, you are not permitted to use any electronic device during the course of this paper, aside from a standard calculator. You are permitted to use the restrooms, however, prior to leaving the lecture theatre, you are required to leave your cellular device(s) with the instructor. You may collect these once you return. As discussed, you are permitted to use two sides of a single 8.5” x 11” sheet of paper for formulas, notes, or derivations that you may find useful. There is no restriction on what your notes may comprise. Please do not turn in any scratch paper, and ensure your submitted answers do indeed answer the question that is being asked. Carefully read each question as the ask may be slightly different from questions you have practiced before. The numerical value after each question, e.g., ${\\color[rgb]{0.028509,0.250925,0.501969}[5]}$ denotes the number of marks assigned to that question. "
   ]
  },
  {
   "cell_type": "markdown",
   "id": "8c9af44d",
   "metadata": {},
   "source": [
    "### Problem 1\n",
    "\n",
    "A two-dimensional hydraulic jump occurs in a channel as shown in Figure 1. Well upstream and downstream of the jump, at sections 1 and 2, the flow is uniform and steady with velocities ${\\color[rgb]{0.059472,0.501943,0.998465}V}_1$ and ${\\color[rgb]{0.059472,0.501943,0.998465}V}_2$ and depths $h_1$ and $h_2$. "
   ]
  },
  {
   "cell_type": "raw",
   "id": "5fc3fc65",
   "metadata": {},
   "source": [
    "\\begin{figure}[h]\n",
    "    \\centering\n",
    "    \\includegraphics[width=0.36\\textwidth]{images/image_1.png}\n",
    "    \\caption{Hydraulic jump.}\n",
    "    \\label{fig:enter-label}\n",
    "\\end{figure}"
   ]
  },
  {
   "cell_type": "markdown",
   "id": "8ddce158",
   "metadata": {},
   "source": [
    "a. Explain why the pressure distribution in the fluid at sections 1 and 2 may be treated as hydrostatic. ${\\color[rgb]{0.028509,0.250925,0.501969}[2]}$\n",
    "\n",
    "b. Using the force-momentum equation show that the expression below is true; carefully state any assumptions you have made in addition to those in part (a) ${\\color[rgb]{0.028509,0.250925,0.501969}[5]}$ :\n",
    "\n",
    "$$\n",
    "h_1 {\\color[rgb]{0.059472,0.501943,0.998465}V}^2_1 + \\frac{1}{2} g h_1^2 = h_2 {\\color[rgb]{0.059472,0.501943,0.998465}V}_2^2 + \\frac{1}{2}gh_2^2\n",
    "$$\n"
   ]
  },
  {
   "cell_type": "markdown",
   "id": "f03ae468",
   "metadata": {},
   "source": [
    "## Problem 2\n",
    "\n",
    "By examining the curvature of the streamlines in Figure 2, indicate the regions of higher and lower pressure on a copy of the diagram. You can ignore the hydrostatic pressure variation owing to gravity. ${\\color[rgb]{0.028509,0.250925,0.501969}[5]}$"
   ]
  },
  {
   "cell_type": "raw",
   "id": "cc9934c7",
   "metadata": {},
   "source": [
    "\\begin{figure}[h]\n",
    "    \\centering\n",
    "    \\includegraphics[width=0.30\\textwidth]{images/image_2.png}\n",
    "    \\caption{Streamline curvature.}\n",
    "    \\label{fig:enter-label}\n",
    "\\end{figure}"
   ]
  },
  {
   "cell_type": "markdown",
   "id": "054000bf",
   "metadata": {},
   "source": [
    "## Problem 3\n",
    "\n",
    "A viscous fluid flows down the slope of angle $\\gamma$ as shown in Figure 3. The flow is steady and the upper surface of the fluid is open to the atmosphere."
   ]
  },
  {
   "cell_type": "raw",
   "id": "15fb2d21",
   "metadata": {},
   "source": [
    "\\begin{figure}[h]\n",
    "    \\centering\n",
    "    \\includegraphics[width=0.40\\textwidth]{images/image_3.png}\n",
    "    \\caption{Viscous flow down a slope.}\n",
    "    \\label{fig:enter-label}\n",
    "\\end{figure}"
   ]
  },
  {
   "cell_type": "markdown",
   "id": "01684b73",
   "metadata": {},
   "source": [
    "a. Explain, stating any assumptions, why the pressure, velocity and fluid thickness ${\\color[rgb]{0.990448,0.502245,0.032881}h}$ are independent of the streamwise position ${\\color[rgb]{0.986047,0.008333,0.501923}x}$. ${\\color[rgb]{0.028509,0.250925,0.501969}[2]}$\n",
    "\n",
    "b. Show that the variation of shear stress ${\\color[rgb]{0.987422,0.657266,0.082096}\\tau}$ with distance perpendicular to the slope ${\\color[rgb]{0.131302,0.999697,0.023594}y}$ is given by the equation below ${\\color[rgb]{0.028509,0.250925,0.501969}[3]}$:\n",
    "\n",
    "$$\n",
    "\\frac{d {\\color[rgb]{0.987422,0.657266,0.082096}\\tau}}{d {\\color[rgb]{0.131302,0.999697,0.023594}y}} = - {\\color[rgb]{0.918231,0.469102,0.038229}\\rho} g sin \\left( \\alpha \\right)\n",
    "$$\n",
    "\n",
    "c. Calculate the shear stress (units must be provided) if ${\\color[rgb]{0.990448,0.502245,0.032881}h}= {\\color[rgb]{0.990448,0.502245,0.032881}10 \\; mm}$, the density of the fluid is ${\\color[rgb]{0.918231,0.469102,0.038229}1500 \\; kg/m^3}$ and $\\alpha=10^{\\circ}$. ${\\color[rgb]{0.028509,0.250925,0.501969}[3]}$\n",
    "\n",
    "d. Find an expression for the velocity profile ${\\color[rgb]{0.059472,0.501943,0.998465}v}\\left({\\color[rgb]{0.131302,0.999697,0.023594}y} \\right)$. ${\\color[rgb]{0.028509,0.250925,0.501969}[5]}$\n",
    "\n",
    "e. Find an expression for the volumetric flow rate per unit width. ${\\color[rgb]{0.028509,0.250925,0.501969}[4]}$\n"
   ]
  },
  {
   "cell_type": "markdown",
   "id": "eb79ee88",
   "metadata": {},
   "source": [
    "## Problem 4\n",
    "\n",
    "Please clarify whether the entire statement is true or false. You are **not** required to justify your answers for statements a. to g. For statements h. and i. some justification is required. \n",
    "\n",
    "a. A shear force is equivalent to a friction force. ${\\color[rgb]{0.028509,0.250925,0.501969}[1]}$\n",
    "\n",
    "b. In streamline coordinates, in 2D flows, there are two components of velocity: one tangent to the velocity vector and one normal to the velocity vector. Neither can ever be zero. ${\\color[rgb]{0.028509,0.250925,0.501969}[1]}$\n",
    "\n",
    "c. The acceleration in the normal direction (following the question above) is always zero. ${\\color[rgb]{0.028509,0.250925,0.501969}[1]}$\n",
    "\n",
    "d. For flows moving over bodies, there is likely a competition between the diffusion of momentum and the pressure gradient. ${\\color[rgb]{0.028509,0.250925,0.501969}[1]}$\n",
    "\n",
    "e. You can always apply Bernoulli's principle along a streamline and across it. ${\\color[rgb]{0.028509,0.250925,0.501969}[1]}$\n",
    "\n",
    "f. A static pressure measurement is made where the flow velocity has been brought to zero. ${\\color[rgb]{0.028509,0.250925,0.501969}[1]}$\n",
    "\n",
    "g. Flow through veins and arteries is an example of Couette flow. ${\\color[rgb]{0.028509,0.250925,0.501969}[1]}$\n",
    "\n",
    "h. The velocity field given by $\\mathbf{{\\color[rgb]{0.059472,0.501943,0.998465}v}} = x^3 \\hat{\\mathbf{e}}_{x} - 5 y \\hat{\\mathbf{e}}_{y}$ is a source at location $(x, y) = (2,1)$. ${\\color[rgb]{0.028509,0.250925,0.501969}[4]}$\n",
    "\n",
    "i. The expression ${\\color[rgb]{0.990448,0.502245,0.032881}\\rho} \\left(\\nabla \\cdot \\mathbf{{\\color[rgb]{0.059472,0.501943,0.998465}v}} \\right)=0$ is another way to express continuity for incompressible flows, where ${\\color[rgb]{0.990448,0.502245,0.032881}\\rho}$ is the density and $\\mathbf{{\\color[rgb]{0.059472,0.501943,0.998465}v}}$ is the velocity vector. ${\\color[rgb]{0.028509,0.250925,0.501969}[3]}$\n"
   ]
  },
  {
   "cell_type": "code",
   "execution_count": null,
   "id": "7501ddb6",
   "metadata": {},
   "outputs": [],
   "source": []
  }
 ],
 "metadata": {
  "kernelspec": {
   "display_name": "Python 3 (ipykernel)",
   "language": "python",
   "name": "python3"
  },
  "language_info": {
   "codemirror_mode": {
    "name": "ipython",
    "version": 3
   },
   "file_extension": ".py",
   "mimetype": "text/x-python",
   "name": "python",
   "nbconvert_exporter": "python",
   "pygments_lexer": "ipython3",
   "version": "3.11.1"
  }
 },
 "nbformat": 4,
 "nbformat_minor": 5
}
