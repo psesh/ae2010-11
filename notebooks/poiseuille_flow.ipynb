{
 "cells": [
  {
   "cell_type": "raw",
   "id": "f1aa765c-2913-4bab-9f1e-0fde2ca91b2b",
   "metadata": {},
   "source": [
    "---\n",
    "title: \"Poiseuille flow\"\n",
    "format:\n",
    "    html:\n",
    "        code-fold: true\n",
    "jupyter: python3\n",
    "fontsize: 1.2em\n",
    "linestretch: 1.5\n",
    "toc: true\n",
    "notebook-view: true\n",
    "---"
   ]
  },
  {
   "cell_type": "markdown",
   "id": "b5884ab7",
   "metadata": {},
   "source": [
    "## Introduction <a class='anchor' id='introduction'></a>"
   ]
  },
  {
   "cell_type": "markdown",
   "id": "e0a5cd82",
   "metadata": {},
   "source": [
    "In this notebook we will be studying a incompressible fluid experiencing steady Poiseuille flow. Poiseuille flow is named after Jean Poiseuille (left) a French physicist who derived the equation for how fluids in a pipe move, this equation was also derived by Gotthilf Hagen (middle) at the same time and later justified by George Stokes (right) in 1845.\n",
    "\n",
    "||||\n",
    "|---|---|---|\n",
    "|<img src=\"https://upload.wikimedia.org/wikipedia/commons/c/c1/Poiseuille.jpg\" title=\"Jean Poiseuille\" style=\"height:400px;\"/>|<img src=\"https://upload.wikimedia.org/wikipedia/commons/thumb/b/b9/Gotthilf_Hagen.jpg/330px-Gotthilf_Hagen.jpg\" title=\"Gotthilf Hagen\" style=\"height:400px;\"/>|<img src=\"https://upload.wikimedia.org/wikipedia/commons/a/ad/Ggstokes.jpg\" title=\"George Stokes\" style=\"height:400px;\"/>|\n",
    "\n",
    "Poiseuille flow occurs when a fluid driven by a constant pressure gradient flows between two non-moving plates and is both axisymmetric and swirl free. Blood and pipe flow are examples of Poiseuille flow.\n",
    "\n",
    "Sources: [Jean Poiseuille](https://en.wikipedia.org/wiki/Jean_L%C3%A9onard_Marie_Poiseuille), [Gotthilf Hagen](https://en.wikipedia.org/wiki/Gotthilf_Hagen), [George Stokes](https://en.wikipedia.org/wiki/Sir_George_Stokes,_1st_Baronet)"
   ]
  },
  {
   "cell_type": "code",
   "execution_count": 1,
   "id": "849412ae",
   "metadata": {},
   "outputs": [],
   "source": [
    "# import necessary libraries \n",
    "import plotly.graph_objects as go\n",
    "import plotly.figure_factory as ff\n",
    "import plotly.express as px\n",
    "import numpy as np\n",
    "import pandas as pd\n",
    "import plotly.io as pio\n",
    "pio.renderers.default = 'iframe'"
   ]
  },
  {
   "cell_type": "markdown",
   "id": "0fdb71d5",
   "metadata": {},
   "source": [
    "## Defining the Velocity <a class='anchor' id='v'></a>"
   ]
  },
  {
   "cell_type": "markdown",
   "id": "c9053d5b-af88-4aac-a409-7cc2e3749d7e",
   "metadata": {},
   "source": [
    "It will be very useful to consider a free body diagram of a fluid blob. "
   ]
  },
  {
   "cell_type": "code",
   "execution_count": 3,
   "id": "8a0426e0",
   "metadata": {},
   "outputs": [
    {
     "data": {
      "text/html": [
       "<iframe\n",
       "    scrolling=\"no\"\n",
       "    width=\"100%\"\n",
       "    height=\"545px\"\n",
       "    src=\"iframe_figures/figure_3.html\"\n",
       "    frameborder=\"0\"\n",
       "    allowfullscreen\n",
       "></iframe>\n"
      ]
     },
     "metadata": {},
     "output_type": "display_data"
    }
   ],
   "source": [
    "# plot force diagram\n",
    "fig = go.Figure()\n",
    "fig.add_shape(type='rect', x0=0, y0=1, x1=4, y1=3, fillcolor='rgba(133, 163, 201, 0.5)')\n",
    "fig.add_scatter(x=np.linspace(-1,5, 20), y=np.ones(20)*3.5, line_color='black')\n",
    "fig.add_scatter(x=np.linspace(-1,5, 20), y=np.ones(20)*0.5, line_color='black')\n",
    "fig.add_annotation(x=-0.1, y=2, ax=-1, ay=2, xref='x', yref='y', axref='x', ayref='y',arrowhead=5, text=\n",
    "                   r'$\\require{color}{\\color[rgb]{0.315209,0.728565,0.037706}p}$')\n",
    "fig.add_annotation(x=4.1, y=2, ax=6, ay=2, xref='x', yref='y', axref='x', ayref='y', arrowhead=5, text=\n",
    "                   r'$\\require{color} {\\color[rgb]{0.315209,0.728565,0.037706}p} + \\frac{\\partial \\\n",
    "                   {\\color[rgb]{0.315209,0.728565,0.037706}p}}{\\partial x} \\delta x$')\n",
    "fig.add_annotation(x=1, y=0.9, ax=3, ay=0.9, xref='x', yref='y', axref='x', ayref='y', arrowhead=5, \n",
    "                   text=r'$\\require{color}{\\color[rgb]{0.990308,0.800015,0.121270}\\tau}$')\n",
    "fig.add_annotation(x=3.5, y=3.25, ax=0.5, ay=3.25, xref='x', yref='y', axref='x', ayref='y', arrowhead=5, text=\n",
    "                  r'$\\require{color}{\\color[rgb]{0.990308,0.800015,0.121270}\\tau} + \\frac{\\partial \\\n",
    "                  {\\color[rgb]{0.990308,0.800015,0.121270}\\tau}}{\\partial y} \\delta y$')\n",
    "fig.add_scatter(x=[2], y=[3.65], mode='text', text=r'$\\require{color}{\\color[rgb]{0.059472,0.501943,0.998465}v}=0$')\n",
    "fig.add_scatter(x=[2], y=[0.4], mode='text', text=r'$\\require{color}{\\color[rgb]{0.059472,0.501943,0.998465}v}=0$')\n",
    "fig.add_annotation(x=-1.2, y=3.5, ax=-1.2, ay=0.4, xref='x', yref='y', axref='x', ayref='y', arrowhead=5)\n",
    "fig.add_scatter(x=[-1.3], y=[2], mode='text', text=r'$H$')\n",
    "fig.update_layout(yaxis=dict(scaleanchor=\"x\", scaleratio=1, showticklabels=False), xaxis=dict(showticklabels=False),\n",
    "                  showlegend=False, plot_bgcolor='rgba(0, 0, 0, 0)')\n",
    "fig.show()"
   ]
  },
  {
   "cell_type": "markdown",
   "id": "a7c149fc",
   "metadata": {},
   "source": [
    "To find the acceleration of a fluid particle we need to use the *material derivative*:\n",
    "\n",
    "$$\n",
    "\\large\n",
    "\\require{color}\n",
    "\\vec{a} = \\frac{D{\\color[rgb]{0.059472,0.501943,0.998465}v}}{Dt} = \\frac{\\partial {\\color[rgb]{0.059472,0.501943,0.998465}v}}\n",
    "{\\partial t} + \\left({\\color[rgb]{0.059472,0.501943,0.998465}v} \\cdot \\nabla \\right){\\color[rgb]{0.059472,0.501943,0.998465}v}\n",
    "$$\n",
    "\n",
    "Due to the fact that the flow is steady \n",
    "\n",
    "$$\n",
    "\\large\n",
    "\\frac{\\partial {\\color[rgb]{0.059472,0.501943,0.998465}v}}{\\partial t} = 0.\n",
    "$$\n",
    "\n",
    "Additionally, the velocity in the x-direction is uniform. This implies\n",
    "\n",
    "$$\n",
    "\\large\n",
    "\\frac{\\partial {\\color[rgb]{0.059472,0.501943,0.998465}v}}{\\partial x}=0\n",
    "$$ \n",
    "\n",
    "and\n",
    "\n",
    "$$\n",
    "\\large\n",
    "{\\color[rgb]{0.059472,0.501943,0.998465}v}_y=0,\n",
    "$$ \n",
    "\n",
    "therefore \n",
    "\n",
    "$$\n",
    "\\left({\\color[rgb]{0.059472,0.501943,0.998465}v} \\cdot \\nabla \\right){\\color[rgb]{0.059472,0.501943,0.998465}v} = \\left(v_x \\frac{\\partial}{\\partial x} + v_y \\frac{\\partial}{\\partial y}\\right)v = 0.\n",
    "$$\n",
    "\n",
    "Thus, acceleration in both the x and y directions is zero which tells us that $F_{x}=0$ and $F_{y}=0$. There are two forces acting on the flow, shear and pressure, therefore the vectoral sum of these two forces must sum to zero. The shear stress on the fluid is a function only of y and the pressure is a function only of x, therefore in the y-direction \n",
    "\n",
    "$$\n",
    "\\large\n",
    "\\require{color}\\frac{\\partial {\\color[rgb]{0.990308,0.800015,0.121270}\\tau}}{\\partial x} = \\frac{\\partial {\\color[rgb]{0.315209,0.728565,0.037706}p}}{\\partial y} = 0\n",
    "$$\n",
    "\n",
    "For the x components of shear and pressure to sum to zero they must both be constant along their respective axes. By using the above force diagram we can get a relationship between $\\require{color}\\frac{\\partial {\\color[rgb]{0.315209,0.728565,0.037706}p}}{\\partial x}$ and $\\require{color}\\frac{\\partial {\\color[rgb]{0.990308,0.800015,0.121270}\\tau}}{\\partial y}\n",
    "$.\n",
    "\n",
    "By summing the forces, we write\n",
    "$$\n",
    "\\large\n",
    "\\require{color}F_{x} = 0 \n",
    "$$\n",
    "$$\n",
    "\\large\n",
    "= {\\color[rgb]{0.315209,0.728565,0.037706}p}\\delta y -  \\left({\\color[rgb]{0.315209,0.728565,0.037706}p}+\\frac{\\partial {\\color[rgb]{0.315209,0.728565,0.037706}p}}{\\partial x} \\delta x\\right)\\delta y - {\\color[rgb]{0.990308,0.800015,0.121270}\\tau}\\delta x + \\left({\\color[rgb]{0.990308,0.800015,0.121270}\\tau} + \\frac{\\partial {\\color[rgb]{0.990308,0.800015,0.121270}\\tau}}{\\partial y} \\delta y\\right)\\delta x \n",
    "$$\n",
    "$$\n",
    "\\large\n",
    "\\Rightarrow \\frac{\\partial {\\color[rgb]{0.315209,0.728565,0.037706}p}}{\\partial x} = \\frac{\\partial {\\color[rgb]{0.990308,0.800015,0.121270}\\tau}}{\\partial y}\n",
    "$$\n",
    "\n",
    "As the pressure is only a function of x and shear stress is only a function of y we can say the partial derivatives from above can be converted to total derivatives: \n",
    "\n",
    "$$\n",
    "\\large\n",
    "\\require{color}\\frac{d{\\color[rgb]{0.315209,0.728565,0.037706}p}}{dx} = \\frac{d{\\color[rgb]{0.990308,0.800015,0.121270}\\tau}}{dy}.\n",
    "$$\n",
    "\n",
    "Furthermore, we know the equation for shear stress\n",
    "\n",
    "$$\n",
    "\\large\n",
    "\\require{color}{\\color[rgb]{0.990308,0.800015,0.121270}\\tau} = {\\color[rgb]{0.990448,0.502245,0.032881}\\mu} \\frac{d{\\color[rgb]{0.059472,0.501943,0.998465}v}_{x}}{dy}\n",
    "$$\n",
    "\n",
    "so we can get a relationship between velocity and the pressure gradient\n",
    "\n",
    "$$\n",
    "\\large\n",
    "\\require{color}\\frac{d}{dy}\\left({\\color[rgb]{0.990448,0.502245,0.032881}\\mu} \\frac{d{\\color[rgb]{0.059472,0.501943,0.998465}v}_{x}}{dy}\\right) = {\\color[rgb]{0.990448,0.502245,0.032881}\\mu} \\frac{d^{2}{\\color[rgb]{0.059472,0.501943,0.998465}v}_{x}}{dy^{2}} = \\frac{d{\\color[rgb]{0.315209,0.728565,0.037706}p}}{dx}.\n",
    "$$\n",
    "\n",
    "In Poiseuille flow the pressure gradient is constant but not zero, therefore we can solve the above equation for $\\require{color}{\\color[rgb]{0.059472,0.501943,0.998465}v}_{x}$ by assuming $\\require{color}\\frac{\\partial {\\color[rgb]{0.315209,0.728565,0.037706}p}}{\\partial x}$ is some constant value thus the solution is in the form $\\require{color}{\\color[rgb]{0.059472,0.501943,0.998465}v}_{x} = \\frac{1}{2{\\color[rgb]{0.990448,0.502245,0.032881}\\mu}}\\frac{d{\\color[rgb]{0.315209,0.728565,0.037706}p}}{dx}y^{2} + By + C$ where B and C are determined by the boundary conditions.\n",
    "\n",
    "\n",
    "The boundary conditions are: at $\\require{color}y=0\\ {\\color[rgb]{0.059472,0.501943,0.998465}v}=0$ and at $\\require{color}y=H\\ {\\color[rgb]{0.059472,0.501943,0.998465}v}=0$ from these we get that \n",
    "\n",
    "$$\n",
    "\\large\n",
    "\\require{color}{\\color[rgb]{0.059472,0.501943,0.998465}v}_{x} = \\frac{1}{2{\\color[rgb]{0.990448,0.502245,0.032881}\\mu}}\\frac{d{\\color[rgb]{0.315209,0.728565,0.037706}p}}{dx}y(y - H).\n",
    "$$"
   ]
  },
  {
   "cell_type": "markdown",
   "id": "94d2127f-3073-44fb-b1fe-9958d9b52bd8",
   "metadata": {},
   "source": [
    "Given the above, let us now define the necessary variables."
   ]
  },
  {
   "cell_type": "code",
   "execution_count": 3,
   "id": "6543bbf5",
   "metadata": {},
   "outputs": [],
   "source": [
    "# define necessary variables \n",
    "H=10\n",
    "dpdx = -1e-2\n",
    "mu = 1e-3\n",
    "x=np.zeros(11)\n",
    "y=np.linspace(0, H, 11)\n",
    "v_x= (1/(2*mu))*(dpdx)*y*(y-H)\n",
    "v_y=np.zeros(11)"
   ]
  },
  {
   "cell_type": "markdown",
   "id": "4a6fac82",
   "metadata": {},
   "source": [
    "## Visualizing the Flow <a class='anhor' id='graphs'></a>"
   ]
  },
  {
   "cell_type": "markdown",
   "id": "b0fad246",
   "metadata": {},
   "source": [
    "### Visualizing How the Flow Moves <a class='anchor' id='flow'></a>\n",
    "\n",
    "The code below is used for visualizing how Poiseuille flow behaves."
   ]
  },
  {
   "cell_type": "code",
   "execution_count": 4,
   "id": "3f8c7258",
   "metadata": {},
   "outputs": [
    {
     "data": {
      "text/html": [
       "<iframe\n",
       "    scrolling=\"no\"\n",
       "    width=\"100%\"\n",
       "    height=\"545px\"\n",
       "    src=\"iframe_figures/figure_4.html\"\n",
       "    frameborder=\"0\"\n",
       "    allowfullscreen\n",
       "></iframe>\n"
      ]
     },
     "metadata": {},
     "output_type": "display_data"
    }
   ],
   "source": [
    "# create a vector plot showing the velocity vector of particles along y direction each with same x position \n",
    "fig = ff.create_quiver(x=x, y=y, u=v_x, v=v_y, arrow_scale=0.04)\n",
    "fig.update_layout(xaxis=dict(range=[-1, 20]))\n",
    "fig.add_scatter(x=np.linspace(-1,15, 20), y=np.ones(20)*10, line_color='black')\n",
    "fig.add_scatter(x=np.linspace(-1,15, 20), y=np.zeros(20), line_color='black')\n",
    "fig.update_layout(yaxis=dict(scaleanchor=\"x\", scaleratio=1, showticklabels=False), xaxis=dict(showticklabels=False),\n",
    "                  showlegend=False, plot_bgcolor='rgba(0, 0, 0, 0)')\n",
    "fig.show()"
   ]
  },
  {
   "cell_type": "markdown",
   "id": "65831cb7",
   "metadata": {},
   "source": [
    "The plot above shows the velocity vectors at 9 points between the two non-moving walls and illustrates how fast the particles in each \"layer\" of fluid are moving "
   ]
  },
  {
   "cell_type": "code",
   "execution_count": 5,
   "id": "ec7ba88e",
   "metadata": {
    "scrolled": true
   },
   "outputs": [],
   "source": [
    "# define how long it takes for the fastest particle to travel the length of the pipe\n",
    "max_v = v_x[list(v_x).index(max(v_x))]\n",
    "time = 20/max_v\n",
    "distance = time*v_x"
   ]
  },
  {
   "cell_type": "code",
   "execution_count": 6,
   "id": "b0f5dc9d",
   "metadata": {},
   "outputs": [
    {
     "data": {
      "text/html": [
       "<iframe\n",
       "    scrolling=\"no\"\n",
       "    width=\"100%\"\n",
       "    height=\"545px\"\n",
       "    src=\"iframe_figures/figure_6.html\"\n",
       "    frameborder=\"0\"\n",
       "    allowfullscreen\n",
       "></iframe>\n"
      ]
     },
     "metadata": {},
     "output_type": "display_data"
    }
   ],
   "source": [
    "# using this time animate how the particles would idealy move in Poiseuille flow\n",
    "fig = go.Figure()\n",
    "frames = [go.Frame(data=[]) for k in range(50)]\n",
    "for i, y_pos in enumerate(y[1:len(y)-1]):\n",
    "    fig.add_scatter(x=np.linspace(0, 20, 20), y=np.ones(20)*y_pos, line_dash='dash', line_color='lightsteelblue')\n",
    "    x_pos = np.linspace(0, distance[i+1], 50)\n",
    "    for j,f in enumerate(frames):\n",
    "        f.data += (go.Scatter(x=[x_pos[j]], y=[(np.ones(50)[j]*y_pos)], mode='markers', marker=dict(color='teal', size=10)),)\n",
    "\n",
    "fig.update(frames=frames)\n",
    "\n",
    "fig.update_layout(updatemenus = [dict(type='buttons', buttons=[dict(label='play', method='animate', \n",
    "                  args=[None, {'frame':{'duration':50}}])])], showlegend=False, xaxis=dict(range=[0,20]))\n",
    "\n",
    "fig.add_scatter(x=np.linspace(0, 20, 20), y=np.ones(20)*H, line_color='black')\n",
    "fig.add_scatter(x=np.linspace(0, 20, 20), y=np.zeros(20), line_color='black')\n",
    "fig.update_layout(yaxis=dict(scaleanchor=\"x\", scaleratio=1, showticklabels=False), xaxis=dict(showticklabels=False),\n",
    "                  showlegend=False, plot_bgcolor='rgba(0, 0, 0, 0)')\n",
    "fig.show()"
   ]
  },
  {
   "cell_type": "markdown",
   "id": "1d37cbeb",
   "metadata": {},
   "source": [
    "The animation above shows how an ideallized fluid would move through a pipe or non-moving boundary and demonstrates how the flow follows a parabolic velocity profile dependent on y (vertical) coordinate."
   ]
  },
  {
   "cell_type": "markdown",
   "id": "b82e1256",
   "metadata": {},
   "source": [
    "### Adverse and Favorable Pressure Gradients <a class='anchor' id='af'></a>"
   ]
  },
  {
   "cell_type": "markdown",
   "id": "c45d4568",
   "metadata": {},
   "source": [
    "All of the figures in the above section, 3a, are based on the assumption that there is a *negative pressure gradient*. A negative pressure gradient is considered to be favorable because it allows the flow to move in the direction of initial velocity. However, when the pressure gradient is greater than zero it is considered to be adverse. If the flow were **Couette+Poiseuille** and the pressure gradient were adverse the flow near the bottom unoving plate would be pushed oppoiste the direction of the moving top plate. In just Poiseuille flow the the velocity profile reverses and the flow would move in the opposite direction to the initial velocity, which is in this case rightwards "
   ]
  },
  {
   "cell_type": "code",
   "execution_count": 7,
   "id": "c0bb6a9b",
   "metadata": {},
   "outputs": [
    {
     "data": {
      "text/html": [
       "<iframe\n",
       "    scrolling=\"no\"\n",
       "    width=\"100%\"\n",
       "    height=\"545px\"\n",
       "    src=\"iframe_figures/figure_7.html\"\n",
       "    frameborder=\"0\"\n",
       "    allowfullscreen\n",
       "></iframe>\n"
      ]
     },
     "metadata": {},
     "output_type": "display_data"
    }
   ],
   "source": [
    "# define an array of pressure gradients\n",
    "dpdxs = np.linspace(-1e-2, 1e-2, 17)\n",
    "\n",
    "# create a dictionary of all the y position and velocity data at each pressure gradient \n",
    "all_data = {}\n",
    "for p in dpdxs:\n",
    "    all_data[p] = {'y':[], 'v':[]}\n",
    "    for y_val in y:\n",
    "        v_xy = ((1/(2*mu))*(p)*y_val*(y_val-H))\n",
    "        all_data[p]['y'].append(y_val)\n",
    "        all_data[p]['v'].append(v_xy)\n",
    "        \n",
    "# create a plot showing how velocity profile changes as the pressure gradient changes \n",
    "fig = go.Figure()\n",
    "fig.add_scatter(x=np.linspace(-13, 13, 20), y=np.ones(20)*H, line_color='black')\n",
    "fig.add_scatter(x=np.linspace(-13, 13, 20), y=np.zeros(20), line_color='black')\n",
    "\n",
    "frames = []\n",
    "for k in range(0,len(dpdxs)):\n",
    "    figaux = ff.create_quiver(x=x, y=all_data[dpdxs[k]]['y'], u=all_data[dpdxs[k]]['v'], v = v_y, arrow_scale=0.04, \n",
    "                              line_color='steelblue')\n",
    "    frames.append(go.Frame(data=[figaux.data[0]]))\n",
    "\n",
    "fig.update_layout(updatemenus=[dict(type='buttons', buttons=[dict(label='Play', method='animate',\n",
    "                  args=[None, dict(frame=dict(duration=500, redraw=True))])])], xaxis=dict(range=[-13,13], showticklabels=\n",
    "                  False), yaxis=dict(showticklabels=False), showlegend=False, plot_bgcolor='rgba(0, 0, 0, 0)')\n",
    "fig.update(frames=frames)\n",
    "\n",
    "for k in range(len(fig.frames)):\n",
    "    fig.frames[k]['layout'].update(title_text=f'Pressure Gradient {round(dpdxs[k],3)}')\n",
    "\n",
    "fig.add_scatter(x=np.linspace(-13, 13, 20), y=np.ones(20)*H, line_color='black')\n",
    "fig.add_annotation(x=5, y=-1, ax=-5, ay=-1, xref='x', yref='y', axref='x', ayref='y', arrowhead=5, text = r'$+x$')\n",
    "\n",
    "fig.show()"
   ]
  },
  {
   "cell_type": "markdown",
   "id": "99dc6a66",
   "metadata": {},
   "source": [
    "In the above animation you can see that when \n",
    "\n",
    "$$\n",
    "\\large\n",
    "\\require{color}\\frac{d{\\color[rgb]{0.315209,0.728565,0.037706}p}}{dx} > 0\n",
    "$$ \n",
    "\n",
    "the flow is moving to the left opposing the initial rightwards velocity of the flow. When the flow instead has \n",
    "\n",
    "$$\n",
    "\\large\n",
    "\\require{color}\\frac{d{\\color[rgb]{0.315209,0.728565,0.037706}p}}{dx} < 0\n",
    "$$ \n",
    "\n",
    "the flow moves rightwards in the same direction as the initial velocity."
   ]
  }
 ],
 "metadata": {
  "kernelspec": {
   "display_name": "Python 3 (ipykernel)",
   "language": "python",
   "name": "python3"
  },
  "language_info": {
   "codemirror_mode": {
    "name": "ipython",
    "version": 3
   },
   "file_extension": ".py",
   "mimetype": "text/x-python",
   "name": "python",
   "nbconvert_exporter": "python",
   "pygments_lexer": "ipython3",
   "version": "3.11.1"
  }
 },
 "nbformat": 4,
 "nbformat_minor": 5
}
