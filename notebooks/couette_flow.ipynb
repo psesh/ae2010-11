{
 "cells": [
  {
   "cell_type": "raw",
   "id": "c5ffb4a5-05ec-4c8d-bb34-1069b673e5f2",
   "metadata": {},
   "source": [
    "---\n",
    "title: \"Couette flow\"\n",
    "format:\n",
    "    html:\n",
    "        code-fold: true\n",
    "jupyter: python3\n",
    "fontsize: 1.2em\n",
    "linestretch: 1.5\n",
    "toc: true\n",
    "notebook-view: true\n",
    "---"
   ]
  },
  {
   "cell_type": "markdown",
   "id": "1dabd799",
   "metadata": {},
   "source": [
    "## Introduction <a class='anchor' id='introduction'></a>"
   ]
  },
  {
   "cell_type": "markdown",
   "id": "1d2f01f4",
   "metadata": {},
   "source": [
    "In this notebook we will study an incompressible fluid experiencing steady Couette flow. Couette flow is named after French physicist Maurice Couette (1858-1943) who studied viscosity and tested the Navier Stokes equations, pictured here:\n",
    "\n",
    "<center><img src=\"data:image/jpeg;base64,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\" width=300 title=\"Maurice Couette\"></center>\n",
    "\n",
    "Couette flow involves two parallel plates in which only the top plate is moving, as the top plate moves it collides with the molecules in the top layer of fluid between the plates causing momentum to diffuse into the molecules. The molecules in the top layer then collide with those below continuing the diffusion of momentum; these collisions between layers occur down to the bottom plate, each collision diffusing less momentum and therefore each layer having less velocity. Though idealized, Couette flow has many applications in geological systems like the Earth's mantle and atmosphere as well as in lubrication and thin film applications.\n",
    "\n",
    "Source: [Maurice Couette](http://homepage.ntu.edu.tw/~wttsai/Adv_Fluid/Maurice.Couette.One.of.the.founders.of.rheology.pdf)"
   ]
  },
  {
   "cell_type": "code",
   "execution_count": 6,
   "id": "bbbaa5d5",
   "metadata": {},
   "outputs": [],
   "source": [
    "# import libraries that will be needed \n",
    "import plotly.graph_objects as go\n",
    "import plotly.figure_factory as ff\n",
    "import numpy as np\n",
    "import pandas as pd\n",
    "import plotly.io as pio\n",
    "pio.renderers.default = 'iframe'"
   ]
  },
  {
   "cell_type": "markdown",
   "id": "82d3bd92",
   "metadata": {},
   "source": [
    "## Defining the Velocity <a class='anchor' id='v'></a>\n",
    "\n",
    "First, we require a free body diagram. "
   ]
  },
  {
   "cell_type": "code",
   "execution_count": 7,
   "id": "9aba68fa",
   "metadata": {},
   "outputs": [
    {
     "data": {
      "text/html": [
       "<iframe\n",
       "    scrolling=\"no\"\n",
       "    width=\"100%\"\n",
       "    height=\"545px\"\n",
       "    src=\"iframe_figures/figure_7.html\"\n",
       "    frameborder=\"0\"\n",
       "    allowfullscreen\n",
       "></iframe>\n"
      ]
     },
     "metadata": {},
     "output_type": "display_data"
    }
   ],
   "source": [
    "# plot force diagram\n",
    "fig = go.Figure()\n",
    "fig.add_shape(type='rect', x0=0, y0=1, x1=4, y1=3, fillcolor='rgba(133, 163, 201, 0.5)')\n",
    "fig.add_scatter(x=np.linspace(-1,5, 20), y=np.ones(20)*3.5, line_color='black')\n",
    "fig.add_scatter(x=np.linspace(-1,5, 20), y=np.ones(20)*0.5, line_color='black')\n",
    "fig.add_annotation(x=-0.1, y=2, ax=-1, ay=2, xref='x', yref='y', axref='x', ayref='y',arrowhead=5, text=\n",
    "                   r'$\\require{color}{\\color[rgb]{0.315209,0.728565,0.037706}p}$')\n",
    "fig.add_annotation(x=4.1, y=2, ax=6, ay=2, xref='x', yref='y', axref='x', ayref='y', arrowhead=5, text=\n",
    "                   r'$\\require{color} {\\color[rgb]{0.315209,0.728565,0.037706}p} + \\frac{\\partial \\\n",
    "                   {\\color[rgb]{0.315209,0.728565,0.037706}p}}{\\partial x} \\delta x$')\n",
    "fig.add_annotation(x=1, y=0.9, ax=3, ay=0.9, xref='x', yref='y', axref='x', ayref='y', arrowhead=5, \n",
    "                   text=r'$\\require{color}{\\color[rgb]{0.990308,0.800015,0.121270}\\tau}$')\n",
    "fig.add_annotation(x=3.5, y=3.25, ax=0.5, ay=3.25, xref='x', yref='y', axref='x', ayref='y', arrowhead=5, text=\n",
    "                   r'$\\require{color}{\\color[rgb]{0.990308,0.800015,0.121270}\\tau} + \\frac{\\partial \\\n",
    "                   {\\color[rgb]{0.990308,0.800015,0.121270}\\tau}}{\\partial y} \\delta y$')\n",
    "fig.add_annotation(x=4, y=3.65, ax=0, ay=3.65, xref='x', yref='y', axref='x', ayref='y', arrowhead=5, \n",
    "                   text=r'$\\require{color}{\\color[rgb]{0.059472,0.501943,0.998465}v}$')\n",
    "fig.add_scatter(x=[2], y=[0.4], mode='text', text=r'$\\require{color}{\\color[rgb]{0.059472,0.501943,0.998465}v}=0$')\n",
    "fig.add_annotation(x=-1.2, y=3.5, ax=-1.2, ay=0.4, xref='x', yref='y', axref='x', ayref='y', arrowhead=5)\n",
    "fig.add_scatter(x=[-1.3], y=[2], mode='text', text=r'$H$')\n",
    "fig.update_layout(yaxis=dict(scaleanchor=\"x\", scaleratio=1, showticklabels=False), xaxis=dict(showticklabels=False),\n",
    "                  showlegend=False, plot_bgcolor='rgba(0, 0, 0, 0)')\n",
    "fig.show()"
   ]
  },
  {
   "cell_type": "markdown",
   "id": "46e3a017",
   "metadata": {},
   "source": [
    "To find the acceleration of a fluid particle we need to use the material derivative\n",
    "\n",
    "$$\n",
    "\\large\n",
    "\\require{color}\n",
    "\\vec{a} = \\frac{D{\\color[rgb]{0.059472,0.501943,0.998465}v}}{Dt} = \\frac{\\partial {\\color[rgb]{0.059472,0.501943,0.998465}v}}\n",
    "{\\partial t} + \\left({\\color[rgb]{0.059472,0.501943,0.998465}v} \\cdot \\nabla \\right){\\color[rgb]{0.059472,0.501943,0.998465}v}\n",
    "$$\n",
    "\n",
    "Due to the fact that the flow is steady \n",
    "\n",
    "$$\n",
    "\\frac{\\partial {\\color[rgb]{0.059472,0.501943,0.998465}v}}{\\partial t} = 0\n",
    "$$\n",
    "\n",
    "[Poiseuille flow also begins with the same derivation.]{.aside}\n",
    "\n",
    "\n",
    "Additionally, velocity in the x-direction is uniform meaning $\\frac{\\partial {\\color[rgb]{0.059472,0.501943,0.998465}v}}{\\partial x}=0$ and ${\\color[rgb]{0.059472,0.501943,0.998465}v}_y=0$ therefore \n",
    "\n",
    "$$\n",
    "\\large\n",
    "\\left({\\color[rgb]{0.059472,0.501943,0.998465}v} \\cdot \\nabla \\right){\\color[rgb]{0.059472,0.501943,0.998465}v} = \\left(v_x \\frac{\\partial}{\\partial x} + v_y \\frac{\\partial}{\\partial y}\\right)v = 0\n",
    "$$\n",
    "\n",
    "Thus, acceleration in both the x and y directions is zero which tells us that $F_{x}=0$ and $F_{y}=0$. There are two forces acting on the flow, shear and pressure, therefore the vectoral sum of these two forces must sum to zero. The shear stress on the fluid is a function only of y and the pressure is a function only of x, therefore in the y-direction \n",
    "\n",
    "$$\n",
    "\\large\n",
    "\\require{color}\\frac{\\partial {\\color[rgb]{0.990308,0.800015,0.121270}\\tau}}{\\partial x} = \\frac{\\partial {\\color[rgb]{0.315209,0.728565,0.037706}p}}{\\partial y} = 0\n",
    "$$\n",
    "\n",
    "For the $x$ components of shear and pressure to sum to zero they must both be constant along their respective axes. By using the above force diagram we can get a relationship between \n",
    "\n",
    "$$\n",
    "\\large\n",
    "\\require{color}\\frac{\\partial {\\color[rgb]{0.315209,0.728565,0.037706}p}}{\\partial x} \\; \\; \\text{and} \\; \\;  \\require{color}\\frac{\\partial {\\color[rgb]{0.990308,0.800015,0.121270}\\tau}}{\\partial y}\n",
    "$$\n",
    "\n",
    "$$\n",
    "\\large\n",
    "\\require{color}F_{x} = 0\n",
    "$$\n",
    "\n",
    "$$\n",
    "\\large\n",
    "\\Rightarrow {\\color[rgb]{0.315209,0.728565,0.037706}p}\\delta y -  \\left({\\color[rgb]{0.315209,0.728565,0.037706}p}+\\frac{\\partial {\\color[rgb]{0.315209,0.728565,0.037706}p}}{\\partial x} \\delta x\\right)\\delta y - {\\color[rgb]{0.990308,0.800015,0.121270}\\tau}\\delta x + \\left({\\color[rgb]{0.990308,0.800015,0.121270}\\tau} + \\frac{\\partial {\\color[rgb]{0.990308,0.800015,0.121270}\\tau}}{\\partial y} \\delta y\\right)\\delta x\n",
    "$$\n",
    "\n",
    "$$\n",
    "\\large\n",
    "\\Rightarrow \\frac{\\partial {\\color[rgb]{0.315209,0.728565,0.037706}p}}{\\partial x} = \\frac{\\partial {\\color[rgb]{0.990308,0.800015,0.121270}\\tau}}{\\partial y}\n",
    "$$\n",
    "\n",
    "As pressure is only a function of $x$ and shear stress is only a function of $y$ we can say the partial derivatives from above can be converted to total derivatives $\\require{color}\\frac{d{\\color[rgb]{0.315209,0.728565,0.037706}p}}{dx} = \\frac{d{\\color[rgb]{0.990308,0.800015,0.121270}\\tau}}{dy}$. Furthermore, we know the equation for shear stress: $\\require{color}{\\color[rgb]{0.990308,0.800015,0.121270}\\tau} = {\\color[rgb]{0.990448,0.502245,0.032881}\\mu} \\frac{d{\\color[rgb]{0.059472,0.501943,0.998465}v}_{x}}{dy}$ so we can get a relationship between velocity and the pressure gradient:\n",
    "\n",
    "$$\n",
    "\\large\n",
    "\\require{color}\\frac{d}{dy}\\left({\\color[rgb]{0.990448,0.502245,0.032881}\\mu} \\frac{d{\\color[rgb]{0.059472,0.501943,0.998465}v}_{x}}{dy}\\right) = {\\color[rgb]{0.990448,0.502245,0.032881}\\mu} \\frac{d^{2}{\\color[rgb]{0.059472,0.501943,0.998465}v}_{x}}{dy^{2}} = \\frac{d{\\color[rgb]{0.315209,0.728565,0.037706}p}}{dx}\n",
    "$$\n",
    "\n",
    "In Couette flow the pressure gradient is zero, therefore: $\\require{color}{\\color[rgb]{0.990448,0.502245,0.032881}\\mu} \\frac{d^{2}{\\color[rgb]{0.059472,0.501943,0.998465}v}_{x}}{dy^{2}} =0$ and we can assume a solution in the form $\\require{color}{\\color[rgb]{0.059472,0.501943,0.998465}v}=By+C$. Using the boundary conditions $\\require{color}{\\color[rgb]{0.059472,0.501943,0.998465}v}(0)=0$ and $\\require{color}{\\color[rgb]{0.059472,0.501943,0.998465}v}(H)={\\color[rgb]{0.059472,0.501943,0.998465}V}$ we can find the solution $\\require{color}{\\color[rgb]{0.059472,0.501943,0.998465}v}={\\color[rgb]{0.059472,0.501943,0.998465}V} \\frac{y}{H}$."
   ]
  },
  {
   "cell_type": "markdown",
   "id": "8fe69c1d-6570-4ccd-a0c2-38b54e1fdf90",
   "metadata": {},
   "source": [
    "Let us consider some representative values as shown in the code block below."
   ]
  },
  {
   "cell_type": "code",
   "execution_count": 3,
   "id": "27575872",
   "metadata": {},
   "outputs": [],
   "source": [
    "# define arbitary constants and the x,y, and velocity values\n",
    "H=10\n",
    "V=100\n",
    "x=np.zeros(10)\n",
    "y=np.linspace(0, H-1, 10)\n",
    "v_x=V*(y/H)\n",
    "v_y=np.zeros(10)"
   ]
  },
  {
   "cell_type": "markdown",
   "id": "b2cc9a36",
   "metadata": {},
   "source": [
    "## Visualizing the Flow <a class='anchor' id='graphs'></a>"
   ]
  },
  {
   "cell_type": "markdown",
   "id": "81a07f2d-9061-410a-971e-080d049c542f",
   "metadata": {},
   "source": [
    "We are now ready to visualize what this looks like!"
   ]
  },
  {
   "cell_type": "code",
   "execution_count": 4,
   "id": "43010ec0",
   "metadata": {},
   "outputs": [
    {
     "data": {
      "text/html": [
       "<iframe\n",
       "    scrolling=\"no\"\n",
       "    width=\"100%\"\n",
       "    height=\"545px\"\n",
       "    src=\"iframe_figures/figure_4.html\"\n",
       "    frameborder=\"0\"\n",
       "    allowfullscreen\n",
       "></iframe>\n"
      ]
     },
     "metadata": {},
     "output_type": "display_data"
    }
   ],
   "source": [
    "# plot vector diagram of the flow velocity profile\n",
    "fig = ff.create_quiver(x=x, y=y, u=v_x, v=v_y, arrow_scale=0.05)\n",
    "fig.update_layout(xaxis=dict(range=[-1, 11]))\n",
    "fig.add_scatter(x=np.linspace(-1,10, 20), y=np.ones(20)*10, line_color='black')\n",
    "fig.add_scatter(x=np.linspace(-1,10, 20), y=np.zeros(20), line_color='black')\n",
    "fig.update_layout(yaxis=dict(scaleanchor=\"x\", scaleratio=1, showticklabels=False), xaxis=dict(showticklabels=False),\n",
    "                  showlegend=False, plot_bgcolor='rgba(0, 0, 0, 0)')\n",
    "fig.show()"
   ]
  },
  {
   "cell_type": "markdown",
   "id": "3b8f96f4",
   "metadata": {},
   "source": [
    "The plot above shows the velocity vectors at 9 points between the two walls, and illustrates how particles closest to the moving top wall have the most velocity and momentum and this decreases linearly with distance from the top."
   ]
  },
  {
   "cell_type": "code",
   "execution_count": 5,
   "id": "07049c71",
   "metadata": {},
   "outputs": [
    {
     "data": {
      "text/html": [
       "<iframe\n",
       "    scrolling=\"no\"\n",
       "    width=\"100%\"\n",
       "    height=\"545px\"\n",
       "    src=\"iframe_figures/figure_5.html\"\n",
       "    frameborder=\"0\"\n",
       "    allowfullscreen\n",
       "></iframe>\n"
      ]
     },
     "metadata": {},
     "output_type": "display_data"
    }
   ],
   "source": [
    "# find the total time for the top particle to reach x=10 then calculate the distance each particle travels in that time\n",
    "time = 20/v_x[9]\n",
    "total_distance = time*v_x\n",
    "\n",
    "# use time and distance information to show how the horizontal distance bewteen particles starting at the same place changes\n",
    "fig = go.Figure()\n",
    "frames = [go.Frame(data=[]) for k in range(50)]\n",
    "for i, y_pos in enumerate(y[1:len(y)]):\n",
    "    fig.add_scatter(x=np.linspace(0, 20, 20), y=np.ones(20)*y_pos, line_dash='dash', line_color='lightsteelblue')\n",
    "    x_pos = np.linspace(0, total_distance[i+1], 50)\n",
    "    for j,f in enumerate(frames):\n",
    "        f.data += (go.Scatter(x=[x_pos[j]], y=[(np.ones(50)[j]*y_pos)], mode='markers', marker=dict(color='teal', size=10)),)\n",
    "\n",
    "fig.update(frames=frames)\n",
    "\n",
    "fig.update_layout(updatemenus = [dict(type='buttons', buttons=[dict(label='play', method='animate', \n",
    "                  args=[None, {'frame':{'duration':50}}])])], showlegend=False, xaxis=dict(range=[0,20]))\n",
    "\n",
    "fig.add_scatter(x=np.linspace(0, 20, 20), y=np.ones(20)*H, line_color='black')\n",
    "fig.add_annotation(x=18, y=10.25, ax=2, ay=10.25, xref='x', yref='y', axref='x', ayref='y', arrowhead=5, \n",
    "                   text=r'$\\require{color}{\\color[rgb]{0.059472,0.501943,0.998465}v}$')\n",
    "fig.add_scatter(x=np.linspace(0, 20, 20), y=np.zeros(20), line_color='black')\n",
    "fig.update_layout(yaxis=dict(scaleanchor=\"x\", scaleratio=1, showticklabels=False), xaxis=dict(showticklabels=False),\n",
    "                  showlegend=False, plot_bgcolor='rgba(0, 0, 0, 0)')\n",
    "fig.show()"
   ]
  },
  {
   "cell_type": "markdown",
   "id": "b3e0800c",
   "metadata": {},
   "source": [
    "This plot animates how an ideallized fluid would move between the two plates, and illustrates how the velocity is a linear function of y."
   ]
  }
 ],
 "metadata": {
  "kernelspec": {
   "display_name": "Python 3 (ipykernel)",
   "language": "python",
   "name": "python3"
  },
  "language_info": {
   "codemirror_mode": {
    "name": "ipython",
    "version": 3
   },
   "file_extension": ".py",
   "mimetype": "text/x-python",
   "name": "python",
   "nbconvert_exporter": "python",
   "pygments_lexer": "ipython3",
   "version": "3.11.1"
  }
 },
 "nbformat": 4,
 "nbformat_minor": 5
}
