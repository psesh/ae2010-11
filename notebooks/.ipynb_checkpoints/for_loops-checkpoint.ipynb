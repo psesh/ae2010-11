{
 "cells": [
  {
   "cell_type": "raw",
   "id": "9b472f4b",
   "metadata": {},
   "source": [
    "---\n",
    "title: \"Lists and For loops\"\n",
    "format:\n",
    "    html:\n",
    "        code-fold: true\n",
    "jupyter: python3\n",
    "fontsize: 1.2em\n",
    "linestretch: 1.5\n",
    "toc: true\n",
    "notebook-view: true\n",
    "---"
   ]
  },
  {
   "cell_type": "markdown",
   "id": "7076ec57",
   "metadata": {},
   "source": [
    "## Introduction\n",
    "\n",
    "This notebook covers lists and for-loops. These will prove to useful in future notebooks. Naturally this tutorial is broken up into lists, for-loops, and for-loops over lists. \n",
    "\n"
   ]
  },
  {
   "cell_type": "markdown",
   "id": "57883cff",
   "metadata": {},
   "source": [
    "## Lists\n",
    "\n",
    "A list comprises strings, numbers, and even abstract class instances. Items in a list are changeable in the sense that we can alter add, remove, or alter existing list entries. A list also permits duplicates, and thus, items in a list do not have to be unique. A given item in a list may also be another list. \n",
    "\n",
    "Each item in a list can be referenced by its index, i.e., the order of its appearance in the list. Consider the following list"
   ]
  },
  {
   "cell_type": "code",
   "execution_count": 3,
   "id": "91feb149",
   "metadata": {},
   "outputs": [],
   "source": [
    "import numpy as np\n",
    "\n",
    "todays_terms = [\"Bernoulli\", \"streamline\", \"streamwise\", \"blobs\", np.pi, np.exp(1)]"
   ]
  },
  {
   "cell_type": "code",
   "execution_count": null,
   "id": "f11eb6a6",
   "metadata": {},
   "outputs": [],
   "source": []
  }
 ],
 "metadata": {
  "kernelspec": {
   "display_name": "Python 3 (ipykernel)",
   "language": "python",
   "name": "python3"
  },
  "language_info": {
   "codemirror_mode": {
    "name": "ipython",
    "version": 3
   },
   "file_extension": ".py",
   "mimetype": "text/x-python",
   "name": "python",
   "nbconvert_exporter": "python",
   "pygments_lexer": "ipython3",
   "version": "3.11.1"
  }
 },
 "nbformat": 4,
 "nbformat_minor": 5
}
