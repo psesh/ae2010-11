{
 "cells": [
  {
   "cell_type": "raw",
   "id": "6fcd89b3",
   "metadata": {},
   "source": [
    "---\n",
    "title: \"L23 examples\"\n",
    "format:\n",
    "    html:\n",
    "        code-fold: true\n",
    "jupyter: python3\n",
    "fontsize: 1.2em\n",
    "linestretch: 1.5\n",
    "toc: true\n",
    "notebook-view: true\n",
    "---"
   ]
  },
  {
   "cell_type": "markdown",
   "id": "1388eaa6",
   "metadata": {},
   "source": [
    "## Problem 1\n",
    "\n",
    "Consider the engine of the supersonic aircraft, the concorde. A schematic of the engine is given below. For an intake in such an aircraft, the flow must be decelerated to subsonic speeds before it enters the compressor. \n",
    "\n",
    "<img src=\"images/image_L23_1.png\" alt=\"plane\" width=\"200\"/>\n",
    "\n",
    "(image above from Unsplash by Lynn Kintziger)\n",
    "\n",
    "<img src=\"images/image_L23_2.png\" alt=\"plane\" width=\"500\"/>\n",
    "\n",
    "a. Calculate $M_2$.\n",
    "\n",
    "b. Express the distance $l$ as a function of $h$. \n",
    "\n",
    "c. Find the fractional loss in stagnation pressure. \n",
    "\n",
    "Assume $\\gamma=1.4$."
   ]
  },
  {
   "cell_type": "markdown",
   "id": "aaee3dbe",
   "metadata": {},
   "source": [
    "<details>\n",
    "  <summary>Solution</summary>\n",
    "    \n",
    "a. First, we amend the diagram with regions $(a)$ and $(b)$ as shown below.\n",
    "\n",
    "<img src=\"images/image_L23_2b.png\" alt=\"plane\" width=\"400\"/>\n",
    "\n",
    "\n",
    "Consider the oblique shock tables with an inlet Mach number of $\\require{color}{\\color[rgb]{0.041732,0.352132,0.699576}M_1} = {\\color[rgb]{0.041732,0.352132,0.699576}2.15}, \\; \\; \\theta = 12^{\\circ}$. As shown below, this leads to an exit Mach number of $\\require{color}{\\color[rgb]{0.041732,0.352132,0.699576}M_a} = {\\color[rgb]{0.041732,0.352132,0.699576}1.7011}$ and a wave angle of $\\require{color}{\\color[rgb]{0.131302,0.999697,0.023594}\\beta} = {\\color[rgb]{0.131302,0.999697,0.023594}38.72^{\\circ}}$. This is just for the first shock. \n",
    "\n",
    "<img src=\"images/image_L23_3.png\" alt=\"plane\" width=\"500\"/>\n",
    "\n",
    "\n",
    "For the second shock we are given the wedge angle to be $\\theta = 10^{\\circ}$ and $\\require{color}{\\color[rgb]{0.041732,0.352132,0.699576}M_2} = {\\color[rgb]{0.041732,0.352132,0.699576}1.7011}$. Once again consulting the tables (see below) we arrive at $\\require{color}{\\color[rgb]{0.041732,0.352132,0.699576}M_b} = {\\color[rgb]{0.041732,0.352132,0.699576}1.347}$. Note that this corresponds to the supersonic solution and not the subsonic one. \n",
    "\n",
    "\n",
    "<img src=\"images/image_L23_4.png\" alt=\"plane\" width=\"500\"/>\n",
    "\n",
    "The third and final shock has a wedge angle given by $\\theta = 22^{\\circ} - 14^{\\circ} = 8^{\\circ}$. At this wedge angle, we once again take the first (or the weaker) solution, which yields $\\require{color}{\\color[rgb]{0.041732,0.352132,0.699576}M_2} = {\\color[rgb]{0.041732,0.352132,0.699576}0.95}$.\n",
    "\n",
    "\n",
    "<img src=\"images/image_L23_5.png\" alt=\"plane\" width=\"500\"/>\n",
    "\n",
    "\n",
    "b. Next, to work out the relationship between $h$ and $l$ we note that\n",
    "\n",
    "$$\n",
    "\\large\n",
    "\\require{color}\n",
    "tan \\left( {\\color[rgb]{0.131302,0.999697,0.023594}\\beta} \\right) = \\frac{h}{l} \\Rightarrow tan \\left({\\color[rgb]{0.131302,0.999697,0.023594}38.702^{\\circ}}\\right) = \\frac{h}{l} \\Rightarrow l = 1.25 h\n",
    "$$\n",
    "\n",
    "\n",
    "c. To work out the pressure losses, we make use of the stagnation pressure ratios:\n",
    "\n",
    "$$\n",
    "\\large\n",
    "\\require{color}\n",
    "\\frac{{\\color[rgb]{0.315209,0.728565,0.037706}p_{02}}}{{\\color[rgb]{0.315209,0.728565,0.037706}p_{01}}} = \\frac{{\\color[rgb]{0.315209,0.728565,0.037706}p_{02}}}{{\\color[rgb]{0.315209,0.728565,0.037706}p_{0b}}} \\frac{{\\color[rgb]{0.315209,0.728565,0.037706}p_{0b}}}{{\\color[rgb]{0.315209,0.728565,0.037706}p_{0a}}} \\frac{{\\color[rgb]{0.315209,0.728565,0.037706}p_{0a}}}{{\\color[rgb]{0.315209,0.728565,0.037706}p_{01}}}  = 0.97093 \\times 0.9875 \\times 0.98812 = 0.9473\n",
    "$$\n",
    "    \n",
    "</details>"
   ]
  }
 ],
 "metadata": {
  "kernelspec": {
   "display_name": "Python 3 (ipykernel)",
   "language": "python",
   "name": "python3"
  },
  "language_info": {
   "codemirror_mode": {
    "name": "ipython",
    "version": 3
   },
   "file_extension": ".py",
   "mimetype": "text/x-python",
   "name": "python",
   "nbconvert_exporter": "python",
   "pygments_lexer": "ipython3",
   "version": "3.11.1"
  }
 },
 "nbformat": 4,
 "nbformat_minor": 5
}
