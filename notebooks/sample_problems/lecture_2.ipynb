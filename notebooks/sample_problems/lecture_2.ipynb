{
 "cells": [
  {
   "cell_type": "raw",
   "id": "3f6eb365",
   "metadata": {},
   "source": [
    "---\n",
    "title: \"L2 examples\"\n",
    "format:\n",
    "    html:\n",
    "        code-fold: true\n",
    "jupyter: python3\n",
    "fontsize: 1.2em\n",
    "linestretch: 1.5\n",
    "toc: true\n",
    "notebook-view: true\n",
    "---"
   ]
  },
  {
   "cell_type": "markdown",
   "id": "1125c6a0",
   "metadata": {},
   "source": [
    "## Problem 1\n",
    "\n",
    "A reservoir contains a volume of water 1 meter in height. Someone has accidentally spilled a tiny bit of oil, which floats on top of the water. The oil has a height of 0.2 meters. Please calculate the *gauge pressure* at the bottom of the reservoir. Assume the following densities for oil and water $\\require{color}{\\color[rgb]{0.964810,0.470942,0.057578}\\rho_{o}} = \\require{color}{\\color[rgb]{0.964810,0.470942,0.057578}750 kg / m^3}$ and $\\require{color}{\\color[rgb]{0.964810,0.470942,0.057578}\\rho_{w}} = \\require{color}{\\color[rgb]{0.964810,0.470942,0.057578}1000 kg / m^3}$. \n",
    "\n",
    "<img src=\"images/image_L2_1.png\" alt=\"reservoir\" width=\"400\"/>"
   ]
  },
  {
   "cell_type": "markdown",
   "id": "3d8a3432",
   "metadata": {},
   "source": [
    "<details>\n",
    "  <summary>Solution</summary>\n",
    "\n",
    "  It will be useful to consider a diagram of the reservoir. \n",
    "\n",
    "  <img src=\"images/image_L2_2.png\" alt=\"reservoir\" width=\"400\"/>\n",
    "    \n",
    "    \n",
    "  At the interface $i$, the pressure is given by\n",
    "\n",
    "  $$\n",
    "  \\large\n",
    "  \\require{color}{\\color[rgb]{0.315209,0.728565,0.037706}p_i }= {\\color[rgb]{0.315209,0.728565,0.037706}p_a} + {\\color[rgb]{0.964810,0.470942,0.057578}\\rho_{o}} g h_o.\n",
    "  $$\n",
    "    \n",
    "  At the reservoir floor, the pressure is given by\n",
    "    \n",
    "  $$\n",
    "  \\large\n",
    "  \\require{color}{\\color[rgb]{0.315209,0.728565,0.037706}p }= {\\color[rgb]{0.315209,0.728565,0.037706}p_i} + {\\color[rgb]{0.964810,0.470942,0.057578}\\rho{w}} g h_w.\n",
    "  $$\n",
    "  \n",
    "  This results in\n",
    "   \n",
    "  $$\n",
    "  \\large\n",
    "  \\require{color}{\\color[rgb]{0.315209,0.728565,0.037706}p }= {\\color[rgb]{0.315209,0.728565,0.037706}p_a} + {\\color[rgb]{0.964810,0.470942,0.057578}\\rho_{o}} g h_o + {\\color[rgb]{0.964810,0.470942,0.057578}\\rho_{w}} g h_w.\n",
    "  $$\n",
    "    \n",
    "  Now, the definition of the *gauge pressure* is the pressure measurement relative to the atmospheric pressure. That is\n",
    "    \n",
    "   $$\n",
    "  \\large\n",
    "  \\require{color}{\\color[rgb]{0.315209,0.728565,0.037706}p } - {\\color[rgb]{0.315209,0.728565,0.037706}p_a}=   {\\color[rgb]{0.964810,0.470942,0.057578}\\rho_{o}} g h_o + {\\color[rgb]{0.964810,0.470942,0.057578}\\rho_{w}} g h_w.\n",
    "  $$\n",
    "    \n",
    "  Plugging in values for the above, we arrive at\n",
    "    \n",
    "  $$\n",
    "  \\large\n",
    "  \\require{color}{\\color[rgb]{0.315209,0.728565,0.037706}p } - {\\color[rgb]{0.315209,0.728565,0.037706}p_a}=   {\\color[rgb]{0.964810,0.470942,0.057578} 750 \\frac{kg}{m^3}} \\times 9.8 \\frac{m}{s^2} \\times 0.2 m + {\\color[rgb]{0.964810,0.470942,0.057578} 1000 \\frac{kg}{m^3}} \\times 9.8 \\frac{m}{s^2} \\times 1 m.\n",
    "  $$\n",
    "    \n",
    "    \n",
    "  $$\n",
    "  \\large\n",
    "  \\require{color}{\\color[rgb]{0.315209,0.728565,0.037706}p } - {\\color[rgb]{0.315209,0.728565,0.037706}p_a} = 11,270 \\frac{kg }{m \\cdot s^2}\n",
    "  $$\n",
    "  This may also be expressed as $11,270 \\; Pa$, where $Pa$ stands for Pascals. \n",
    "</details>"
   ]
  },
  {
   "cell_type": "markdown",
   "id": "54e1d9fb",
   "metadata": {},
   "source": [
    "## Problem 2\n",
    "\n",
    "An orifice plate is a thin circular plate with an orifice (hole) that is machined through its center. Below you will find a few pictures of an orifice plate and how it is used to control the flow. Essentially, one can use an orifice plate within a pipe to induce a pressure drop. This pressure drop is used to work out the velocity of the flow going through the pipe. \n",
    "\n",
    "\n",
    "Side view of plate in a pipe          |  Orifice plate measurement system\n",
    ":-------------------------:|:-------------------------:\n",
    "<img src=\"images/image_L2_3.png\" alt=\"orifice\" width=\"400\"/>  | <img src=\"images/image_L2_4.png\" alt=\"orifice\" width=\"400\"/>\n",
    "\n",
    "\n"
   ]
  },
  {
   "cell_type": "markdown",
   "id": "55819d61",
   "metadata": {},
   "source": [
    "Now consider a sloping manometer that is used to measure the pressure drop across an orifice plate, in a horizontal pipe carrying a fluid (air). The manometer is slanted, with $\\require{color}{\\color[rgb]{0.127700,0.999775,0.999047}\\gamma } = 30^{\\circ}$. The arrangement is shown below.\n",
    "\n",
    "<img src=\"images/image_L2_5.png\" alt=\"orifice\" width=\"400\"/>\n",
    "\n",
    "If the liquid in the manometer is mercury, which has a density of $\\require{color}{\\color[rgb]{0.964810,0.470942,0.057578}\\rho_{m}} = \\require{color}{\\color[rgb]{0.964810,0.470942,0.057578}13.6 \\times 10^3 \\; kg/m^3}$, find the pressure drop. "
   ]
  },
  {
   "cell_type": "markdown",
   "id": "adf195e7",
   "metadata": {},
   "source": [
    "<details>\n",
    "  <summary>Solution</summary>\n",
    "\n",
    "  We will ignore the contribution of the *weight of air*. This is because the density of mercury is roughly four orders of magnitude greater. Thus, the pressure drop may be expressed as\n",
    "    \n",
    "  $$\n",
    "  \\large\n",
    "  \\require{color}{\\color[rgb]{0.315209,0.728565,0.037706}p_{A} }- {\\color[rgb]{0.315209,0.728565,0.037706}p_{B} }= {\\color[rgb]{0.918231,0.469102,0.038229}\\rho_{m}} g  {\\color[rgb]{1.000000,0.869732,0.000000}h} sin \\left({\\color[rgb]{0.127700,0.999775,0.999047} \\gamma }\\right) \n",
    "  $$\n",
    "\n",
    "  $$\n",
    "  \\large\n",
    "  \\require{color}{\\color[rgb]{0.315209,0.728565,0.037706}p_{A} }- {\\color[rgb]{0.315209,0.728565,0.037706}p_{B} }= {\\color[rgb]{0.918231,0.469102,0.038229}13.6 \\times 10^{3} \\frac{kg}{m^3}} \\times 9.8 \\frac{m}{s^2} \\times {\\color[rgb]{1.000000,0.869732,0.000000}0.85 m} \\times sin \\left({\\color[rgb]{0.127700,0.999775,0.999047} 30^{\\circ}}\\right) \n",
    "  $$\n",
    "  \n",
    "   $$\n",
    "  \\large\n",
    "  \\require{color}{\\color[rgb]{0.315209,0.728565,0.037706}p_{A} }- {\\color[rgb]{0.315209,0.728565,0.037706}p_{B} }= 53,312 \\frac{N}{m^2}\n",
    "  $$\n",
    "</details>    "
   ]
  },
  {
   "cell_type": "markdown",
   "id": "c54abdcd",
   "metadata": {},
   "source": [
    "## Problem 3\n",
    "\n",
    "A mercury barometer column with a density of $\\require{color}{\\color[rgb]{0.964810,0.470942,0.057578}\\rho_{l}} = \\require{color}{\\color[rgb]{0.964810,0.470942,0.057578}13,600 kg / m^3}$ has a height of $\\require{color}{\\color[rgb]{0.986048,0.008333,0.501924}h} = {\\color[rgb]{0.986048,0.008333,0.501924}0.75 m}$. What is the local atmospheric pressure?\n",
    "\n",
    "<img src=\"images/image_L2_8.png\" alt=\"orifice\" width=\"100\"/> "
   ]
  },
  {
   "cell_type": "markdown",
   "id": "cb575e14",
   "metadata": {},
   "source": [
    "<details>\n",
    "  <summary>Solution</summary>\n",
    "  The difference in pressures may be expressed as:\n",
    "    \n",
    "  $$\n",
    "  \\large\n",
    "  \\require{color}{\\color[rgb]{0.315209,0.728565,0.037706}p_a} - {\\color[rgb]{0.315209,0.728565,0.037706}p_{v}} = \\left( {\\color[rgb]{0.918231,0.469102,0.038229}\\rho_{l}} - {\\color[rgb]{0.918231,0.469102,0.038229}\\rho_{a}} \\right) g {\\color[rgb]{0.985542,0.009453,0.999181}h} \\approx \\rho_{l} g {\\color[rgb]{0.985542,0.009453,0.999181}h} \n",
    "  $$\n",
    "    \n",
    "  Additionally, since ${\\color[rgb]{0.315209,0.728565,0.037706}p_{v}} \\approx 0$, we have\n",
    "    \n",
    "  $$\n",
    "  \\large\n",
    "  \\require{color}{\\color[rgb]{0.315209,0.728565,0.037706}p_a} \\approx  \\rho_{l} g {\\color[rgb]{0.985542,0.009453,0.999181}h} \n",
    "  $$\n",
    "    \n",
    "  Numerical solution is given below. \n",
    "</details>"
   ]
  },
  {
   "cell_type": "code",
   "execution_count": 14,
   "id": "b48db83c",
   "metadata": {},
   "outputs": [
    {
     "name": "stdout",
     "output_type": "stream",
     "text": [
      "0.9865284974093265 atm\n"
     ]
    }
   ],
   "source": [
    "h = 0.75\n",
    "rho = 13600\n",
    "g = 9.8\n",
    "p_a = rho * h * g\n",
    "print(str(p_a/101325)+' atm')"
   ]
  },
  {
   "cell_type": "markdown",
   "id": "654a300d",
   "metadata": {},
   "source": [
    "## Problem 4\n",
    "\n",
    "Consider a dam which has a parabolic surface as shown in the figure below. \n",
    "\n",
    "Real perspective          |  Schematic for the problem\n",
    ":-------------------------:|:-------------------------:\n",
    "<img src=\"images/image_L2_6.png\" alt=\"orifice\" width=\"200\"/>  | <img src=\"images/image_L2_7.png\" alt=\"orifice\" width=\"500\"/>\n",
    "\n",
    "Assuming that the dam is filled with water, and has dimensions $x_0 = 5 m$ and $z_0 = 8 m$, calculate the forces $\\require{color}{\\color[rgb]{0.064095,0.501831,0.501977}F_v}$ and $\\require{color}{\\color[rgb]{0.064095,0.501831,0.501977}F_h}$. The depth of the dam is given to be $20 m$ and the density of water in the dam is $\\require{color}{\\color[rgb]{0.964810,0.470942,0.057578}\\rho} = \\require{color}{\\color[rgb]{0.964810,0.470942,0.057578}1000 kg / m^3}$."
   ]
  },
  {
   "cell_type": "markdown",
   "id": "353209f2",
   "metadata": {},
   "source": [
    "<details>\n",
    "  <summary>Solution</summary>\n",
    "    \n",
    "  As the fluid in the dam is at rest, it is worth noting that the vertical force $\\require{color}{\\color[rgb]{0.064095,0.501831,0.501977}F_v}$ corresponds to the weight of the water above, while the horizontal force $\\require{color}{\\color[rgb]{0.064095,0.501831,0.501977}F_h}$ is the pressure force across the projected area. \n",
    "    \n",
    "  To work out the volume of water above the dam, we integrate the parabola and multiply it by the depth ($w=20 m$). The first part yields the area\n",
    "    \n",
    "  $$\n",
    "  \\large\n",
    "  \\require{color}\n",
    "  A = \\int_{0}^{x_0} {\\color[rgb]{0.986252,0.007236,0.027423}z}\\left(x \\right)dx = \\int_{0}^{x_0} z_0 \\left( \\frac{x}{x_0} \\right)^2 dx\n",
    "  $$\n",
    "    \n",
    "  $$\n",
    "  \\large\n",
    "  \\require{color}\n",
    "  A = \\frac{z_0}{x^2_0} \\int_{0}^{x_0} x^2 dx = \\frac{z_0}{x^2_0} \\left[ \\frac{x^3}{3} \\right]_{0}^{x_0} = \\frac{1}{3} x_0 z_0\n",
    "  $$\n",
    "   \n",
    "   Note that this is the area underneath the red curve. What we want is the area corresponding to where the water is. This is given by\n",
    "    \n",
    "  $$\n",
    "  \\large\n",
    "  \\require{color}\n",
    "  A_{water} = x_0 z_0 -  \\frac{1}{3} x_0 z_0 = \\frac{2}{3} x_0 z_0.\n",
    "  $$\n",
    "    \n",
    "   The volume of water in the parabolic region is thus simply\n",
    "    \n",
    "   $$\n",
    "   \\large\n",
    "   V = \\frac{2}{3} x_0 z_0 w.\n",
    "   $$\n",
    "    \n",
    "   The vertical force may then be written as\n",
    "    \n",
    "   $$\n",
    "   \\large\n",
    "   \\require{color}{\\color[rgb]{0.064095,0.501831,0.501977}F_v} = {\\color[rgb]{0.964810,0.470942,0.057578}\\rho}  g \\frac{2}{3}x_0 z_0 w.\n",
    "   $$\n",
    "    \n",
    "   For the horizontal force, \n",
    "    \n",
    "   $$\n",
    "   \\large\n",
    "   \\require{color}{\\color[rgb]{0.064095,0.501831,0.501977}F_h} = w \\int_{0}^{z_0} {\\color[rgb]{0.964810,0.470942,0.057578}\\rho} g {\\color[rgb]{0.986252,0.007236,0.027423}z} d{\\color[rgb]{0.986252,0.007236,0.027423}z} = w  {\\color[rgb]{0.964810,0.470942,0.057578}\\rho} g \\frac{z^2_0}{2}\n",
    "   $$\n",
    "    \n",
    "   \n",
    "   Numerical solutions are given below. \n",
    "</details>"
   ]
  },
  {
   "cell_type": "code",
   "execution_count": 9,
   "id": "92bfe57a",
   "metadata": {},
   "outputs": [
    {
     "name": "stdout",
     "output_type": "stream",
     "text": [
      "6533333.333333332 N\n"
     ]
    }
   ],
   "source": [
    "w = 20\n",
    "x0 = 5\n",
    "z0 = 10\n",
    "rho = 1000\n",
    "g = 9.8\n",
    "F_v = rho * g * 2/3 * x0 * z0 * w\n",
    "print(str(F_v)+' N')"
   ]
  },
  {
   "cell_type": "code",
   "execution_count": 10,
   "id": "85b8bc54",
   "metadata": {},
   "outputs": [
    {
     "name": "stdout",
     "output_type": "stream",
     "text": [
      "9800000.0 N\n"
     ]
    }
   ],
   "source": [
    "F_h = rho * g * w * z0**2 / 2\n",
    "print(str(F_h)+' N')"
   ]
  }
 ],
 "metadata": {
  "kernelspec": {
   "display_name": "Python 3 (ipykernel)",
   "language": "python",
   "name": "python3"
  },
  "language_info": {
   "codemirror_mode": {
    "name": "ipython",
    "version": 3
   },
   "file_extension": ".py",
   "mimetype": "text/x-python",
   "name": "python",
   "nbconvert_exporter": "python",
   "pygments_lexer": "ipython3",
   "version": "3.11.1"
  }
 },
 "nbformat": 4,
 "nbformat_minor": 5
}
