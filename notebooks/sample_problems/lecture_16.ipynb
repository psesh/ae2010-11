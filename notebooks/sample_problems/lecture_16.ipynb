{
 "cells": [
  {
   "cell_type": "raw",
   "id": "6fcd89b3",
   "metadata": {},
   "source": [
    "---\n",
    "title: \"L16 examples\"\n",
    "format:\n",
    "    html:\n",
    "        code-fold: true\n",
    "jupyter: python3\n",
    "fontsize: 1.2em\n",
    "linestretch: 1.5\n",
    "toc: true\n",
    "notebook-view: true\n",
    "---"
   ]
  },
  {
   "cell_type": "markdown",
   "id": "1388eaa6",
   "metadata": {},
   "source": [
    "## Problem 1\n",
    "\n",
    "A gas-powered refrigerator works by taking in heat from a heat exchanger at ${\\color[rgb]{0.164799,0.878862,0.723179}500^{\\circ} \\; C}$ and from a cold space at ${\\color[rgb]{0.164799,0.878862,0.723179}-10^{\\circ} \\; C}$, while rejecting heat to the environment at ${\\color[rgb]{0.164799,0.878862,0.723179}35^{\\circ} \\; C}$. The refrigerator is a cyclic device, and there is no work input or output. Use the Clausius inequality to find the minimum rate at which heat must be supplied by the heat exchanger in order to extract heat at a rate of ${\\color[rgb]{0.334690,0.296180,0.998454}1 \\; kW}$ from the cold space. "
   ]
  },
  {
   "cell_type": "markdown",
   "id": "704e2216",
   "metadata": {},
   "source": [
    "<details>\n",
    "  <summary>Solution</summary>\n",
    "This problem is very similar to the one covered in Lecture 16. It will be useful to consider the diagram below.\n",
    "\n",
    "<img src=\"images/image_L16_1.png\" alt=\"cycle\" width=\"500\"/>\n",
    "\n",
    "From the 1st law we have:\n",
    "\n",
    "$$\n",
    "\\large\n",
    "\\require{color}\n",
    "{\\color[rgb]{0.334690,0.296180,0.998454}\\dot{Q}_{1}} + {\\color[rgb]{0.334690,0.296180,0.998454}\\dot{Q}_{2}} = {\\color[rgb]{0.334690,0.296180,0.998454}\\dot{Q}_{3} }\n",
    "$$\n",
    "\n",
    "and from the second law (the Clausius inequality):\n",
    "\n",
    "$$\n",
    "\\large\n",
    "\\require{color}\n",
    "\\sum \\frac{{\\color[rgb]{0.334690,0.296180,0.998454}\\dot{Q}_{i}}}{{\\color[rgb]{0.164799,0.878862,0.723179}T_i}} \\leq 0 \n",
    "$$\n",
    "\n",
    "As noted in Lecture 16, the minus sign sign that preceeds $\\require{color}{\\color[rgb]{0.334690,0.296180,0.998454}\\dot{Q}_{3}}$ denotes it is going out of the system. Eliminating $\\require{color}{\\color[rgb]{0.334690,0.296180,0.998454}\\dot{Q}_{3}}$ from the two expressions yields:\n",
    "\n",
    "$$\n",
    "\\large\n",
    "\\require{color}\n",
    "\\frac{{\\color[rgb]{0.334690,0.296180,0.998454}\\dot{Q}_{1}}}{{\\color[rgb]{0.164799,0.878862,0.723179}T_1}} + \\frac{{\\color[rgb]{0.334690,0.296180,0.998454}\\dot{Q}_{2}}}{{\\color[rgb]{0.164799,0.878862,0.723179}T_2}} - \\frac{\\left( {\\color[rgb]{0.334690,0.296180,0.998454}\\dot{Q}_{1}} + {\\color[rgb]{0.334690,0.296180,0.998454}\\dot{Q}_{2}}\\right) }{{\\color[rgb]{0.164799,0.878862,0.723179}T_3}} \\leq 0 \n",
    "$$\n",
    "\n",
    "Rearranging the above gives\n",
    "\n",
    "$$\n",
    "\\large\n",
    "\\require{color}\n",
    "\\frac{{\\color[rgb]{0.334690,0.296180,0.998454}\\dot{Q}_{1}}}{{\\color[rgb]{0.334690,0.296180,0.998454}\\dot{Q}_{2}}} \\geq \\left( \\frac{{\\color[rgb]{0.164799,0.878862,0.723179}1/T_2} - {\\color[rgb]{0.164799,0.878862,0.723179}1/T_3}}{{\\color[rgb]{0.164799,0.878862,0.723179}1/T_3} - {\\color[rgb]{0.164799,0.878862,0.723179}1/T_1}} \\right) \n",
    "$$\n",
    "\n",
    "with the numerical solution given below.\n",
    "    \n",
    "</details>"
   ]
  },
  {
   "cell_type": "code",
   "execution_count": 2,
   "id": "01bd73a6",
   "metadata": {},
   "outputs": [
    {
     "name": "stdout",
     "output_type": "stream",
     "text": [
      "The minimum heat supply rate from the heat exchanger (source) is 0.284 kW\n"
     ]
    }
   ],
   "source": [
    "import numpy as np\n",
    "\n",
    "absolute_zero = 273.15 \n",
    "T_1 = 500 + absolute_zero # all in Kelvin!\n",
    "T_2 = -10 + absolute_zero\n",
    "T_3 = 35 + absolute_zero\n",
    "dot_Q1_by_dot_Q2 = (1./T_2 - 1./T_3)/(1./T_3 - 1./T_1)\n",
    "dot_Q2 = 1 # kW\n",
    "dot_Q1 = dot_Q1_by_dot_Q2 * dot_Q2\n",
    "print('The minimum heat supply rate from the heat exchanger (source) is '+str(np.round(dot_Q1, 3))+' kW')"
   ]
  },
  {
   "cell_type": "markdown",
   "id": "ef3003eb",
   "metadata": {},
   "source": [
    "## Problem 2\n",
    "\n",
    "A cyclic heat pump takes ${\\color[rgb]{0.334690,0.296180,0.998454}600 \\; MJ}$ (mega joules) of heat at ${\\color[rgb]{0.164799,0.878862,0.723179}27^{\\circ} \\; C}$ while rejecting heat to a system whose temperature rises ${\\color[rgb]{0.164799,0.878862,0.723179}1^{\\circ} \\; C}$ for each MJ of energy supplied to it. Initially this system is also at ${\\color[rgb]{0.164799,0.878862,0.723179}27^{\\circ} \\; C}$.  \n",
    "\n",
    "a. Explain why there is a limit on the final temperature of the system. State whether it is an upper or lower limit, and under what circumstances it would be reached.  \n",
    "b. Calculate the limit on the final temperature of the system. What is the work input to the heat pump when this limit is achieved? "
   ]
  },
  {
   "cell_type": "markdown",
   "id": "bb3e45a7",
   "metadata": {},
   "source": [
    "<details>\n",
    "  <summary>Solution</summary>\n",
    "As before, it will be useful to sketch out a diagram of the process above. \n",
    "\n",
    "<img src=\"images/image_L16_2.png\" alt=\"cycle\" width=\"300\"/>\n",
    "\n",
    "a. From the first law, it is clear that\n",
    "\n",
    "$$\n",
    "\\large\n",
    "\\require{color}\n",
    "{\\color[rgb]{0.334690,0.296180,0.998454}\\delta Q_2}= {\\color[rgb]{0.334690,0.296180,0.998454}\\delta Q_1} + {\\color[rgb]{0.562040,0.190215,0.568721}\\delta W}.\n",
    "$$\n",
    "\n",
    "Note that if the pump were reversible, then it would be as efficient as possible, implying that the amount of work $\\require{color}{\\color[rgb]{0.562040,0.190215,0.568721}\\delta W}$ required by the pump would be as low as possible. This sets a lower limit on work, which consequently also sets a lower limit on $\\require{color}{\\color[rgb]{0.334690,0.296180,0.998454}\\delta Q_2}$, and therefore on $\\require{color}{\\color[rgb]{0.164799,0.878862,0.723179}T_2}$.\n",
    "\n",
    "b. Consider the Clausius statement (with appropriate signs)\n",
    "\n",
    "$$\n",
    "\\large\n",
    "\\require{color}\n",
    "\\frac{{\\color[rgb]{0.334690,0.296180,0.998454}\\delta Q_1}}{{\\color[rgb]{0.164799,0.878862,0.723179}T_1}} - \\frac{{\\color[rgb]{0.334690,0.296180,0.998454}\\delta Q_2}}{{\\color[rgb]{0.164799,0.878862,0.723179}T_2}} \\leq 0 \n",
    "$$\n",
    "\n",
    "From the problem statement, we can infer that the constant ${\\color[rgb]{0.000000,0.000000,0.000000}c = 1 \\; MJ/K}$, leading to \n",
    "\n",
    "$$\n",
    "\\large\n",
    "\\require{color}\n",
    "\\frac{c {\\color[rgb]{0.164799,0.878862,0.723179}\\delta T_2}}{{\\color[rgb]{0.164799,0.878862,0.723179}T_2}} \\geq \\frac{{\\color[rgb]{0.334690,0.296180,0.998454}\\delta Q_1}}{{\\color[rgb]{0.164799,0.878862,0.723179}T_1}}. \n",
    "$$\n",
    "\n",
    "Integrating both sides of this equation\n",
    "\n",
    "$$\n",
    "\\large\n",
    "\\require{color}\n",
    "\\int_{{\\color[rgb]{0.164799,0.878862,0.723179}300}}^{{\\color[rgb]{0.164799,0.878862,0.723179}T_f}}\\frac{c {\\color[rgb]{0.164799,0.878862,0.723179}\\delta T_2}}{{\\color[rgb]{0.164799,0.878862,0.723179}T_2}} \\geq \\frac{{\\color[rgb]{0.334690,0.296180,0.998454}Q_1}}{{\\color[rgb]{0.164799,0.878862,0.723179}T_1}} \n",
    "$$\n",
    "\n",
    "$$\n",
    "\\large\n",
    "\\require{color}\n",
    "\\Rightarrow 1 \\times ln \\left( \\frac{{\\color[rgb]{0.164799,0.878862,0.723179}T_f}}{{\\color[rgb]{0.164799,0.878862,0.723179}300.15}} \\right) \\geq \\frac{{\\color[rgb]{0.334690,0.296180,0.998454}600}}{{\\color[rgb]{0.164799,0.878862,0.723179}300.15}}\\Rightarrow {\\color[rgb]{0.164799,0.878862,0.723179}T_f} \\geq {\\color[rgb]{0.164799,0.878862,0.723179}2217.82 \\; K}\n",
    "$$\n",
    "\n",
    "Note that for the reversible case\n",
    "\n",
    "$$\n",
    "\\large\n",
    "\\require{color}\n",
    "{\\color[rgb]{0.334690,0.296180,0.998454}Q_2} = \\left({\\color[rgb]{0.164799,0.878862,0.723179}2217.82} - {\\color[rgb]{0.164799,0.878862,0.723179}300.15} \\right) / c = {\\color[rgb]{0.334690,0.296180,0.998454}1917.67} \\; {\\color[rgb]{0.334690,0.296180,0.998454}MJ}\n",
    "$$\n",
    "\n",
    "Thus the work input is \n",
    "\n",
    "$$\n",
    "\\large\n",
    "\\require{color}\n",
    "{\\color[rgb]{0.562040,0.190215,0.568721}W} = {\\color[rgb]{0.334690,0.296180,0.998454}1917.67} - {\\color[rgb]{0.334690,0.296180,0.998454}600} = {\\color[rgb]{0.562040,0.190215,0.568721}1316.7 \\; MJ}\n",
    "$$.\n",
    "    \n",
    "</details>"
   ]
  }
 ],
 "metadata": {
  "kernelspec": {
   "display_name": "Python 3 (ipykernel)",
   "language": "python",
   "name": "python3"
  },
  "language_info": {
   "codemirror_mode": {
    "name": "ipython",
    "version": 3
   },
   "file_extension": ".py",
   "mimetype": "text/x-python",
   "name": "python",
   "nbconvert_exporter": "python",
   "pygments_lexer": "ipython3",
   "version": "3.11.1"
  }
 },
 "nbformat": 4,
 "nbformat_minor": 5
}
