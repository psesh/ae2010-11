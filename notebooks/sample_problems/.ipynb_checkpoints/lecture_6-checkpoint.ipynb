{
 "cells": [
  {
   "cell_type": "raw",
   "id": "43c956ec",
   "metadata": {},
   "source": [
    "---\n",
    "title: \"L6 examples\"\n",
    "format:\n",
    "    html:\n",
    "        code-fold: true\n",
    "jupyter: python3\n",
    "fontsize: 1.2em\n",
    "linestretch: 1.5\n",
    "toc: true\n",
    "notebook-view: true\n",
    "---"
   ]
  },
  {
   "cell_type": "markdown",
   "id": "a231171f",
   "metadata": {},
   "source": [
    "## Problem 1\n",
    "\n",
    "A jet of air is ejected tangentially onto a curved surface as shwon below. Assuming that the height of the jet does not alter as it moves around the surface, and that the jet velocity is uniform across its area, please determine the gauge pressure on the solid surface. Assume the density of air is $\\require{color}{\\color[rgb]{0.918231,0.469102,0.038229}\\rho } = {\\color[rgb]{0.918231,0.469102,0.038229}1.25 \\; kg/m^3}$.\n",
    "\n",
    "<img src=\"images/image_L6_1.png\" alt=\"channel\" width=\"300\"/> "
   ]
  },
  {
   "cell_type": "markdown",
   "id": "a630e95e",
   "metadata": {},
   "source": [
    "<details>\n",
    "<summary>Solution</summary> \n",
    "Annotating the figure above, we have:\n",
    "\n",
    "<img src=\"images/image_L6_2.png\" alt=\"channel\" width=\"300\"/> \n",
    "\n",
    "\n",
    "Along the curve, the pressure gradient in the normal direction is given by\n",
    "\n",
    "$$\n",
    "\\large\n",
    "\\require{color}\\frac{d{\\color[rgb]{0.315209,0.728565,0.037706}p}}{d{\\color[rgb]{0.986252,0.007236,0.027423}n}} = {\\color[rgb]{0.990448,0.502245,0.032881}\\rho} \\frac{{\\color[rgb]{0.059472,0.501943,0.998465}V}^2}{R}\n",
    "$$\n",
    "\n",
    "where the radius is given by\n",
    "\n",
    "$$\n",
    "\\large\n",
    "\\require{color}R = R_o + {\\color[rgb]{0.986252,0.007236,0.027423}n}.\n",
    "$$\n",
    "\n",
    "This yields\n",
    "\n",
    "$$\n",
    "\\large\n",
    "\\require{color}\\frac{d{\\color[rgb]{0.315209,0.728565,0.037706}p}}{d{\\color[rgb]{0.986252,0.007236,0.027423}n}} ={\\color[rgb]{0.990448,0.502245,0.032881} \\rho}{\\color[rgb]{0.059472,0.501943,0.998465} V}^2 \\frac{1}{R_o + {\\color[rgb]{0.986252,0.007236,0.027423}n}}\n",
    "$$\n",
    "\n",
    "$$\n",
    "\\large\n",
    "\\require{color}\\Rightarrow d{\\color[rgb]{0.315209,0.728565,0.037706}p} ={\\color[rgb]{0.990448,0.502245,0.032881} \\rho}{\\color[rgb]{0.059472,0.501943,0.998465} V}^2 \\frac{d{\\color[rgb]{0.986252,0.007236,0.027423}n}}{R_o + {\\color[rgb]{0.986252,0.007236,0.027423}n}}.\n",
    "$$\n",
    "\n",
    "Integrating both sides, yields\n",
    "\n",
    "$$\n",
    "\\large\n",
    "\\require{color}\\Rightarrow \\int_{{\\color[rgb]{0.315209,0.728565,0.037706}p_{surface}}}^{{\\color[rgb]{0.315209,0.728565,0.037706}p_{atm}}}d{\\color[rgb]{0.315209,0.728565,0.037706}p} = \\int_{0}^{h} {\\color[rgb]{0.990448,0.502245,0.032881} \\rho}{\\color[rgb]{0.059472,0.501943,0.998465} V}^2 \\frac{d{\\color[rgb]{0.986252,0.007236,0.027423}n}}{R_o + {\\color[rgb]{0.986252,0.007236,0.027423}n}}\n",
    "$$\n",
    "\n",
    "\n",
    "$$\n",
    "\\large\n",
    "\\require{color}\\Rightarrow {\\color[rgb]{0.315209,0.728565,0.037706}p_{atm}} - {\\color[rgb]{0.315209,0.728565,0.037706}p_{surface}} = {\\color[rgb]{0.918231,0.469102,0.038229}\\rho} {\\color[rgb]{0.059472,0.501943,0.998465}V}^2 ln \\left( \\frac{R_o + h}{R_o} \\right)\n",
    "$$\n",
    "\n",
    "Recognizing that the left hand side is the gauge pressure, we can now go ahead and plug in the numerical values.\n",
    "</details>"
   ]
  },
  {
   "cell_type": "code",
   "execution_count": 2,
   "id": "ecb5d326",
   "metadata": {},
   "outputs": [
    {
     "name": "stdout",
     "output_type": "stream",
     "text": [
      "1.2437913566460115  Pa\n"
     ]
    }
   ],
   "source": [
    "rho = 1.25\n",
    "h = 0.01\n",
    "R_o = 1\n",
    "V = 10\n",
    "p_gauge = rho * V**2 * np.log((R_o + h)/R_o)\n",
    "print(str(p_gauge),' Pa')"
   ]
  },
  {
   "cell_type": "markdown",
   "id": "770901af",
   "metadata": {},
   "source": [
    "## Problem 2\n",
    "\n",
    "Consider the following qualitative queries:\n",
    "\n",
    "- Why does the pressure decrease towards the center of a cyclone?\n",
    "- An often used demonstration for the Bernoulli equation is to hold a sheet of paper between both hands in front of (and slightly below) your mouth so that it drops away from you face. As you blow over the upper surface of the paper it should rise. Why is this not a demonstration of Bernoulli’s equation? \n",
    "- Why does the paper rise? What is the name of this effect?\n",
    "- Give some examples of the Magnus effect and explain how it works. "
   ]
  },
  {
   "cell_type": "markdown",
   "id": "99ed25af",
   "metadata": {},
   "source": [
    "<details>\n",
    "<summary>Solution</summary> \n",
    "- Curved streamlines are indicative of a pressure gradient, i.e., with higher pressure lying away from the center of curvature. This is why the pressure towards the center of a cyclone is lower than the pressure that lies outward. \n",
    "\n",
    "- It is incorrect to assume that the air in the jet has the same Bernoulli constant as the surrounding ambient air. In fact, assuming the *static pressure* of the jet leaving the mouth is the same as the ambient pressure, then there is a difference of $\\require{color}\\{\\color[rgb]{0.918231,0.469102,0.038229}rho} {\\color[rgb]{0.059472,0.501943,0.998465}v}^2 / 2$ between the two. \n",
    "\n",
    "- The paper lifts owing to the *Coanda effect*.\n",
    "\n",
    "- The Magnus effect is observed on rotating cylinders or spheres. A pressure difference across a rotating body is formed which leads to a normal force, generating lift (depending on the direction of rotation). Some examples include spinning golf and baseballs. \n",
    "</details>"
   ]
  },
  {
   "cell_type": "markdown",
   "id": "73300d25",
   "metadata": {},
   "source": [
    "## Problem 3\n",
    "\n",
    "\n",
    "Water flow in open channels can be controlled and measured with the sluice gate shown below. The flow is uniform at a moderate distance upstream and downstream of the gate, i.e. at sections **1** and **2**. Consider the following two questions:\n",
    "\n",
    "- (a) Explain why the pressure variation at **1** and **2** is hydrostatic. \n",
    "\n",
    "- (b) Show that the force per unit width, F, required to hold the gate in place is: \n",
    "\n",
    "$$\n",
    "\\large\n",
    "\\require{color}{\\color[rgb]{0.986252,0.007236,0.027423}F} = {\\color[rgb]{0.918231,0.469102,0.038229}\\rho }{\\color[rgb]{0.059472,0.501943,0.998465}V_1}^2 h_1 - {\\color[rgb]{0.918231,0.469102,0.038229}\\rho}{\\color[rgb]{0.059472,0.501943,0.998465}V_2}^2 h_2 + \\frac{{\\color[rgb]{0.918231,0.469102,0.038229}\\rho} g h_1^2}{2} - \\frac{{\\color[rgb]{0.918231,0.469102,0.038229}\\rho} g h_2^2}{2}.\n",
    "$$\n",
    "\n",
    "Sluice gate        |  Schematic\n",
    ":-------------------------:|:-------------------------:\n",
    "<img src=\"images/image_L6_4.png\" alt=\"channel\" width=\"300\"/>  | <img src=\"images/image_L6_3.png\" alt=\"pitot\" width=\"400\"/>\n"
   ]
  },
  {
   "cell_type": "markdown",
   "id": "53842d10",
   "metadata": {},
   "source": [
    "<details>\n",
    "<summary>Solution</summary> \n",
    "It will be useful to consider a control volume around stations 1 and 2. From the steady flow momentum equation along the horizontal direction we have\n",
    "\n",
    "$$\n",
    "\\large\n",
    "\\require{color}\\sum F + \\sum {\\color[rgb]{0.315209,0.728565,0.037706}p}A = \\sum \\dot{m}_{out} {\\color[rgb]{0.059472,0.501943,0.998465}v_{out}} -  \\sum \\dot{m}_{in}{\\color[rgb]{0.059472,0.501943,0.998465} v_{in}}\n",
    "$$\n",
    "\n",
    "Thus we have\n",
    "\n",
    "$$\n",
    "\\large\n",
    "\\require{color}{\\color[rgb]{0.986252,0.007236,0.027423}F}_{fluid} + \\int_{0}^{h_1} {\\color[rgb]{0.315209,0.728565,0.037706}p_1} d{\\color[rgb]{0.131302,0.999697,0.023594}y} - \\int_{0}^{h_1} {\\color[rgb]{0.315209,0.728565,0.037706}p_2} d{\\color[rgb]{0.131302,0.999697,0.023594}y} = {\\color[rgb]{0.918231,0.469102,0.038229}\\rho} h_2 {\\color[rgb]{0.059472,0.501943,0.998465}v_2} {\\color[rgb]{0.059472,0.501943,0.998465}v_2} - {\\color[rgb]{0.918231,0.469102,0.038229}\\rho} h_1 {\\color[rgb]{0.059472,0.501943,0.998465}v_1 v_1}\n",
    "$$\n",
    "\n",
    "$$\n",
    "\\large\n",
    "\\require{color}\\Rightarrow{\\color[rgb]{0.986252,0.007236,0.027423}F}_{fluid} = -\\int_{0}^{h_1} {\\color[rgb]{0.315209,0.728565,0.037706}p_1} d{\\color[rgb]{0.131302,0.999697,0.023594}y} +\\int_{0}^{h_1} {\\color[rgb]{0.315209,0.728565,0.037706}p_2} d{\\color[rgb]{0.131302,0.999697,0.023594}y} + {\\color[rgb]{0.918231,0.469102,0.038229}\\rho} h_2 {\\color[rgb]{0.059472,0.501943,0.998465}v_2}^2 - {\\color[rgb]{0.918231,0.469102,0.038229}\\rho} h_1 {\\color[rgb]{0.059472,0.501943,0.998465}v_1}^2\n",
    "$$\n",
    "\n",
    "where the force on the fluid, $\\require{color}{\\color[rgb]{0.986252,0.007236,0.027423}F}_{fluid}$ acts in the positive $x-$direction. This is opposite to the force acting on the gate. \n",
    "\n",
    "Now, note the assumptions we have made:\n",
    "- velocities at **1** and **2** are uniform;\n",
    "- conditions are steady on average;\n",
    "- shear stress (fluid friction) may be ignored.\n",
    "\n",
    "Now we need to find the pressure forces at entry and exit, i.e., ${\\color[rgb]{0.315209,0.728565,0.037706}p_1}$ and ${\\color[rgb]{0.315209,0.728565,0.037706}p_2}$. The streamlines at **1** and **2** are parallel, so there is no centripetal acceleration. Thus, the vertical pressure gradient balances the gravitational force. In other words, we have hydrostatic balance. Thus we have\n",
    "\n",
    "$$\n",
    "\\large\n",
    "\\require{color}{\\color[rgb]{0.315209,0.728565,0.037706}p_1} ={\\color[rgb]{0.918231,0.469102,0.038229} \\rho} g \\left(h_1 - {\\color[rgb]{0.131302,0.999697,0.023594}y }\\right), \\; \\; \\; \\; \n",
    "{\\color[rgb]{0.315209,0.728565,0.037706}p_2} ={\\color[rgb]{0.918231,0.469102,0.038229} \\rho} g \\left(h_2 - {\\color[rgb]{0.131302,0.999697,0.023594}y }\\right).\n",
    "$$\n",
    "\n",
    "Computing the integrals (the terms from above), yields\n",
    "\n",
    "$$\n",
    "\\large\n",
    "\\require{color}\\Rightarrow \\int_{0}^{h_1} {\\color[rgb]{0.315209,0.728565,0.037706}p_1} d{\\color[rgb]{0.131302,0.999697,0.023594}y} = \\frac{1}{2}{\\color[rgb]{0.918231,0.469102,0.038229}\\rho} g h_1^2, \\; \\; \\; \\; \\Rightarrow \\int_{0}^{h_2} {\\color[rgb]{0.315209,0.728565,0.037706}p_2} d{\\color[rgb]{0.131302,0.999697,0.023594}y} = \\frac{1}{2}{\\color[rgb]{0.918231,0.469102,0.038229}\\rho} g h_2^2\n",
    "$$\n",
    "\n",
    "Thus we can combine the above to work out the force acting on the fluid, i.e., \n",
    "\n",
    "$$\n",
    "\\large\n",
    "\\require{color}\\Rightarrow{\\color[rgb]{0.986252,0.007236,0.027423}F}_{fluid} = -\\frac{1}{2}{\\color[rgb]{0.918231,0.469102,0.038229}\\rho} g h_1^2 + \\frac{1}{2}{\\color[rgb]{0.918231,0.469102,0.038229}\\rho} g h_2^2 + {\\color[rgb]{0.918231,0.469102,0.038229}\\rho} h_2 {\\color[rgb]{0.059472,0.501943,0.998465}v_2}^2 - {\\color[rgb]{0.918231,0.469102,0.038229}\\rho} h_1 {\\color[rgb]{0.059472,0.501943,0.998465}v_1}^2.\n",
    "$$\n",
    "\n",
    "The force acting on the gate is equal to the opposite, i.e.,\n",
    "\n",
    "$$\n",
    "\\large\n",
    "\\require{color}\\Rightarrow{\\color[rgb]{0.986252,0.007236,0.027423}F} = \\frac{1}{2}{\\color[rgb]{0.918231,0.469102,0.038229}\\rho} g h_1^2 - \\frac{1}{2}{\\color[rgb]{0.918231,0.469102,0.038229}\\rho} g h_2^2 - {\\color[rgb]{0.918231,0.469102,0.038229}\\rho} h_2 {\\color[rgb]{0.059472,0.501943,0.998465}v_2}^2 + {\\color[rgb]{0.918231,0.469102,0.038229}\\rho} h_1 {\\color[rgb]{0.059472,0.501943,0.998465}v_1}^2.\n",
    "$$\n",
    "</details>"
   ]
  },
  {
   "cell_type": "code",
   "execution_count": null,
   "id": "d7eb8608",
   "metadata": {},
   "outputs": [],
   "source": []
  }
 ],
 "metadata": {
  "kernelspec": {
   "display_name": "Python 3 (ipykernel)",
   "language": "python",
   "name": "python3"
  },
  "language_info": {
   "codemirror_mode": {
    "name": "ipython",
    "version": 3
   },
   "file_extension": ".py",
   "mimetype": "text/x-python",
   "name": "python",
   "nbconvert_exporter": "python",
   "pygments_lexer": "ipython3",
   "version": "3.11.1"
  }
 },
 "nbformat": 4,
 "nbformat_minor": 5
}
