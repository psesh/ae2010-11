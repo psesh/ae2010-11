{
 "cells": [
  {
   "cell_type": "raw",
   "id": "91b01c24",
   "metadata": {},
   "source": [
    "---\n",
    "title: \"L3 examples\"\n",
    "format:\n",
    "    html:\n",
    "        code-fold: true\n",
    "jupyter: python3\n",
    "fontsize: 1.2em\n",
    "linestretch: 1.5\n",
    "toc: true\n",
    "notebook-view: true\n",
    "---"
   ]
  },
  {
   "cell_type": "markdown",
   "id": "defac846",
   "metadata": {},
   "source": [
    "## Problem 1\n",
    "For reasons that will become later once we study viscosity and pressure losses, flows through pipes generally have a parabolic profile, i.e., \n",
    "\n",
    "$$\n",
    "\\large\n",
    "\\require{color}{\\color[rgb]{0.059472,0.501943,0.998465}v} \\left( r \\right) = V_o \\left( 1 - \\left( \\frac{r}{{\\color[rgb]{0.501967,0.001556,0.998511}R}} \\right)^2 \\right).\n",
    "$$\n",
    "\n",
    "Given this profile, please calculate the massflow rate through a pipe where the radius $\\require{color}{\\color[rgb]{0.501967,0.001556,0.998511}R} = 1 \\; m$, and the density of the fluid in the pipe is $\\require{color}{\\color[rgb]{0.964810,0.470942,0.057578}\\rho} = \\require{color}{\\color[rgb]{0.964810,0.470942,0.057578}1000 kg / m^3}$, and the constant $V_o = 10$.\n",
    "\n",
    "<img src=\"images/image_L3_1.png\" alt=\"reservoir\" width=\"500\"/>"
   ]
  },
  {
   "cell_type": "markdown",
   "id": "d8224983",
   "metadata": {},
   "source": [
    "<details>\n",
    "<summary>Solution</summary>\n",
    "To answer this question, it will be useful to consider a ring-shaped element for the area; see the diagram below.\n",
    "\n",
    "<img src=\"images/image_L3_2.png\" alt=\"reservoir\" width=\"300\"/>\n",
    "\n",
    "The massflow rate is given by\n",
    "\n",
    "$$\n",
    "\\large\n",
    "\\require{color}\\dot{m} = \\int_{{\\color[rgb]{0.064095,0.501831,0.501977}A}} {\\color[rgb]{0.990448,0.502245,0.032881}\\rho} {\\color[rgb]{0.059472,0.501943,0.998465}v} {\\color[rgb]{0.064095,0.501831,0.501977}dA}\n",
    "$$\n",
    "\n",
    "From the diagram above, we can use the following statement\n",
    "\n",
    "$$\n",
    "\\large\n",
    "\\require{color}{\\color[rgb]{0.064095,0.501831,0.501977}dA} = 2 \\pi r dr.\n",
    "$$\n",
    "\n",
    "This can then be substituted back into the equation for the massflow rate to yield\n",
    "\n",
    "$$\n",
    "\\large\n",
    "\\require{color}\\dot{m} = \\int_{0}^{{\\color[rgb]{0.501967,0.001556,0.998511}R}} {\\color[rgb]{0.990448,0.502245,0.032881}\\rho} {\\color[rgb]{0.059472,0.501943,0.998465}v}\\left(r \\right) 2 \\pi r dr\n",
    "$$\n",
    "\n",
    "Integrating this out yields\n",
    "\n",
    "$$\n",
    "\\large\n",
    "\\require{color}\\dot{m} = \\int_{0}^{{\\color[rgb]{0.501967,0.001556,0.998511}R}} {\\color[rgb]{0.990448,0.502245,0.032881}\\rho} V_o \\left( 1 - \\left( \\frac{r}{{\\color[rgb]{0.501967,0.001556,0.998511}R}} \\right)^2 \\right) 2 \\pi r dr\n",
    "$$\n",
    "\n",
    "$$\n",
    "\\large\n",
    "\\require{color}\\dot{m} = 2 \\pi {\\color[rgb]{0.990448,0.502245,0.032881}\\rho} V_o \\int_{0}^{{\\color[rgb]{0.501967,0.001556,0.998511}R}}  \\left( 1 - \\left( \\frac{r}{{\\color[rgb]{0.501967,0.001556,0.998511}R}} \\right)^2 \\right)  r dr\n",
    "$$\n",
    "\n",
    "\n",
    "$$\n",
    "\\large\n",
    "\\require{color}\\dot{m} = 2 \\pi {\\color[rgb]{0.990448,0.502245,0.032881}\\rho} V_o \\int_{0}^{{\\color[rgb]{0.501967,0.001556,0.998511}R}}  \\left( r -  \\frac{r^3}{{\\color[rgb]{0.501967,0.001556,0.998511}R^2}}  \\right)  dr\n",
    "$$\n",
    "\n",
    "\n",
    "$$\n",
    "\\large\n",
    "\\require{color}\\dot{m} = 2 \\pi {\\color[rgb]{0.990448,0.502245,0.032881}\\rho} V_o \\left[  \\frac{{\\color[rgb]{0.501967,0.001556,0.998511}R^2}}{2} - \\frac{1}{{\\color[rgb]{0.501967,0.001556,0.998511}R^2}}\\frac{{\\color[rgb]{0.501967,0.001556,0.998511}R^4}}{4} \\right]\n",
    "$$\n",
    "\n",
    "$$\n",
    "\\large\n",
    "\\require{color}\\dot{m} = \\pi {\\color[rgb]{0.990448,0.502245,0.032881}\\rho} V_o \\frac{{\\color[rgb]{0.501967,0.001556,0.998511}R^2}}{2}\n",
    "$$\n",
    "\n",
    "We can now plug in values to work out this value, i.e.,\n",
    "\n",
    "</details>"
   ]
  },
  {
   "cell_type": "code",
   "execution_count": 3,
   "id": "d6b5d624",
   "metadata": {},
   "outputs": [
    {
     "name": "stdout",
     "output_type": "stream",
     "text": [
      "15707.963267948964 kg/s\n"
     ]
    }
   ],
   "source": [
    "import numpy as np\n",
    "\n",
    "V_o = 10\n",
    "rho = 1000\n",
    "R = 1\n",
    "m_dot = 0.5 * np.pi * rho * V_o * R**2 \n",
    "print(str(m_dot)+' kg/s')"
   ]
  },
  {
   "cell_type": "markdown",
   "id": "18ed5ce1",
   "metadata": {},
   "source": [
    "## Problem 2\n",
    "A water tank receives a continuous flow rate of $0.2 kg/s$ and delivers $0.1 kg/s$ to an outlet. What is the rate at which the tank water mass grows? If the initial water mass is $100 kg$ when will it have $1000 kg$?\n",
    "\n",
    "<img src=\"images/image_L3_3.png\" alt=\"tank\" width=\"500\"/>"
   ]
  },
  {
   "cell_type": "markdown",
   "id": "24a11d5d",
   "metadata": {},
   "source": [
    "<details>\n",
    "<summary>Solution</summary>\n",
    "Clearly as the inflow is greater than the outflow (and because the problem does not mention steady conditions), we can think of this as a *quasi-steady* problem.\n",
    "\n",
    "We have the following equations:\n",
    "\n",
    "$$\n",
    "\\large\n",
    "\\require{color}\\frac{\\Delta m}{\\Delta t} = {\\color[rgb]{0.985542,0.009453,0.999181}\\dot{m}_{out}} - {\\color[rgb]{0.065909,0.501809,0.006823}\\dot{m}_{in}} = {\\color[rgb]{0.985542,0.009453,0.999181}0.1 kg/s }- {\\color[rgb]{0.065909,0.501809,0.006823}0.2 kg /s} = -0.1 kg /s\n",
    "$$\n",
    "\n",
    "Let the time taken be $\\delta t$, then we have\n",
    "\n",
    "$$\n",
    "\\large\n",
    "\\require{color}{\\color[rgb]{0.990448,0.502245,0.032881}m_{init}} + \\frac{\\Delta m}{ \\Delta t} = {\\color[rgb]{0.501967,0.001556,0.998511}m_{final}}\n",
    "$$\n",
    "\n",
    "$$\n",
    "\\large\n",
    "\\require{color}\\Rightarrow{\\color[rgb]{0.990448,0.502245,0.032881}100 kg }+ \\left|0.1 kg/s\\right| \\delta t = {\\color[rgb]{0.501967,0.001556,0.998511}1000 kg\n",
    "}\n",
    "$$\n",
    "\n",
    "which implies that $\\delta t = 9000 s$. \n",
    "</details>"
   ]
  },
  {
   "cell_type": "markdown",
   "id": "c3562668",
   "metadata": {},
   "source": [
    "## Problem 3\n",
    "\n",
    "Water with a density of $1000 kg/m^3$ flows through a channel of rectangular cross section of $1 m$ by $2 m$ at a volumetric flow rate of $5400 m^3/hr$. Determine the velocity in $m/s$ & the mass flow rate in $kg/s$.\n",
    "\n",
    "<img src=\"images/image_L3_4.png\" alt=\"channel\" width=\"500\"/>"
   ]
  }
 ],
 "metadata": {
  "kernelspec": {
   "display_name": "Python 3 (ipykernel)",
   "language": "python",
   "name": "python3"
  },
  "language_info": {
   "codemirror_mode": {
    "name": "ipython",
    "version": 3
   },
   "file_extension": ".py",
   "mimetype": "text/x-python",
   "name": "python",
   "nbconvert_exporter": "python",
   "pygments_lexer": "ipython3",
   "version": "3.11.1"
  }
 },
 "nbformat": 4,
 "nbformat_minor": 5
}
