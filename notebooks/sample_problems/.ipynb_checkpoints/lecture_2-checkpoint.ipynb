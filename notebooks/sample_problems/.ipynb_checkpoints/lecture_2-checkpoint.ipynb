{
 "cells": [
  {
   "cell_type": "raw",
   "id": "ba11a4fd",
   "metadata": {},
   "source": [
    "---\n",
    "title: \"L2 examples\"\n",
    "format:\n",
    "    html:\n",
    "        code-fold: true\n",
    "jupyter: python3\n",
    "fontsize: 1.2em\n",
    "linestretch: 1.5\n",
    "toc: true\n",
    "notebook-view: true\n",
    "---"
   ]
  },
  {
   "cell_type": "markdown",
   "id": "c2cd8146",
   "metadata": {},
   "source": [
    "## Problem 1\n",
    "\n",
    "A reservoir contains a volume of water 1 meter in height. Someone has accidentally spilled a tiny bit of oil, which floats on top of the water. The oil has a height of 0.2 meters. Please calculate the *gauge pressure* at the bottom of the reservoir. Assume the following densities for oil and water $\\require{color}{\\color[rgb]{0.964810,0.470942,0.057578}\\rho_{o}} = \\require{color}{\\color[rgb]{0.964810,0.470942,0.057578}750 kg / m^3}$ and $\\require{color}{\\color[rgb]{0.964810,0.470942,0.057578}\\rho_{w}} = \\require{color}{\\color[rgb]{0.964810,0.470942,0.057578}1000 kg / m^3}$. \n",
    "\n",
    "<img src=\"images/image_L2_1.png\" alt=\"reservoir\" width=\"400\"/>"
   ]
  },
  {
   "cell_type": "markdown",
   "id": "00164acf",
   "metadata": {},
   "source": [
    "<details>\n",
    "  <summary>Solution</summary>\n",
    "\n",
    "  It will be useful to consider a diagram of the reservoir. \n",
    "\n",
    "  <img src=\"images/image_L2_2.png\" alt=\"reservoir\" width=\"400\"/>\n",
    "    \n",
    "    \n",
    "  At the interface $i$, the pressure is given by\n",
    "\n",
    "  $$\n",
    "  \\large\n",
    "  \\require{color}{\\color[rgb]{0.315209,0.728565,0.037706}p_i }= {\\color[rgb]{0.315209,0.728565,0.037706}p_a} + {\\color[rgb]{0.964810,0.470942,0.057578}\\rho_{o}} g h_o.\n",
    "  $$\n",
    "    \n",
    "  At the reservoir floor, the pressure is given by\n",
    "    \n",
    "  $$\n",
    "  \\large\n",
    "  \\require{color}{\\color[rgb]{0.315209,0.728565,0.037706}p }= {\\color[rgb]{0.315209,0.728565,0.037706}p_i} + {\\color[rgb]{0.964810,0.470942,0.057578}\\rho{w}} g h_w.\n",
    "  $$\n",
    "  \n",
    "  This results in\n",
    "   \n",
    "  $$\n",
    "  \\large\n",
    "  \\require{color}{\\color[rgb]{0.315209,0.728565,0.037706}p }= {\\color[rgb]{0.315209,0.728565,0.037706}p_a} + {\\color[rgb]{0.964810,0.470942,0.057578}\\rho_{o}} g h_o + {\\color[rgb]{0.964810,0.470942,0.057578}\\rho_{w}} g h_w.\n",
    "  $$\n",
    "    \n",
    "  Now, the definition of the *gauge pressure* is the pressure measurement relative to the atmospheric pressure. That is\n",
    "    \n",
    "   $$\n",
    "  \\large\n",
    "  \\require{color}{\\color[rgb]{0.315209,0.728565,0.037706}p } - {\\color[rgb]{0.315209,0.728565,0.037706}p_a}=   {\\color[rgb]{0.964810,0.470942,0.057578}\\rho_{o}} g h_o + {\\color[rgb]{0.964810,0.470942,0.057578}\\rho_{w}} g h_w.\n",
    "  $$\n",
    "    \n",
    "  Plugging in values for the above, we arrive at\n",
    "    \n",
    "  $$\n",
    "  \\large\n",
    "  \\require{color}{\\color[rgb]{0.315209,0.728565,0.037706}p } - {\\color[rgb]{0.315209,0.728565,0.037706}p_a}=   {\\color[rgb]{0.964810,0.470942,0.057578} 750 \\frac{kg}{m^3}} \\times 9.8 \\frac{m}{s^2} \\times 0.2 m + {\\color[rgb]{0.964810,0.470942,0.057578} 1000 \\frac{kg}{m^3}} \\times 9.8 \\frac{m}{s^2} \\times 1 m.\n",
    "  $$\n",
    "  $$\n",
    "  \\large\n",
    "  \\require{color}{\\color[rgb]{0.315209,0.728565,0.037706}p } - {\\color[rgb]{0.315209,0.728565,0.037706}p_a} = 11,270 \\frac{kg }{m \\cdot s^2}\n",
    "  $$\n",
    "  This may also be expressed as $11,270 \\; Pa$, where $Pa$ stands for Pascals. \n",
    "</details>"
   ]
  },
  {
   "cell_type": "markdown",
   "id": "ed878d03",
   "metadata": {},
   "source": [
    "## Problem 2\n",
    "\n",
    "An orifice plate is a thin circular plate with an orifice (hole) that is machined through its center. Below you will find a few pictures of an orifice plate and how it is used to control the flow. Essentially, one can use an orifice plate within a pipe to induce a pressure drop. This pressure drop is used to work out the velocity of the flow going through the pipe. \n",
    "\n",
    "\n",
    "Side view of plate in a pipe          |  Orifice plate measurement system\n",
    ":-------------------------:|:-------------------------:\n",
    "<img src=\"images/image_L2_3.png\" alt=\"orifice\" width=\"400\"/>  | <img src=\"images/image_L2_4.png\" alt=\"orifice\" width=\"400\"/>\n",
    "\n",
    "\n"
   ]
  },
  {
   "cell_type": "markdown",
   "id": "c72bd711",
   "metadata": {},
   "source": [
    "Now consider a sloping manometer that is used to measure the pressure drop across an orifice plate, in a horizontal pipe carrying a fluid (air). The manometer is slanted, with $\\require{color}{\\color[rgb]{0.127700,0.999775,0.999047}\\gamma } = 30^{\\circ}$. The arrangement is shown below.\n",
    "\n",
    "<img src=\"images/image_L2_5.png\" alt=\"orifice\" width=\"400\"/>\n",
    "\n",
    "If the liquid in the manometer is mercury, which has a density of $  \\require{color}{\\color[rgb]{0.964810,0.470942,0.057578}\\rho_{m}} = \\require{color}{\\color[rgb]{0.964810,0.470942,0.057578}13.6 \\times 10^3 \\; kg/m^3}$, find the pressure drop. "
   ]
  },
  {
   "cell_type": "markdown",
   "id": "047bd06b",
   "metadata": {},
   "source": [
    "<details>\n",
    "  <summary>Solution</summary>\n",
    "\n",
    "  We will ignore the contribution of the *weight of air*. This is because the density of mercury is roughly four orders of magnitude greater. Thus, the pressure drop may be expressed as\n",
    "    \n",
    "  $$\n",
    "  \\large\n",
    "  \\require{color}{\\color[rgb]{0.315209,0.728565,0.037706}p_{A} }- {\\color[rgb]{0.315209,0.728565,0.037706}p_{B} }= {\\color[rgb]{0.918231,0.469102,0.038229}\\rho_{m}} g  {\\color[rgb]{1.000000,0.869732,0.000000}h} sin \\left({\\color[rgb]{0.127700,0.999775,0.999047} \\gamma }\\right) \n",
    "  $$\n",
    "\n",
    "  $$\n",
    "  \\large\n",
    "  \\require{color}{\\color[rgb]{0.315209,0.728565,0.037706}p_{A} }- {\\color[rgb]{0.315209,0.728565,0.037706}p_{B} }= {\\color[rgb]{0.918231,0.469102,0.038229}13.6 \\times 10^{3} \\frac{kg}{m^3}} \\times 9.8 \\frac{m}{s^2} \\times {\\color[rgb]{1.000000,0.869732,0.000000}0.85 m} \\times sin \\left({\\color[rgb]{0.127700,0.999775,0.999047} 30^{\\circ}}\\right) \n",
    "  $$\n",
    "  \n",
    "   $$\n",
    "  \\large\n",
    "  \\require{color}{\\color[rgb]{0.315209,0.728565,0.037706}p_{A} }- {\\color[rgb]{0.315209,0.728565,0.037706}p_{B} }= 53,312 \\frac{N}{m^2}\n",
    "  $$\n",
    "</details>    "
   ]
  }
 ],
 "metadata": {
  "kernelspec": {
   "display_name": "Python 3 (ipykernel)",
   "language": "python",
   "name": "python3"
  },
  "language_info": {
   "codemirror_mode": {
    "name": "ipython",
    "version": 3
   },
   "file_extension": ".py",
   "mimetype": "text/x-python",
   "name": "python",
   "nbconvert_exporter": "python",
   "pygments_lexer": "ipython3",
   "version": "3.11.1"
  }
 },
 "nbformat": 4,
 "nbformat_minor": 5
}
