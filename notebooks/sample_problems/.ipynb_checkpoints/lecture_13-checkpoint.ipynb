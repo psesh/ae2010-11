{
 "cells": [
  {
   "cell_type": "raw",
   "id": "6fcd89b3",
   "metadata": {},
   "source": [
    "---\n",
    "title: \"L13 examples\"\n",
    "format:\n",
    "    html:\n",
    "        code-fold: true\n",
    "jupyter: python3\n",
    "fontsize: 1.2em\n",
    "linestretch: 1.5\n",
    "toc: true\n",
    "notebook-view: true\n",
    "---"
   ]
  },
  {
   "cell_type": "markdown",
   "id": "06682bdc",
   "metadata": {},
   "source": [
    "## Problem 1\n",
    "\n",
    "0.1 kg of ammonia gas is maintained at a constant pressure of $\\require{color}{\\color[rgb]{0.315209,0.728565,0.037706}2}$ bar in a cylinder by means of a weighted piston. The ammonia is slowly heated with a Bunsen burner flame from an initial temperature of $\\require{color}{\\color[rgb]{0.164799,0.878862,0.723179}10}$ degrees Celcius to a final temperature of $\\require{color}{\\color[rgb]{0.164799,0.878862,0.723179}20}$ degrees Celcius. Calculate:\n",
    "\n",
    "a. the change in the volume of the gas \\\n",
    "b. the work done during the expansion \\\n",
    "c. the heat addition during the process \n",
    "\n",
    "To solve this problem you will need to use the two tables provided in Lecture 13. They are reproduced below for your convenience. \n",
    "\n",
    "<img src=\"images/image_L13_1.png\" alt=\"table1\" width=\"600\"/> \n",
    "\n",
    "<img src=\"images/image_L13_2.png\" alt=\"table2\" width=\"600\"/> "
   ]
  },
  {
   "cell_type": "markdown",
   "id": "b628e401",
   "metadata": {},
   "source": [
    "<details>\n",
    "  <summary>Solution</summary>\n",
    "The relevant formulas for the solutions are detailed below. For the numerical solutions, please go throught the code. \n",
    "\n",
    "a. The change in volume is given by \n",
    "\n",
    "$$\n",
    "\\large\n",
    "\\require{color}\n",
    "{\\color[rgb]{0.079785,0.618358,0.483717}\\Delta V} = m \\left( {\\color[rgb]{0.918231,0.469102,0.038229}\\nu_2 }- {\\color[rgb]{0.918231,0.469102,0.038229}\\nu_1} \\right).\n",
    "$$\n",
    "\n",
    "b. The work done is given by the integral\n",
    "\n",
    "$$\n",
    "\\large\n",
    "\\require{color}\n",
    "{\\color[rgb]{0.562040,0.190215,0.568721}W} = \\int_{1}^{2} {\\color[rgb]{0.315209,0.728565,0.037706}p}d{\\color[rgb]{0.079785,0.618358,0.483717}V} = {\\color[rgb]{0.315209,0.728565,0.037706}p} {\\color[rgb]{0.079785,0.618358,0.483717}\\Delta V}\n",
    "$$\n",
    "\n",
    "as the pressure is constant.\n",
    "    \n",
    "c. The heat addition during the process is:\n",
    "\n",
    "$$\n",
    "\\large\n",
    "\\require{color}\n",
    "{\\color[rgb]{0.334690,0.296180,0.998454}Q} - {\\color[rgb]{0.562040,0.190215,0.568721}W} = {\\color[rgb]{0.999993,0.999963,0.041015}\\Delta U} \\Rightarrow {\\color[rgb]{0.562040,0.190215,0.568721}W} + m \\left({\\color[rgb]{0.999993,0.999963,0.041015}u_2} - {\\color[rgb]{0.999993,0.999963,0.041015}u_1} \\right)\n",
    "$$\n",
    "\n",
    "In the solutions below, please be wary of the units. \n",
    "</details>"
   ]
  },
  {
   "cell_type": "code",
   "execution_count": 16,
   "id": "5ff52cce",
   "metadata": {},
   "outputs": [
    {
     "name": "stdout",
     "output_type": "stream",
     "text": [
      "The change in volume is 0.0026 m^3 \n",
      "\n",
      "The work done during expansion is 0.5264 kJ \n",
      "\n",
      "The head addition is 2.2674 kJ \n",
      "\n"
     ]
    }
   ],
   "source": [
    "import numpy as np\n",
    "\n",
    "# a.\n",
    "nu_2 = 0.69952 # specific volume table entry at 20 degrees @ 2 bar\n",
    "nu_1 = 0.67320 # specific volume table entry at 10 degrees @ 2 bar\n",
    "m = 0.1 # kg\n",
    "Delta_V = m * (nu_2 - nu_1)\n",
    "print('The change in volume is '+str(np.round(Delta_V, 4))+' m^3 \\n')\n",
    "\n",
    "# b.\n",
    "p = 2 * 10**5 # 2 bar = 200 kPa = 2 * 10^5 Pa\n",
    "W = p * Delta_V\n",
    "print('The work done during expansion is '+str(np.round(W,4)/10**3)+' kJ \\n')\n",
    "\n",
    "# c. \n",
    "u_2 = 1369.28 # specific internal energy table entry at 20 degrees @ 2 bar\n",
    "u_1 = 1351.87 # specific internal energy table entry at 10 degrees @ 2 bar\n",
    "Q = W/10**3 + m * (u_2 - u_1)\n",
    "print('The head addition is '+str(np.around(Q,4))+' kJ \\n')"
   ]
  },
  {
   "cell_type": "markdown",
   "id": "04c86943",
   "metadata": {},
   "source": [
    "## Problem 2\n",
    "Dry air has a molar composition of $21 \\% \\; O_2 \\; (M=32 \\; g/mol)$ and $79 \\% \\; N_2 \\; (M=28.15 \\; g/mol)$. Calculate:\n",
    "\n",
    "a. The specific gas constant for air; \\\n",
    "b. The mass of 1 liter of air at $\\require{color}{\\color[rgb]{0.315209,0.728565,0.037706}1.013 \\;  bar}$ and $\\require{color}{\\color[rgb]{0.164799,0.878862,0.723179} 25^{\\circ}\\; C}$. \\\n",
    "c. The density of air at these conditions. "
   ]
  },
  {
   "cell_type": "markdown",
   "id": "dc101f71",
   "metadata": {},
   "source": [
    "<details>\n",
    "  <summary>Solution</summary>\n",
    "a. The molecular mass of air is given by \n",
    "\n",
    "$$\n",
    "\\large\n",
    "\\require{color}\n",
    "M_{air} = \\frac{21}{100}  M_{O_2} + \\frac{79}{100}  M_{N_2} = 0.21 \\times 32 + 0.79 \\times 28.15 = 28.96 \\frac{g}{mol}. \n",
    "$$\n",
    "\n",
    "This can then be used to work out the specific gas constant\n",
    "\n",
    "$$\n",
    "\\large\n",
    "\\require{color}\n",
    "R_{air}  = \\frac{\\bar{R}}{M_{air}} = \\frac{8.314 \\frac{J}{mol \\cdot K}}{M_{air} \\; \\frac{g}{mol}} = \\frac{8.314 \\; J }{28.96 \\; g \\cdot K} = \\frac{8.314 \\times 10^{3} \\; J }{28.96 \\; kg \\cdot K} = 287 \\; \\frac{J}{kg \\cdot K}\n",
    "$$\n",
    "\n",
    "which represents the solution in the standard units. \n",
    "\n",
    "b. To calculate the mass, we simply utilize the idea gas law in the form\n",
    "\n",
    "$$\n",
    "\\large\n",
    "\\require{color}\n",
    "m = \\frac{{\\color[rgb]{0.315209,0.728565,0.037706}p} {\\color[rgb]{0.079785,0.618358,0.483717}V}}{R {\\color[rgb]{0.164799,0.878862,0.723179}T}} =  \\frac{\\left( {\\color[rgb]{0.315209,0.728565,0.037706}1.013 \\times 10^{5} \\; Pa} \\right) \\left( {\\color[rgb]{0.079785,0.618358,0.483717} 1 \\; liter \\times \\frac{0.001 m^3}{1 \\; liter} }\\right) }{\\left( 287 \\; \\frac{J}{kg \\cdot K} \\right)\\left( {\\color[rgb]{0.164799,0.878862,0.723179}298.15 \\; K }\\right) } = 0.00118 \\; kg\n",
    "$$\n",
    "\n",
    "c. To work out the density, we simply divide the mass by the volume \n",
    "\n",
    "$$\n",
    "\\large\n",
    "\\require{color}\n",
    "{\\color[rgb]{0.918231,0.469102,0.038229}\\rho} = \\frac{m}{{\\color[rgb]{0.079785,0.618358,0.483717}V}} = \\frac{0.00118 \\; kg}{{\\color[rgb]{0.079785,0.618358,0.483717}0.001 \\; m^3}} ={\\color[rgb]{0.918231,0.469102,0.038229} 1.18 \\; \\frac{kg}{m^3}}.\n",
    "$$\n",
    "    \n",
    "</details>"
   ]
  },
  {
   "cell_type": "markdown",
   "id": "7e69d70c",
   "metadata": {},
   "source": []
  }
 ],
 "metadata": {
  "kernelspec": {
   "display_name": "Python 3 (ipykernel)",
   "language": "python",
   "name": "python3"
  },
  "language_info": {
   "codemirror_mode": {
    "name": "ipython",
    "version": 3
   },
   "file_extension": ".py",
   "mimetype": "text/x-python",
   "name": "python",
   "nbconvert_exporter": "python",
   "pygments_lexer": "ipython3",
   "version": "3.11.1"
  }
 },
 "nbformat": 4,
 "nbformat_minor": 5
}
