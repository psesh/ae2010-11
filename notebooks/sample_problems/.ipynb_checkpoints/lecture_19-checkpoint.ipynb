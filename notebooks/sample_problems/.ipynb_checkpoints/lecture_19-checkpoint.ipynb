{
 "cells": [
  {
   "cell_type": "raw",
   "id": "6fcd89b3",
   "metadata": {},
   "source": [
    "---\n",
    "title: \"L19 examples\"\n",
    "format:\n",
    "    html:\n",
    "        code-fold: true\n",
    "jupyter: python3\n",
    "fontsize: 1.2em\n",
    "linestretch: 1.5\n",
    "toc: true\n",
    "notebook-view: true\n",
    "---"
   ]
  },
  {
   "cell_type": "markdown",
   "id": "1388eaa6",
   "metadata": {},
   "source": [
    "## Problem 1\n",
    "\n",
    "Combustion gases enter the turbine of a jet engine at $\\require{color}{\\color[rgb]{0.315209,0.728565,0.037706}15.0 \\; bar}$ and $\\require{color}{\\color[rgb]{0.164799,0.878862,0.723179}1250 \\; K}$ with a velocity of $\\require{color}{\\color[rgb]{0.059472,0.501943,0.998465}50 \\; m/s}$. At the exit, the pressure, temperature, and velocity are $\\require{color}{\\color[rgb]{0.315209,0.728565,0.037706}3.0 \\; bar}$, $\\require{color}{\\color[rgb]{0.164799,0.878862,0.723179}850 \\; K}$ and $\\require{color}{\\color[rgb]{0.059472,0.501943,0.998465}100 \\; m/s}$ respectively. The exit area is given to be $0.6 \\; m^2$. Calculate the mass flow rate and the power output from the turbine. Assume perfect gas relations with $R = 288 J/\\left(kg \\cdot K \\right)$ and $\\require{color}{\\color[rgb]{0.986252,0.007236,0.027423}c}_{\\color[rgb]{0.315209,0.728565,0.037706}p} = {\\color[rgb]{0.986252,0.007236,0.027423}1200 \\; J/\\left(kg \\cdot K \\right)}$. \n",
    "\n",
    "<img src=\"images/image_L19_1.png\" alt=\"cycle\" width=\"300\"/>\n",
    "\n",
    "(image above by [Petr Kratochvil](https://tinyurl.com/ycyu5j9h))"
   ]
  },
  {
   "cell_type": "markdown",
   "id": "751da8b8",
   "metadata": {},
   "source": [
    "<details>\n",
    "  <summary>Solution</summary>\n",
    "First, to work out the massflow rate we note that\n",
    "\n",
    "$$\n",
    "\\large\n",
    "\\require{color}\n",
    "\\dot{m} = {\\color[rgb]{0.918231,0.469102,0.038229}\\rho_2} A_2 {\\color[rgb]{0.059472,0.501943,0.998465}v_2} = \\frac{{\\color[rgb]{0.315209,0.728565,0.037706}p_2}}{R {\\color[rgb]{0.164799,0.878862,0.723179}T_2}} \\times A_2 \\times {\\color[rgb]{0.059472,0.501943,0.998465}v_2} = \\frac{{\\color[rgb]{0.315209,0.728565,0.037706}3 \\times 10^5\\; Pa}}{288 \\times {\\color[rgb]{0.164799,0.878862,0.723179}850}} \\times 0.6 \\times {\\color[rgb]{0.059472,0.501943,0.998465}100}\n",
    "$$\n",
    "\n",
    "$$\n",
    "\\large\n",
    "\\require{color}\n",
    "\\dot{m} = 73.5 \\; \\frac{kg}{s}\n",
    "$$\n",
    "\n",
    "From the SFEE we have\n",
    "\n",
    "$$\n",
    "\\large\n",
    "\\require{color}\n",
    "{\\color[rgb]{0.334690,0.296180,0.998454}q} - {\\color[rgb]{0.562040,0.190215,0.568721}w_{x}} = \\left({\\color[rgb]{0.986252,0.007236,0.027423}h_2} - {\\color[rgb]{0.986252,0.007236,0.027423}h_1} \\right) + \\left( \\frac{1}{2} {\\color[rgb]{0.059472,0.501943,0.998465}v_2}^2 - \\frac{1}{2}{\\color[rgb]{0.059472,0.501943,0.998465}v_1}^2 \\right)\n",
    "$$\n",
    "\n",
    "Assuming a perfect as we have $\\require{color}{\\color[rgb]{0.986252,0.007236,0.027423}h} = {\\color[rgb]{0.986252,0.007236,0.027423}c}_{\\color[rgb]{0.315209,0.728565,0.037706}p} {\\color[rgb]{0.164799,0.878862,0.723179}\\Delta T}$ leading to \n",
    "\n",
    "$$\n",
    "\\large\n",
    "\\require{color}\n",
    "-{\\color[rgb]{0.562040,0.190215,0.568721}w_x} = {\\color[rgb]{0.986252,0.007236,0.027423}c}_{\\color[rgb]{0.315209,0.728565,0.037706}p} \\left({\\color[rgb]{0.164799,0.878862,0.723179}T_2} - {\\color[rgb]{0.164799,0.878862,0.723179}T_1} \\right) + \\frac{1}{2}\\left( {\\color[rgb]{0.059472,0.501943,0.998465}v_2}^2 - {\\color[rgb]{0.059472,0.501943,0.998465}v_1}^2\\right)\n",
    "$$\n",
    "\n",
    "$$\n",
    "\\large\n",
    "\\require{color}\n",
    "{\\color[rgb]{0.562040,0.190215,0.568721}w_x} = {\\color[rgb]{0.986252,0.007236,0.027423}c}_{\\color[rgb]{0.315209,0.728565,0.037706}p} \\left({\\color[rgb]{0.164799,0.878862,0.723179}T_1} - {\\color[rgb]{0.164799,0.878862,0.723179}T_2} \\right) + \\frac{1}{2}\\left( {\\color[rgb]{0.059472,0.501943,0.998465}v_1}^2 - {\\color[rgb]{0.059472,0.501943,0.998465}v_2}^2\\right)\n",
    "$$\n",
    "\n",
    "$$\n",
    "\\large\n",
    "\\require{color}\n",
    "\\Rightarrow {\\color[rgb]{0.562040,0.190215,0.568721}w_x} = {\\color[rgb]{0.986252,0.007236,0.027423}1200} \\left({\\color[rgb]{0.164799,0.878862,0.723179}1250} - {\\color[rgb]{0.164799,0.878862,0.723179}800} \\right) + \\frac{1}{2}\\left( {\\color[rgb]{0.059472,0.501943,0.998465}50}^2 - {\\color[rgb]{0.059472,0.501943,0.998465}100}^2\\right) = {\\color[rgb]{0.562040,0.190215,0.568721}480 - 3.75} = {\\color[rgb]{0.562040,0.190215,0.568721}476.25 \\; \\frac{kJ}{kg}}\n",
    "$$\n",
    "\n",
    "The shaft power is then given by\n",
    "\n",
    "$$\n",
    "\\large\n",
    "\\require{color}\n",
    "{\\color[rgb]{0.562040,0.190215,0.568721}\\dot{w}_{x}} = \\dot{m} {\\color[rgb]{0.562040,0.190215,0.568721}w_{x}} = 73.5 \\times {\\color[rgb]{0.562040,0.190215,0.568721}476.25 \\; \\frac{kJ}{kg}} = 35 \\; MW.\n",
    "$$\n",
    "    \n",
    "</details>"
   ]
  },
  {
   "cell_type": "code",
   "execution_count": null,
   "id": "95392cd5",
   "metadata": {},
   "outputs": [],
   "source": []
  }
 ],
 "metadata": {
  "kernelspec": {
   "display_name": "Python 3 (ipykernel)",
   "language": "python",
   "name": "python3"
  },
  "language_info": {
   "codemirror_mode": {
    "name": "ipython",
    "version": 3
   },
   "file_extension": ".py",
   "mimetype": "text/x-python",
   "name": "python",
   "nbconvert_exporter": "python",
   "pygments_lexer": "ipython3",
   "version": "3.11.1"
  }
 },
 "nbformat": 4,
 "nbformat_minor": 5
}
