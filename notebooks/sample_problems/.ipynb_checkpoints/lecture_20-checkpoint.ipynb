{
 "cells": [
  {
   "cell_type": "raw",
   "id": "6fcd89b3",
   "metadata": {},
   "source": [
    "---\n",
    "title: \"L20 examples\"\n",
    "format:\n",
    "    html:\n",
    "        code-fold: true\n",
    "jupyter: python3\n",
    "fontsize: 1.2em\n",
    "linestretch: 1.5\n",
    "toc: true\n",
    "notebook-view: true\n",
    "---"
   ]
  },
  {
   "cell_type": "markdown",
   "id": "1388eaa6",
   "metadata": {},
   "source": [
    "## Problem 1\n",
    "\n",
    "A pitot tube mounted on an aircraft flying at an altitude of $10,000$ meters measures a pressure of $\\require{color}{\\color[rgb]{0.315209,0.728565,0.037706}16\\; kPa}$ relative to static. Determine the flight speed.\n",
    "\n",
    "<img src=\"images/image_L20_1.png\" alt=\"cycle\" width=\"300\"/>\n",
    "\n",
    "(image above by [David Monniaux](https://tinyurl.com/5n7nb9ch))"
   ]
  },
  {
   "cell_type": "markdown",
   "id": "664b6c87",
   "metadata": {},
   "source": [
    "<details>\n",
    "  <summary>Solution</summary>\n",
    "In this problem, we will make use of look-up tables; these will typically be given to you for a problem. Consider the three snippets given below.\n",
    "\n",
    "<img src=\"images/image_L20_2.png\" alt=\"cycle\" width=\"500\"/>\n",
    "\n",
    "<img src=\"images/image_L20_3.png\" alt=\"cycle\" width=\"500\"/>\n",
    "\n",
    "<img src=\"images/image_L20_4.png\" alt=\"cycle\" width=\"500\"/>\n",
    "\n",
    "We can work out the static temperatures and pressures at this altitude, i.e.,\n",
    "\n",
    "$$\n",
    "\\large\n",
    "\\require{color}\n",
    "{\\color[rgb]{0.164799,0.878862,0.723179}T} = 0.7788 \\times \\left( {\\color[rgb]{0.164799,0.878862,0.723179}15^{\\circ}} + {\\color[rgb]{0.164799,0.878862,0.723179}273.15 K} \\right) = {\\color[rgb]{0.164799,0.878862,0.723179}223.3 \\; K}\n",
    "$$\n",
    "\n",
    "$$\n",
    "\\large\n",
    "\\require{color}\n",
    "{\\color[rgb]{0.315209,0.728565,0.037706}p} = {\\color[rgb]{0.315209,0.728565,0.037706}0.2615} \\times {\\color[rgb]{0.315209,0.728565,0.037706}101325} \\; {\\color[rgb]{0.315209,0.728565,0.037706}Pa} = {\\color[rgb]{0.315209,0.728565,0.037706}26.5 \\; kPa}\n",
    "$$\n",
    "\n",
    "The pitot tube measures \n",
    "\n",
    "$$\n",
    "\\large\n",
    "\\require{color}\n",
    "{\\color[rgb]{0.315209,0.728565,0.037706}\\Delta p} = {\\color[rgb]{0.315209,0.728565,0.037706}p_0} - {\\color[rgb]{0.315209,0.728565,0.037706}p} = {\\color[rgb]{0.315209,0.728565,0.037706}16 \\; kPa}\n",
    "$$\n",
    "\n",
    "This, the stagnation pressure is given by:\n",
    "\n",
    "$$\n",
    "\\large\n",
    "\\require{color}\n",
    "{\\color[rgb]{0.315209,0.728565,0.037706}p_0} = {\\color[rgb]{0.315209,0.728565,0.037706}16} + {\\color[rgb]{0.315209,0.728565,0.037706}26.5} = {\\color[rgb]{0.315209,0.728565,0.037706}42.5 \\; kPa}\n",
    "$$\n",
    "\n",
    "and the pressure ratio is therefore\n",
    "\n",
    "$$\n",
    "\\large\n",
    "\\require{color}\n",
    "{\\color[rgb]{0.315209,0.728565,0.037706}\\frac{p}{p_0}} = \\frac{{\\color[rgb]{0.315209,0.728565,0.037706}26.5}}{{\\color[rgb]{0.315209,0.728565,0.037706}42.5}} = {\\color[rgb]{0.315209,0.728565,0.037706}0.6235}\n",
    "$$\n",
    "\n",
    "From the subsonic flow look-up tables, the Mach number for this pressure ratio is given to be $\\require{color}{\\color[rgb]{0.041732,0.352132,0.699576}M} = {\\color[rgb]{0.041732,0.352132,0.699576}0.85}$. However, we need to convert this to a velocity value in meters per second. Note that the speed of sound at $10,000$ meters is given by\n",
    "\n",
    "$$\n",
    "\\large\n",
    "\\require{color}\n",
    "{\\color[rgb]{0.985542,0.009453,0.999181}a}^2 = \\gamma R {\\color[rgb]{0.164799,0.878862,0.723179}T} = 1.4 \\times 287 \\times {\\color[rgb]{0.164799,0.878862,0.723179}223.3 \\; K} = {\\color[rgb]{0.985542,0.009453,0.999181}299.5 \\; m/s}\n",
    "$$\n",
    "\n",
    "Thus, the flight speed is\n",
    "\n",
    "$$\n",
    "\\large\n",
    "\\require{color}\n",
    "{\\color[rgb]{0.059472,0.501943,0.998465}v} = {\\color[rgb]{0.041732,0.352132,0.699576}M}{\\color[rgb]{0.985542,0.009453,0.999181}a} = {\\color[rgb]{0.041732,0.352132,0.699576}0.85} \\times {\\color[rgb]{0.985542,0.009453,0.999181}299.5 \\; m/s} = {\\color[rgb]{0.000066,0.001801,0.998229}254.4 \\; m/s}\n",
    "$$\n",
    "</details>"
   ]
  }
 ],
 "metadata": {
  "kernelspec": {
   "display_name": "Python 3 (ipykernel)",
   "language": "python",
   "name": "python3"
  },
  "language_info": {
   "codemirror_mode": {
    "name": "ipython",
    "version": 3
   },
   "file_extension": ".py",
   "mimetype": "text/x-python",
   "name": "python",
   "nbconvert_exporter": "python",
   "pygments_lexer": "ipython3",
   "version": "3.11.1"
  }
 },
 "nbformat": 4,
 "nbformat_minor": 5
}
