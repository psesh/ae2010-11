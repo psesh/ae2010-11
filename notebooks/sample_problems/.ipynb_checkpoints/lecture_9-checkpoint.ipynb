{
 "cells": [
  {
   "cell_type": "raw",
   "id": "6fcd89b3",
   "metadata": {},
   "source": [
    "---\n",
    "title: \"L9 examples\"\n",
    "format:\n",
    "    html:\n",
    "        code-fold: true\n",
    "jupyter: python3\n",
    "fontsize: 1.2em\n",
    "linestretch: 1.5\n",
    "toc: true\n",
    "notebook-view: true\n",
    "---"
   ]
  },
  {
   "cell_type": "markdown",
   "id": "06682bdc",
   "metadata": {},
   "source": [
    "## Problem 1\n",
    "\n",
    "A two-dimensional air flow has circular streamlines, as shown in the figure. \n",
    "\n",
    "<img src=\"images/image_L9_1.png\" alt=\"channel\" width=\"300\"/> \n",
    "\n",
    "The velocity distribution is given by $\\require{color}{\\color[rgb]{0.059472,0.501943,0.998465}V}\\left(r\\right) = c/r$, where $\\mathsf{c}$ is a constant and $\\mathsf{r}$ is the radial distance, i.e., the velocity is a function of the radius. At a radius of $\\mathsf{r}_{0} = 0.2 \\; m$ the velocity is $\\require{color}\\mathsf{{\\color[rgb]{0.059472,0.501943,0.998465}V}_{0}=20 \\; m/s}$. Assume the air is incompressible with a density $\\require{color}{\\color[rgb]{0.918231,0.469102,0.038229}\\rho } = {\\color[rgb]{0.918231,0.469102,0.038229}1.2 \\; kg/m^3}$.\n",
    "\n",
    "- Calculate the pressure difference between the streamlines at $\\mathsf{r=r_{0}}$ and $\\mathsf{r=r_1=0.1 \\; m}$.\n",
    "- Prove whether or not Bernoulli's equation can be applied between the streamlines at different radii. "
   ]
  },
  {
   "cell_type": "markdown",
   "id": "b628e401",
   "metadata": {},
   "source": [
    "<details>\n",
    "<summary>Solution</summary> \n",
    "    \n",
    "From our study of streamlines, we know that the pressure gradient normal to a streamline with a radius of curvature is given by $\\require{color}d{\\color[rgb]{0.315209,0.728565,0.037706}p} / dr = \\rho {\\color[rgb]{0.059472,0.501943,0.998465}V}^2 / r$. Thus, we can write\n",
    "$$\n",
    "\\large\n",
    "\\require{color}\\frac{d{\\color[rgb]{0.315209,0.728565,0.037706}p}}{dr}  ={\\color[rgb]{0.918231,0.469102,0.038229}\\rho } \\frac{{\\color[rgb]{0.059472,0.501943,0.998465}V}^2}{r} = {\\color[rgb]{0.918231,0.469102,0.038229}\\rho } \\left( {\\color[rgb]{0.059472,0.501943,0.998465}V}_{0} r_{0}^2 \\right) \\frac{1}{r^3}\n",
    "$$\n",
    "\n",
    "$$\n",
    "\\large\n",
    "\\require{color}\\Rightarrow d{\\color[rgb]{0.315209,0.728565,0.037706}p}  = {\\color[rgb]{0.918231,0.469102,0.038229}\\rho } \\left( {\\color[rgb]{0.059472,0.501943,0.998465}V}_{0} r_{0}\\right)^2 \\frac{dr}{r^3} \n",
    "$$\n",
    "\n",
    "$$\n",
    "\\large\n",
    "\\require{color}\\Rightarrow \\int_{0^{\\ast}}^{1^{\\ast}} d{\\color[rgb]{0.315209,0.728565,0.037706}p} = {\\color[rgb]{0.918231,0.469102,0.038229}\\rho } {\\color[rgb]{0.059472,0.501943,0.998465}V}_{0}^2 r_{0}^2 \\cdot \\int_{0^{\\ast}}^{1^{\\ast}} \\frac{dr}{r^3} = {\\color[rgb]{0.918231,0.469102,0.038229}\\rho } {\\color[rgb]{0.059472,0.501943,0.998465}V}_{0}^2 r_{0}^2 \\cdot \\left(- \\frac{1}{2} \\right) \\left|\\frac{1}{r^{2}}\\right|_{r_{0}}^{r_{1}} \n",
    "$$\n",
    "\n",
    "This yields\n",
    "\n",
    "$$\n",
    "\\large\n",
    "\\require{color}{\\color[rgb]{0.315209,0.728565,0.037706}p}_{0} - {\\color[rgb]{0.315209,0.728565,0.037706}p}_{1} = \\frac{{\\color[rgb]{0.918231,0.469102,0.038229}\\rho } {\\color[rgb]{0.059472,0.501943,0.998465}V}_{0}^2 r_{0}^2}{2} \\left[ \\frac{1}{r_{1}^2} - \\frac{1}{r_{0}^2 }\\right] = \\frac{{\\color[rgb]{0.918231,0.469102,0.038229}\\rho } {\\color[rgb]{0.059472,0.501943,0.998465}V}_{0}^2}{2} \\left[ \\left( \\frac{r_{0}}{r_{1}}\\right)^2 - 1\\right] \n",
    "$$\n",
    "\n",
    "Plugging in the values, we arrive at\n",
    "\n",
    "$$\n",
    "\\large\n",
    "\\require{color}= \\frac{1.2 \\times 20^2}{2}\\left(2^2 - 1\\right) = 720 \\; Pa.\n",
    "$$\n",
    "\n",
    "Bernoulli's equation is applicable if the stagnation pressure (Bernoulli's constant) across streamlines at different $r$ values remains the same. In other words, we need to demonstrate that\n",
    "        \n",
    "$$\n",
    "\\large\n",
    "\\require{color}\\frac{d\\left({\\color[rgb]{0.315209,0.728565,0.037706}p} + \\frac{1}{2}\\rho {\\color[rgb]{0.059472,0.501943,0.998465}V}^2\\right)}{dr} \\equiv 0 \\; \\; \\textsf{for all r's.}\n",
    "$$\n",
    "\n",
    "Now, since \n",
    "\n",
    "$$\n",
    "\\large\n",
    "\\require{color}\\frac{d{\\color[rgb]{0.315209,0.728565,0.037706}p}}{dr} = {\\color[rgb]{0.918231,0.469102,0.038229}\\rho } \\frac{{\\color[rgb]{0.059472,0.501943,0.998465}V}^2}{r} , \\; \\; \\; and \\; \\; \\; \\frac{d\\left(\\frac{1}{2}{\\color[rgb]{0.918231,0.469102,0.038229}\\rho } {\\color[rgb]{0.059472,0.501943,0.998465}V}^2 \\right)}{dr} = \\rho {\\color[rgb]{0.059472,0.501943,0.998465}V} \\frac{dV}{dr} = {\\color[rgb]{0.918231,0.469102,0.038229}\\rho } {\\color[rgb]{0.059472,0.501943,0.998465}V} \\underbrace{ {\\color[rgb]{0.059472,0.501943,0.998465}V}_{0}r_{0}}_{c} \\frac{d\\left(r^{-1}\\right)}{dr} = -\\frac{{\\color[rgb]{0.918231,0.469102,0.038229}\\rho } {\\color[rgb]{0.059472,0.501943,0.998465}V}^2}{r} \n",
    "$$\n",
    "\n",
    "we have\n",
    "\n",
    "$$\n",
    "\\large\n",
    "\\require{color}\\frac{d \\left({\\color[rgb]{0.315209,0.728565,0.037706}p} + \\frac{1}{2} \\rho {\\color[rgb]{0.059472,0.501943,0.998465}V}^2 \\right)}{dr} = {\\color[rgb]{0.918231,0.469102,0.038229}\\rho } \\frac{{\\color[rgb]{0.059472,0.501943,0.998465}V}^2}{r} - {\\color[rgb]{0.918231,0.469102,0.038229}\\rho}\\frac{{\\color[rgb]{0.059472,0.501943,0.998465}V}^2}{r} \\equiv 0.\n",
    "$$\n",
    "\n",
    "This completes our proof. Thus, stagnation pressure across streamlines does not change and the expression is applicable to the whole flow field.\n",
    "    \n",
    "</details>"
   ]
  },
  {
   "cell_type": "code",
   "execution_count": null,
   "id": "5ff52cce",
   "metadata": {},
   "outputs": [],
   "source": []
  }
 ],
 "metadata": {
  "kernelspec": {
   "display_name": "Python 3 (ipykernel)",
   "language": "python",
   "name": "python3"
  },
  "language_info": {
   "codemirror_mode": {
    "name": "ipython",
    "version": 3
   },
   "file_extension": ".py",
   "mimetype": "text/x-python",
   "name": "python",
   "nbconvert_exporter": "python",
   "pygments_lexer": "ipython3",
   "version": "3.11.1"
  }
 },
 "nbformat": 4,
 "nbformat_minor": 5
}
