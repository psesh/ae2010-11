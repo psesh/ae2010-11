{
 "cells": [
  {
   "cell_type": "raw",
   "id": "6fcd89b3",
   "metadata": {},
   "source": [
    "---\n",
    "title: \"L10 examples\"\n",
    "format:\n",
    "    html:\n",
    "        code-fold: true\n",
    "jupyter: python3\n",
    "fontsize: 1.2em\n",
    "linestretch: 1.5\n",
    "toc: true\n",
    "notebook-view: true\n",
    "---"
   ]
  },
  {
   "cell_type": "markdown",
   "id": "06682bdc",
   "metadata": {},
   "source": [
    "## Problem 1\n",
    "\n",
    "\n",
    "Please calculate the pressure drop through a pipe if its length is $1 \\; km$; its diameter is $1 m$, and if the fluid has viscosity of $\\require{color}{\\color[rgb]{0.501963,0.000046,0.501966}\\mu} = {\\color[rgb]{0.501963,0.000046,0.501966}1.54 \\; 10^{-3} kg/(m \\cdot s)}$ and the bulk velocity is $\\require{color}{\\color[rgb]{0.059472,0.501943,0.998465}10\\; m/s}$."
   ]
  },
  {
   "cell_type": "markdown",
   "id": "766b76e9",
   "metadata": {},
   "source": [
    "This is a straightforward application of the Hagen-Poiseuille equation for the pressure loss across a pipe. Recall, from Lecture 10 we found out that\n",
    "\n",
    "$$\n",
    "\\large\n",
    "\\require{color}\\Delta {\\color[rgb]{0.315209,0.728565,0.037706}p} = \\frac{8 {\\color[rgb]{0.501963,0.000046,0.501966}\\mu} {\\color[rgb]{0.059472,0.501943,0.998465}V} L}{{\\color[rgb]{0.990448,0.502245,0.032881}R}^2}.\n",
    "$$\n",
    "\n",
    "Below we plug in the values to work this out."
   ]
  },
  {
   "cell_type": "code",
   "execution_count": 4,
   "id": "e9da418a",
   "metadata": {},
   "outputs": [
    {
     "name": "stdout",
     "output_type": "stream",
     "text": [
      "The loss in pressure is 492.8Pa\n"
     ]
    }
   ],
   "source": [
    "import numpy as np\n",
    "\n",
    "mu = 1.54 * 10**(-3) # viscosity\n",
    "V = 10 # velocity\n",
    "D = 1 # diameter\n",
    "R = D/2 # radius\n",
    "L = 1000 # 1 km = 1000 m\n",
    "Delta_p = (8 * mu * V * L)/(R**2)\n",
    "print('The loss in pressure is '+str(np.around(Delta_p,3))+'Pa')"
   ]
  }
 ],
 "metadata": {
  "kernelspec": {
   "display_name": "Python 3 (ipykernel)",
   "language": "python",
   "name": "python3"
  },
  "language_info": {
   "codemirror_mode": {
    "name": "ipython",
    "version": 3
   },
   "file_extension": ".py",
   "mimetype": "text/x-python",
   "name": "python",
   "nbconvert_exporter": "python",
   "pygments_lexer": "ipython3",
   "version": "3.11.1"
  }
 },
 "nbformat": 4,
 "nbformat_minor": 5
}
