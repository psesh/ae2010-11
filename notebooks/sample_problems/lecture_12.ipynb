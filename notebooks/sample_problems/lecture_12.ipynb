{
 "cells": [
  {
   "cell_type": "raw",
   "id": "6fcd89b3",
   "metadata": {},
   "source": [
    "---\n",
    "title: \"L12 examples\"\n",
    "format:\n",
    "    html:\n",
    "        code-fold: true\n",
    "jupyter: python3\n",
    "fontsize: 1.2em\n",
    "linestretch: 1.5\n",
    "toc: true\n",
    "notebook-view: true\n",
    "---"
   ]
  },
  {
   "cell_type": "markdown",
   "id": "06682bdc",
   "metadata": {},
   "source": [
    "## Problem 1\n",
    "\n",
    "A quantity of dry air is slowly compressed in a cylinder by means of a piston, until its volume is halved. The initial pressure and volume are $\\require{color}{\\color[rgb]{0.315209,0.728565,0.037706}1 \\; bar \\; \\;  (10^5\\;  Pa)}$ and $\\require{color}{\\color[rgb]{0.079785,0.618358,0.483717}1 \\;liter}$ respectively, and during the compression the pressure varies inversely with the volume. Sketch the process on a $\\require{color}{\\color[rgb]{0.315209,0.728565,0.037706}p}-{\\color[rgb]{0.079785,0.618358,0.483717}V}$ diagram and calculate the work transfer. Is this a positive or negative quantity?"
   ]
  },
  {
   "cell_type": "markdown",
   "id": "b628e401",
   "metadata": {},
   "source": [
    "Note that 1 liter is $10^{-3} \\; m^3$. Consider the diagram below; the work done is given by\n",
    "\n",
    "<img src=\"images/image_L12_1.png\" alt=\"PV\" width=\"300\"/> \n",
    "\n",
    "$$\n",
    "\\large\n",
    "\\require{color}\n",
    "{\\color[rgb]{0.562040,0.190215,0.568721}W} = \\int_{{\\color[rgb]{0.079785,0.618358,0.483717}V}_1}^{{\\color[rgb]{0.079785,0.618358,0.483717}V}_2} {\\color[rgb]{0.315209,0.728565,0.037706}p}d{\\color[rgb]{0.079785,0.618358,0.483717}V} = \\int_{{\\color[rgb]{0.079785,0.618358,0.483717}V}_1}^{{\\color[rgb]{0.079785,0.618358,0.483717}V}_2} \\frac{C}{{\\color[rgb]{0.079785,0.618358,0.483717}V}} d{\\color[rgb]{0.079785,0.618358,0.483717}V} = \\left[ C \\; ln \\left( {\\color[rgb]{0.079785,0.618358,0.483717}V} \\right) \\right]_{{\\color[rgb]{0.079785,0.618358,0.483717}V}_1}^{{\\color[rgb]{0.079785,0.618358,0.483717}V}_2}.\n",
    "$$\n",
    "\n",
    "From the conditions at state 1, we have\n",
    "\n",
    "$$\n",
    "\\large\n",
    "\\require{color}\n",
    "C = {\\color[rgb]{0.315209,0.728565,0.037706}p}_1 {\\color[rgb]{0.079785,0.618358,0.483717}V}_1 = {\\color[rgb]{0.315209,0.728565,0.037706}p}_2 {\\color[rgb]{0.079785,0.618358,0.483717}V}_2,\n",
    "$$\n",
    "\n",
    "yielding\n",
    "\n",
    "$$\n",
    "\\large\n",
    "\\require{color}\n",
    "{\\color[rgb]{0.562040,0.190215,0.568721}W} = {\\color[rgb]{0.315209,0.728565,0.037706}p}_1 {\\color[rgb]{0.079785,0.618358,0.483717}V}_1 ln \\left( \\frac{{\\color[rgb]{0.079785,0.618358,0.483717}V}_2}{{\\color[rgb]{0.079785,0.618358,0.483717}V}_1} \\right) = {\\color[rgb]{0.315209,0.728565,0.037706}10^{5} }\\times {\\color[rgb]{0.079785,0.618358,0.483717}10^{-3}} \\times ln \\left( \\frac{{\\color[rgb]{0.079785,0.618358,0.483717}1}}{{\\color[rgb]{0.079785,0.618358,0.483717}2}} \\right) \n",
    "$$\n",
    "\n",
    "Solving the above"
   ]
  },
  {
   "cell_type": "code",
   "execution_count": 2,
   "id": "5ff52cce",
   "metadata": {},
   "outputs": [
    {
     "name": "stdout",
     "output_type": "stream",
     "text": [
      "-69.31471805599453 J\n",
      "The work is negative and thus the work is transferred to the system.\n"
     ]
    }
   ],
   "source": [
    "import numpy as np\n",
    "\n",
    "work = 10**5 * 10**(-3) * np.log(0.5)\n",
    "print(str(work)+' J')\n",
    "print('The work is negative and thus the work is transferred to the system.')"
   ]
  }
 ],
 "metadata": {
  "kernelspec": {
   "display_name": "Python 3 (ipykernel)",
   "language": "python",
   "name": "python3"
  },
  "language_info": {
   "codemirror_mode": {
    "name": "ipython",
    "version": 3
   },
   "file_extension": ".py",
   "mimetype": "text/x-python",
   "name": "python",
   "nbconvert_exporter": "python",
   "pygments_lexer": "ipython3",
   "version": "3.11.1"
  }
 },
 "nbformat": 4,
 "nbformat_minor": 5
}
