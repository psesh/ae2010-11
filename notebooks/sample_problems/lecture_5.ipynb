{
 "cells": [
  {
   "cell_type": "raw",
   "id": "42a30ccc",
   "metadata": {},
   "source": [
    "---\n",
    "title: \"L5 examples\"\n",
    "format:\n",
    "    html:\n",
    "        code-fold: true\n",
    "jupyter: python3\n",
    "fontsize: 1.2em\n",
    "linestretch: 1.5\n",
    "toc: true\n",
    "notebook-view: true\n",
    "---"
   ]
  },
  {
   "cell_type": "markdown",
   "id": "df026bda",
   "metadata": {},
   "source": [
    "## Problem 1\n",
    "\n",
    "What is the velocity of the air if a Pitot static tube measures  $\\require{color}{\\color[rgb]{0.315209,0.728565,0.037706}p_1} = {\\color[rgb]{0.315209,0.728565,0.037706}101,325 \\; N/m^2}$ and $\\require{color}{\\color[rgb]{0.315209,0.728565,0.037706}p_2} = {\\color[rgb]{0.315209,0.728565,0.037706}95,000 \\; N/m^2}$. Assume the density of air is $\\require{color}{\\color[rgb]{0.918231,0.469102,0.038229}\\rho } = {\\color[rgb]{0.918231,0.469102,0.038229}1.25 \\; kg/m^3}$.\n",
    "\n",
    "Aircraft        |  Pitot static tube\n",
    ":-------------------------:|:-------------------------:\n",
    "<img src=\"images/image_L5_1.png\" alt=\"channel\" width=\"200\"/>  | <img src=\"images/image_L5_2.png\" alt=\"pitot\" width=\"500\"/>\n"
   ]
  },
  {
   "cell_type": "markdown",
   "id": "6ab3674f",
   "metadata": {},
   "source": [
    "<details>\n",
    "<summary>Solution</summary> \n",
    "Consider the streamline from $\\infty$ to station $1$. \n",
    "\n",
    "$$\n",
    "\\large\n",
    "\\require{color}{\\color[rgb]{0.315209,0.728565,0.037706}p_{\\infty}} + \\frac{1}{2} {\\color[rgb]{0.918231,0.469102,0.038229}\\rho }{\\color[rgb]{0.059472,0.501943,0.998465}v_{\\infty}}^2 = {\\color[rgb]{0.315209,0.728565,0.037706}p_1 }+ \\frac{1}{2}{\\color[rgb]{0.918231,0.469102,0.038229}\\rho} {\\color[rgb]{0.059472,0.501943,0.998465}v_1}^2 = {\\color[rgb]{0.315209,0.728565,0.037706}p_1}\n",
    "$$\n",
    "\n",
    "$$\n",
    "\\large\n",
    "\\require{color}\\Rightarrow {\\color[rgb]{0.315209,0.728565,0.037706}p_1} = {\\color[rgb]{0.315209,0.728565,0.037706}p_{\\infty}} + \\frac{1}{2} {\\color[rgb]{0.918231,0.469102,0.038229}\\rho }{\\color[rgb]{0.059472,0.501943,0.998465}v_{\\infty}}^2 \n",
    "$$\n",
    "\n",
    "as $\\require{color}{\\color[rgb]{0.059472,0.501943,0.998465}v_1} = 0$. Now consider the flow from $\\infty$ to station $2$, i.e.,\n",
    "\n",
    "\n",
    "$$\n",
    "\\large\n",
    "\\require{color}{\\color[rgb]{0.315209,0.728565,0.037706}p_{\\infty} }+ \\frac{1}{2}{\\color[rgb]{0.918231,0.469102,0.038229} \\rho} {\\color[rgb]{0.059472,0.501943,0.998465}v_{\\infty}}^2 = {\\color[rgb]{0.315209,0.728565,0.037706}p_2 }+ \\frac{1}{2} {\\color[rgb]{0.918231,0.469102,0.038229}\\rho} {\\color[rgb]{0.059472,0.501943,0.998465}v_{2}}^2.\n",
    "$$\n",
    "\n",
    "However, as $\\require{color}{\\color[rgb]{0.059472,0.501943,0.998465}v_2} = {\\color[rgb]{0.059472,0.501943,0.998465}v_{\\infty}}$, this implies $\\require{color}{\\color[rgb]{0.315209,0.728565,0.037706}p_2} = {\\color[rgb]{0.315209,0.728565,0.037706}p_{\\infty}}$. \n",
    "\n",
    "Thus, from these equations we have\n",
    "\n",
    "$$\n",
    "\\large\n",
    "\\require{color}{\\color[rgb]{0.315209,0.728565,0.037706}p_1} - {\\color[rgb]{0.315209,0.728565,0.037706}p_2 }= \\frac{1}{2} {\\color[rgb]{0.918231,0.469102,0.038229}\\rho} {\\color[rgb]{0.059472,0.501943,0.998465}v_{\\infty}}^2 \\Rightarrow {\\color[rgb]{0.059472,0.501943,0.998465}v_{\\infty} }= \\sqrt{\\frac{2 \\left({\\color[rgb]{0.315209,0.728565,0.037706}p_1} - {\\color[rgb]{0.315209,0.728565,0.037706}p_2} \\right) }{{\\color[rgb]{0.918231,0.469102,0.038229}\\rho}}}\n",
    "$$\n",
    "\n",
    "Plugging in the provided values yields:\n",
    "</details>"
   ]
  },
  {
   "cell_type": "code",
   "execution_count": 2,
   "id": "78933072",
   "metadata": {},
   "outputs": [
    {
     "name": "stdout",
     "output_type": "stream",
     "text": [
      "100.59821071967433 m/s\n"
     ]
    }
   ],
   "source": [
    "import numpy as np\n",
    "\n",
    "p_1 = 101325\n",
    "p_2 = 95000\n",
    "rho = 1.25\n",
    "v_inf = np.sqrt(2 * (p_1 - p_2) / rho)\n",
    "print(str(v_inf)+' m/s')"
   ]
  },
  {
   "cell_type": "markdown",
   "id": "2e776558",
   "metadata": {},
   "source": [
    "## Problem 2\n",
    "\n",
    "What is the drag that acts on the previously encountered (see Lecture 3 slides) half-body in a channel if $\\require{color}{\\color[rgb]{0.918231,0.469102,0.038229}\\rho } = {\\color[rgb]{0.918231,0.469102,0.038229}1.25 \\; kg/m^3}$, $H= 10\\; m$, $\\require{color}{\\color[rgb]{0.064095,0.501831,0.501977}h}={\\color[rgb]{0.064095,0.501831,0.501977}1 \\; m}$, $w=2 \\; m$, and $\\require{color}{\\color[rgb]{0.059472,0.501943,0.998465}v_1 } = {\\color[rgb]{0.059472,0.501943,0.998465}20 \\; m/s }$.\n",
    "\n",
    "<img src=\"images/image_L5_3.png\" alt=\"channel\" width=\"500\"/>  "
   ]
  },
  {
   "cell_type": "markdown",
   "id": "5ce7a168",
   "metadata": {},
   "source": [
    "<details>\n",
    "<summary>Solution</summary> \n",
    "    \n",
    "In Lecture 3, we had observed that the mass flux through the control volume is given by\n",
    "\n",
    "$$\n",
    "\\large\n",
    "\\require{color}\\dot{m} = {\\color[rgb]{0.918231,0.469102,0.038229}\\rho} {\\color[rgb]{0.059472,0.501943,0.998465}v_1} H w\n",
    "$$\n",
    "\n",
    "where $w$ is the width into the page of the channel. Recall from before, we had utilized *continuity* within the control volume to arrive at\n",
    "\n",
    "$$\n",
    "\\large\n",
    "\\require{color}{\\color[rgb]{0.059472,0.501943,0.998465}v_2} = {\\color[rgb]{0.059472,0.501943,0.998465}v_1} \\frac{H}{H - {\\color[rgb]{0.064095,0.501831,0.501977}h}}.\n",
    "$$\n",
    "\n",
    "Now, we can use the steady flow momentum equation along the horizontal direction to yield an expression for the force $\\require{color}F_{{\\color[rgb]{0.986048,0.008333,0.501924}x}}$. Let us break this up into the mass fluxes and the pressure forces.\n",
    "\n",
    "$$\n",
    "\\large\n",
    "\\require{color}\\sum \\dot{m} {\\color[rgb]{0.059472,0.501943,0.998465}v }= \\dot{m}_{out} {\\color[rgb]{0.059472,0.501943,0.998465}v_{out}} - \\dot{m}_{in} {\\color[rgb]{0.059472,0.501943,0.998465}v_{in}} = \\dot{m}_{in} \\left({\\color[rgb]{0.059472,0.501943,0.998465} v_{out}} - {\\color[rgb]{0.059472,0.501943,0.998465}v_{in}} \\right)\n",
    "$$\n",
    "\n",
    "$$\n",
    "\\large\n",
    "\\require{color}= \\underbrace{{\\color[rgb]{0.990448,0.502245,0.032881}\\rho} {\\color[rgb]{0.059472,0.501943,0.998465}v_1} H w}_{\\dot{m}_{in}} \\left( {\\color[rgb]{0.059472,0.501943,0.998465}v_1} \\frac{H}{H-{\\color[rgb]{0.064095,0.501831,0.501977}h}} - {\\color[rgb]{0.059472,0.501943,0.998465}v_{1}} \\right) = {\\color[rgb]{0.918231,0.469102,0.038229}\\rho} w {\\color[rgb]{0.059472,0.501943,0.998465}v_{1}}^2 \\frac{H{\\color[rgb]{0.064095,0.501831,0.501977}h}}{H-{\\color[rgb]{0.064095,0.501831,0.501977}h}}\n",
    "$$\n",
    "\n",
    "Now, to work out the force acting along the right-hand control surface, we need to isolate the front part of the half-body from the remaining part. It is possible to side-step this issue by placing an imaginary cut through the half-body, and permitting the gap to be filled with the same fluid at pressure $\\require{color}{\\color[rgb]{0.315209,0.728565,0.037706}p_2}$. This yields the diagram below:\n",
    "\n",
    "\n",
    "<img src=\"images/image_L5_4.png\" alt=\"channel\" width=\"500\"/>  \n",
    "\n",
    "The total pressure force acting on the fluid along the ${\\color[rgb]{0.986048,0.008333,0.501924}x-}$direction is given by\n",
    "\n",
    "$$\n",
    "\\large\n",
    "\\require{color}\\sum {\\color[rgb]{0.315209,0.728565,0.037706}p} A = {\\color[rgb]{0.315209,0.728565,0.037706}p_1} H w - {\\color[rgb]{0.315209,0.728565,0.037706}p_2 }H w\n",
    "$$\n",
    "\n",
    "Recognizing that the force $F_{{\\color[rgb]{0.986048,0.008333,0.501924}x}}$ is equal and opposite to the drag, $D$, experienced by the body, we have\n",
    "\n",
    "$$\n",
    "\\large\n",
    "\\require{color}F_{{\\color[rgb]{0.986048,0.008333,0.501924}x}} = D = {\\color[rgb]{0.990448,0.502245,0.032881}\\rho} w {\\color[rgb]{0.059472,0.501943,0.998465}v_1}^2 \\frac{Hh}{H-{\\color[rgb]{0.064095,0.501831,0.501977}h}} - \\left({\\color[rgb]{0.315209,0.728565,0.037706}p_1} - {\\color[rgb]{0.315209,0.728565,0.037706}p_2} \\right) H w. \n",
    "$$\n",
    "\n",
    "Next, we need to determine the relationship between pressures $\\require{color}{\\color[rgb]{0.315209,0.728565,0.037706}p_1}$ and $\\require{color}{\\color[rgb]{0.315209,0.728565,0.037706}p_2}$. At the entry and exit to the control volume, we assume the streamlines are parallel and that the pressure is uniform throughout---not varying with depth. Applying Bernoulli's principle between stations $1$ and $2$ yields\n",
    "\n",
    "$$\n",
    "\\large\n",
    "\\require{color}{\\color[rgb]{0.315209,0.728565,0.037706}p_1} + \\frac{1}{2} {\\color[rgb]{0.918231,0.469102,0.038229}\\rho }{\\color[rgb]{0.059472,0.501943,0.998465}v_1}^2 = {\\color[rgb]{0.315209,0.728565,0.037706}p_2} + \\frac{1}{2} {\\color[rgb]{0.918231,0.469102,0.038229}\\rho} {\\color[rgb]{0.059472,0.501943,0.998465}v_{2}}^2.\n",
    "$$\n",
    "\n",
    "Using the expression for $\\require{color}{\\color[rgb]{0.059472,0.501943,0.998465}v_2}$ in terms of $\\require{color}{\\color[rgb]{0.059472,0.501943,0.998465}v_1}$ yields\n",
    "\n",
    "\n",
    "$$\n",
    "\\large\n",
    "\\require{color}{\\color[rgb]{0.315209,0.728565,0.037706}p_1} - {\\color[rgb]{0.315209,0.728565,0.037706}p_2} = \\frac{{\\color[rgb]{0.918231,0.469102,0.038229}\\rho}}{2} {\\color[rgb]{0.059472,0.501943,0.998465}v_1}^2 \\left( \\frac{H^2}{\\left(H - {\\color[rgb]{0.064095,0.501831,0.501977}h} \\right)^2 } - 1 \\right)\n",
    "$$\n",
    "\n",
    "$$\n",
    "\\large\n",
    "\\require{color}=\\frac{{\\color[rgb]{0.918231,0.469102,0.038229}\\rho}}{2} {\\color[rgb]{0.059472,0.501943,0.998465}v_1}^2 {\\color[rgb]{0.064095,0.501831,0.501977}h}  \\frac{2H - {\\color[rgb]{0.064095,0.501831,0.501977}h}}{\\left( H - {\\color[rgb]{0.064095,0.501831,0.501977}h} \\right)^2 }\n",
    "$$\n",
    "\n",
    "Thus, for the force we obtain\n",
    "\n",
    "$$\n",
    "\\large\n",
    "\\require{color}F_{{\\color[rgb]{0.986048,0.008333,0.501924}x}} = {\\color[rgb]{0.990448,0.502245,0.032881}\\rho} w {\\color[rgb]{0.059472,0.501943,0.998465}v_1}^2 \\frac{H{\\color[rgb]{0.064095,0.501831,0.501977}h}}{H-{\\color[rgb]{0.064095,0.501831,0.501977}h}} - \\frac{1}{2}{\\color[rgb]{0.918231,0.469102,0.038229} \\rho} {\\color[rgb]{0.059472,0.501943,0.998465}v_1}^2 {\\color[rgb]{0.064095,0.501831,0.501977}h} \\frac{2H - {\\color[rgb]{0.064095,0.501831,0.501977}h}}{\\left(H - {\\color[rgb]{0.064095,0.501831,0.501977}h}\\right)^2}Hw\n",
    "$$\n",
    "\n",
    "$$\n",
    "\\large\n",
    "\\require{color}= \\frac{w {\\color[rgb]{0.918231,0.469102,0.038229}\\rho} {\\color[rgb]{0.059472,0.501943,0.998465}v_1}^2}{2} \\left[ 2 \\frac{H{\\color[rgb]{0.064095,0.501831,0.501977}h}}{H - {\\color[rgb]{0.064095,0.501831,0.501977}h}} - H{\\color[rgb]{0.064095,0.501831,0.501977}h} \\frac{2H - {\\color[rgb]{0.064095,0.501831,0.501977}h}}{\\left(H -{\\color[rgb]{0.064095,0.501831,0.501977} h} \\right)^2 } \\right]\n",
    "$$\n",
    "\n",
    "$$\n",
    "\\large\n",
    "\\require{color}= \\frac{w {\\color[rgb]{0.918231,0.469102,0.038229}\\rho} {\\color[rgb]{0.059472,0.501943,0.998465}v_1}^2}{2} \\left[  \\frac{2H{\\color[rgb]{0.064095,0.501831,0.501977}h} \\left(H - {\\color[rgb]{0.064095,0.501831,0.501977}h} \\right) - H{\\color[rgb]{0.064095,0.501831,0.501977}h} \\left(2 H - {\\color[rgb]{0.064095,0.501831,0.501977}h} \\right) }{\\left(H - {\\color[rgb]{0.064095,0.501831,0.501977}h} \\right)^2} \\right]\n",
    "$$\n",
    "\n",
    "$$\n",
    "\\large\n",
    "\\require{color}= \\frac{w {\\color[rgb]{0.918231,0.469102,0.038229}\\rho} {\\color[rgb]{0.059472,0.501943,0.998465}v_1}^2}{2} \\left[ \\frac{-H{\\color[rgb]{0.064095,0.501831,0.501977}h}^2}{\\left(H - {\\color[rgb]{0.064095,0.501831,0.501977}h} \\right)^2} \\right]\n",
    "$$\n",
    "\n",
    "As a side, note that for very large $\\require{color}H >> {\\color[rgb]{0.064095,0.501831,0.501977}h}$, the drag force fanishes. Now that we have the expression above, we can plug in the provided numerical values.\n",
    "</details>"
   ]
  },
  {
   "cell_type": "code",
   "execution_count": 3,
   "id": "a6d2e905",
   "metadata": {},
   "outputs": [
    {
     "name": "stdout",
     "output_type": "stream",
     "text": [
      "-61.72839506172839 N\n"
     ]
    }
   ],
   "source": [
    "H = 10 \n",
    "h = 1\n",
    "v_1 = 20\n",
    "rho = 1.25\n",
    "w = 2\n",
    "F_x = w * 0.5 * rho * v_1**2 * (-(H * h**2) / (H - h)**2)\n",
    "print(str(F_x)+' N')"
   ]
  }
 ],
 "metadata": {
  "kernelspec": {
   "display_name": "Python 3 (ipykernel)",
   "language": "python",
   "name": "python3"
  },
  "language_info": {
   "codemirror_mode": {
    "name": "ipython",
    "version": 3
   },
   "file_extension": ".py",
   "mimetype": "text/x-python",
   "name": "python",
   "nbconvert_exporter": "python",
   "pygments_lexer": "ipython3",
   "version": "3.11.1"
  }
 },
 "nbformat": 4,
 "nbformat_minor": 5
}
