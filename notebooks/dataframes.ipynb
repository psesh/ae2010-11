{
 "cells": [
  {
   "cell_type": "raw",
   "id": "79ac5929",
   "metadata": {},
   "source": [
    "---\n",
    "title: \"Dataframes and plotly\"\n",
    "format:\n",
    "    html:\n",
    "        code-fold: true\n",
    "jupyter: python3\n",
    "fontsize: 1.2em\n",
    "linestretch: 1.5\n",
    "toc: true\n",
    "notebook-view: true\n",
    "---"
   ]
  },
  {
   "cell_type": "markdown",
   "id": "bfadabe0",
   "metadata": {},
   "source": [
    "## Introduction\n",
    "\n",
    "As your project submissions will be in the form of a Jupyter notebook, it is important to fully utilize all available open-source ``python`` libraries towards your project. Here, we briefly run through ``plotly``. As always, we begin with a few import statements; some of these are to ensure that the plots will generate correctly when we convert this notebook into an html file. "
   ]
  },
  {
   "cell_type": "code",
   "execution_count": 1,
   "id": "4eb03f07",
   "metadata": {},
   "outputs": [],
   "source": [
    "import plotly.express as px\n",
    "import numpy as np\n",
    "import plotly.io as pio\n",
    "import plotly.graph_objects as go\n",
    "import pandas as pd\n",
    "pio.renderers.default = 'iframe'"
   ]
  },
  {
   "cell_type": "markdown",
   "id": "67c7e6a2",
   "metadata": {},
   "source": [
    "## Scatter plots\n",
    "\n",
    "We begin with a very simple plot of $y=sin\\left(t \\right)$ where $t \\in \\left[0, 10 \\right]$."
   ]
  },
  {
   "cell_type": "code",
   "execution_count": 2,
   "id": "37603de4",
   "metadata": {
    "scrolled": false
   },
   "outputs": [
    {
     "data": {
      "text/html": [
       "<iframe\n",
       "    scrolling=\"no\"\n",
       "    width=\"100%\"\n",
       "    height=\"545px\"\n",
       "    src=\"iframe_figures/figure_2.html\"\n",
       "    frameborder=\"0\"\n",
       "    allowfullscreen\n",
       "></iframe>\n"
      ]
     },
     "metadata": {},
     "output_type": "display_data"
    }
   ],
   "source": [
    "t = np.linspace(0, 10, 300)\n",
    "fig = px.scatter(x=t, y=np.sin(3 * t), labels={'x':'t', 'y':'sin(3t)'}) \n",
    "fig.show()"
   ]
  },
  {
   "cell_type": "markdown",
   "id": "7d701783",
   "metadata": {},
   "source": [
    "If we had multiple items that needed to be plotted, we would need to resort to a ``dataframe``. "
   ]
  },
  {
   "cell_type": "code",
   "execution_count": 3,
   "id": "9218dd2e",
   "metadata": {
    "scrolled": false
   },
   "outputs": [
    {
     "data": {
      "text/html": [
       "<iframe\n",
       "    scrolling=\"no\"\n",
       "    width=\"100%\"\n",
       "    height=\"545px\"\n",
       "    src=\"iframe_figures/figure_3.html\"\n",
       "    frameborder=\"0\"\n",
       "    allowfullscreen\n",
       "></iframe>\n"
      ]
     },
     "metadata": {},
     "output_type": "display_data"
    }
   ],
   "source": [
    "df = pd.DataFrame({'t':t, 'y_1': np.sin(t), 'y_2': np.cos(t)})\n",
    "fig = px.scatter(df, x='t', y=df.columns[1:3]) \n",
    "fig.show()"
   ]
  },
  {
   "cell_type": "markdown",
   "id": "56df3da0",
   "metadata": {},
   "source": [
    "## Contour plots"
   ]
  },
  {
   "cell_type": "markdown",
   "id": "52778291",
   "metadata": {},
   "source": [
    "Next, we will generate a contour plot! This requires us to define a grid along the horizontal and vertical axes, and a function that is defined at each grid point. "
   ]
  },
  {
   "cell_type": "code",
   "execution_count": 9,
   "id": "2ea4b9f8",
   "metadata": {},
   "outputs": [
    {
     "data": {
      "text/html": [
       "<iframe\n",
       "    scrolling=\"no\"\n",
       "    width=\"100%\"\n",
       "    height=\"545px\"\n",
       "    src=\"iframe_figures/figure_9.html\"\n",
       "    frameborder=\"0\"\n",
       "    allowfullscreen\n",
       "></iframe>\n"
      ]
     },
     "metadata": {},
     "output_type": "display_data"
    }
   ],
   "source": [
    "feature_x = np.arange(0, 50, 2) \n",
    "feature_y = np.arange(0, 50, 3) \n",
    " \n",
    "# Creating 2-D grid of features \n",
    "[X, Y] = np.meshgrid(feature_x, feature_y) \n",
    " \n",
    "Z = np.cos(X / 4) + np.sin(Y / 4) + np.exp(0.0005 * X * Y)\n",
    " \n",
    "fig = go.Figure(data =\n",
    "     go.Contour(x = feature_x, y = feature_y, z = Z))\n",
    " \n",
    "fig.show()"
   ]
  },
  {
   "cell_type": "code",
   "execution_count": null,
   "id": "be0e105d",
   "metadata": {},
   "outputs": [],
   "source": []
  }
 ],
 "metadata": {
  "kernelspec": {
   "display_name": "Python 3 (ipykernel)",
   "language": "python",
   "name": "python3"
  },
  "language_info": {
   "codemirror_mode": {
    "name": "ipython",
    "version": 3
   },
   "file_extension": ".py",
   "mimetype": "text/x-python",
   "name": "python",
   "nbconvert_exporter": "python",
   "pygments_lexer": "ipython3",
   "version": "3.11.1"
  }
 },
 "nbformat": 4,
 "nbformat_minor": 5
}
