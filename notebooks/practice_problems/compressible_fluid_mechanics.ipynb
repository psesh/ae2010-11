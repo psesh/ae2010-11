{
 "cells": [
  {
   "cell_type": "raw",
   "id": "2073272b",
   "metadata": {},
   "source": [
    "---\n",
    "title: \"Compressible Fluid Mechanics\"\n",
    "format:\n",
    "    html:\n",
    "        code-fold: true\n",
    "jupyter: python3\n",
    "fontsize: 1.2em\n",
    "linestretch: 1.5\n",
    "toc: true\n",
    "notebook-view: true\n",
    "---"
   ]
  },
  {
   "cell_type": "markdown",
   "id": "59267597",
   "metadata": {},
   "source": [
    "## Problem 1"
   ]
  },
  {
   "cell_type": "markdown",
   "id": "0edd3c75",
   "metadata": {},
   "source": [
    "At a certain point in a converging passage, air flows steadily with a velocity of $150 \\; m/s$ and has a  static pressure of $70 \\; kPa$ and a static temperature of $4\\; ^{\\circ}C$.  The flow is adiabatic  and reversible. Calculate the maximum possible reduction in area and the following quantities for the minimum area:  Mach number, stagnation pressure, stagnation temperature, static pressure, static temperature and velocity. "
   ]
  },
  {
   "cell_type": "markdown",
   "id": "e903e1b8",
   "metadata": {},
   "source": [
    "<details>\n",
    "  <summary>Solution</summary>\n",
    "It will be useful to consider the diagram in Figure below. The Mach number can be computed via\n",
    "\n",
    "<img src=\"images/image_P8_1.png\" alt=\"cycle\" width=\"500\"/>\n",
    "\n",
    "$$\n",
    "\\require{color}\n",
    "\\large\n",
    "M_1 = \\frac{150}{\\sqrt{1.4 \\times 287 \\times 277.15}} = 0.449 \\approx 0.450\n",
    "$$\n",
    "\n",
    "Now, from the tables, at this Mach number we have\n",
    "\n",
    "$$\n",
    "\\require{color}\n",
    "\\large\n",
    "\\frac{p_{1}}{p_{0,1}} = 0.8703, \\; \\; \\; \\; \\frac{T_1}{T_{0,1}} = 0.9611, \\; \\; \\; \\; \\frac{\\dot{m}\\sqrt{c_p T_0}}{A_1 p_{0,1}} = 0.8843\n",
    "$$\n",
    "\n",
    "Note that the maximum possible reduction in area occurs if $M_2=1$, where\n",
    "\n",
    "$$\n",
    "\\require{color}\n",
    "\\large\n",
    "\\frac{\\dot{m}\\sqrt{c_p T_{0,1}}}{A_{2} p_{0,1}} = 1.281\n",
    "$$\n",
    "\n",
    "We can express the area ratio as\n",
    "\n",
    "$$\n",
    "\\require{color}\n",
    "\\large\n",
    "\\frac{A_{2}}{A_1} = \\frac{\\frac{\\dot{m}\\sqrt{c_p T_{0,1}}}{A_{2} p_{0,1}}}{\\frac{\\dot{m}\\sqrt{c_p T_{0,1}}}{A_{1} p_{0,1}}} = \\frac{0.8843}{1.281} = 0.6903\n",
    "$$\n",
    "\n",
    "This corresponds to a reduction in the area of $100 - 69.03 = 30.1\\%$. Furthermore, given the values of the static quantities, and the static-to-stagnation ratios above, we can determine:\n",
    "\n",
    "$$\n",
    "\\require{color}\n",
    "\\large\n",
    "p_{0,1} = \\frac{p_1}{0.8703} = \\frac{70 \\; kPa}{0.8703} = 80.432 \\; kPa, \\; \\; \\;\n",
    "$$\n",
    "\n",
    "and\n",
    "\n",
    "$$\n",
    "\\require{color}\n",
    "\\large\n",
    "T_{0,1} = \\frac{T_1}{0.9611} = \\frac{277.15 \\; K}{0.9611} = 288.367 \\; K.\n",
    "$$\n",
    "\n",
    "\n",
    "At $M_2=1$, the table gives $p_{2} / p_{0,2} = 0.528$ and $T_{2}/T_{0,2} = 0.8333$. As the stagnation pressure and temperature remain constant throughout the passage, we have\n",
    "\n",
    "$$\n",
    "\\require{color}\n",
    "\\large\n",
    "p_2 = 80.432 \\times 0.528 = 46.46 \\; kPa.\n",
    "$$\n",
    "\n",
    "Repeating the same step for the static temperature to obtain\n",
    "\n",
    "$$\n",
    "\\require{color}\n",
    "\\large\n",
    "T_2 = 288.367 \\times 0.8333 = 240.296 \\; K.\n",
    "$$\n",
    "\n",
    "At $M_2=1$, the velocity is given by \n",
    "\n",
    "$$\n",
    "\\require{color}\n",
    "\\large\n",
    "v_2 = 1 \\times \\sqrt{1.4 \\times 287 \\times 240.296} = 310.72 \\; m/s\n",
    "$$\n",
    "</details>"
   ]
  },
  {
   "cell_type": "code",
   "execution_count": null,
   "id": "d1b77fdc",
   "metadata": {},
   "outputs": [],
   "source": []
  }
 ],
 "metadata": {
  "kernelspec": {
   "display_name": "Python 3 (ipykernel)",
   "language": "python",
   "name": "python3"
  },
  "language_info": {
   "codemirror_mode": {
    "name": "ipython",
    "version": 3
   },
   "file_extension": ".py",
   "mimetype": "text/x-python",
   "name": "python",
   "nbconvert_exporter": "python",
   "pygments_lexer": "ipython3",
   "version": "3.11.1"
  }
 },
 "nbformat": 4,
 "nbformat_minor": 5
}
