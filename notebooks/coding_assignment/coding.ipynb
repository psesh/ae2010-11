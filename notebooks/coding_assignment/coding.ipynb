{
 "cells": [
  {
   "cell_type": "raw",
   "id": "82c69ff5",
   "metadata": {},
   "source": [
    "---\n",
    "title: \"Coding assignment\"\n",
    "format:\n",
    "    html:\n",
    "        code-fold: true\n",
    "jupyter: python3\n",
    "fontsize: 1.2em\n",
    "linestretch: 1.5\n",
    "toc: true\n",
    "notebook-view: true\n",
    "---"
   ]
  },
  {
   "cell_type": "markdown",
   "id": "f3a61912",
   "metadata": {},
   "source": [
    "### Instructions\n",
    "\n",
    "This coding assignment can be completed individually, in pairs, or a group of three (and not more); please ensure that all the names are written down at the top of your solution. Your submission must be submitted as a single Jupyter notebook that can run as is. \n",
    "\n",
    "*Due date:* December 1st 2023"
   ]
  },
  {
   "cell_type": "markdown",
   "id": "5d26e840",
   "metadata": {},
   "source": [
    "### Problem statement"
   ]
  },
  {
   "cell_type": "markdown",
   "id": "b0ae0326",
   "metadata": {},
   "source": [
    "A closed circuit supersonic wind tunnel of fixed geometry has a working section of $2.5 \\; m^2$.  The test section Mach number is to be $\\require{color}{\\color[rgb]{0.041732,0.352132,0.699576}2.2}$\n",
    "\n",
    "<img src=\"images/wt.png\" alt=\"cycle\" width=\"700\"/>\n",
    "\n",
    "a. Find the area of the nozzle throat. $\\require{color}{\\color[rgb]{0.400002,0.400116,0.998569}[3]}$\n",
    "\n",
    "b. Neglecting all losses except those due to essential normal shocks, find the minimum diffuser throat area. $\\require{color}{\\color[rgb]{0.400002,0.400116,0.998569}[4]}$\n",
    "\n",
    "c. Either calculate the power required to start the tunnel, or calculate the minimum power required to keep the tunnel running at a Mach number of $\\require{color}{\\color[rgb]{0.041732,0.352132,0.699576}2.2}$ in the working section. $\\require{color}{\\color[rgb]{0.400002,0.400116,0.998569}[6]}$\n",
    "\n",
    "For both the above, assume that the stagnation pressure and stagnation temperature at the nozzle inlet are $\\require{color}{\\color[rgb]{0.315209,0.728565,0.037706}100} \\; {\\color[rgb]{0.315209,0.728565,0.037706}kPa}$ and $\\require{color}{\\color[rgb]{0.164799,0.878862,0.723179}290 \\; K}$ respectively, that the compressors driving the flow are reversible and adiabatic and that the air is cooled between the compressors and the inlet to the working section. (Assume that the fluid in the wind tunnel is air, and that it is a perfect gas with $R=287 J/kg \\; K$, $\\require{color}{\\color[rgb]{0.986252,0.007236,0.027423}c}_{\\color[rgb]{0.315209,0.728565,0.037706}p} = {\\color[rgb]{0.986252,0.007236,0.027423}1006} \\; {\\color[rgb]{0.986252,0.007236,0.027423}J/(kg \\cdot K)}$ and $\\gamma = 1.4$).\n",
    "\n",
    "d. Using your own definition of the geometry, i.e., you can define the boundaries using linear or polynomial, or other parametric curves, develop a code that lets you visualize the Mach number, static pressure, stagnation pressure, static temperature, and stagnation temperature contours of the flow through the wind tunnel. Clarify any assumptions you are making with regards to this. $\\require{color}{\\color[rgb]{0.400002,0.400116,0.998569}[30]}$\n",
    "\n",
    "*Extra credit:* Only when you are done with (a, b, c, d) should you attempt this. Re-visit your answer for d, but this time consider a flow that has friction. \n",
    "\n",
    "You might find this [link](https://psesh.github.io/ae2010-11/normal_shocks.html) to be particularly useful. "
   ]
  },
  {
   "cell_type": "code",
   "execution_count": null,
   "id": "8c75cb98",
   "metadata": {},
   "outputs": [],
   "source": []
  }
 ],
 "metadata": {
  "kernelspec": {
   "display_name": "Python 3 (ipykernel)",
   "language": "python",
   "name": "python3"
  },
  "language_info": {
   "codemirror_mode": {
    "name": "ipython",
    "version": 3
   },
   "file_extension": ".py",
   "mimetype": "text/x-python",
   "name": "python",
   "nbconvert_exporter": "python",
   "pygments_lexer": "ipython3",
   "version": "3.11.1"
  }
 },
 "nbformat": 4,
 "nbformat_minor": 5
}
