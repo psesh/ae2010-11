{
 "cells": [
  {
   "cell_type": "raw",
   "id": "a4287bee",
   "metadata": {},
   "source": [
    "---\n",
    "title: \"Jupyter introduction\"\n",
    "format:\n",
    "    html:\n",
    "        code-fold: true\n",
    "jupyter: python3\n",
    "fontsize: 1.2em\n",
    "linestretch: 1.5\n",
    "toc: true\n",
    "notebook-view: true\n",
    "---"
   ]
  },
  {
   "cell_type": "markdown",
   "id": "03da1a95",
   "metadata": {},
   "source": [
    "## Introduction\n",
    "\n",
    "You will undoubtedly use ``python`` (or Julia) and the accompanying Jupyter (or Pluto) notebooks for other coursework and in your future careers. In this course we shall use it for interpolating between rows in supersonic (with normal shocks) and isentropic flow tables, as well as for a coding assignment.  \n",
    "\n",
    "This medium of coding is incredibly powerful and in my opinion makes for really efficient coding. I wish I had this when I was an undergraduate student. \n",
    "\n",
    "In the code blocks below, I will walk you through a very simple exercise of fitting a curve through a set of points. To begin, let us import a few libraries."
   ]
  },
  {
   "cell_type": "code",
   "execution_count": 1,
   "id": "954b133e",
   "metadata": {},
   "outputs": [],
   "source": [
    "import numpy as np\n",
    "import matplotlib.pyplot as plt"
   ]
  },
  {
   "cell_type": "markdown",
   "id": "22f34151",
   "metadata": {},
   "source": [
    "The first library imported above is ``numpy``; it is a foundational package for scientific computing in ``python``. The second package imported is ``matplotlib``; it is useful for generating a myriad of plots that aid in visualizing data. Before we go ahead and try to fit a curve through a set of points, we need some points. Let us generate three points of the form:\n",
    "\n",
    "$$\n",
    "\\large\n",
    "\\mathbf{x} = \\left[ 0.1, 0.2, 0.3 \\right] \\; \\; \\textrm{and} \\; \\; f\\left( x\\right) = 3x^2 - 2.5 x+ 1\n",
    "$$\n",
    "\n",
    "For clarity, I will denote the vector $\\mathbf{y} = f\\left( \\mathbf{x} \\right)$."
   ]
  },
  {
   "cell_type": "code",
   "execution_count": 2,
   "id": "35584361",
   "metadata": {},
   "outputs": [],
   "source": [
    "x = np.array([0.1, 0.2, 0.3]).reshape(3,1)\n",
    "y = 3*x**2 - 2.5 *x + 1."
   ]
  },
  {
   "cell_type": "markdown",
   "id": "fac02003",
   "metadata": {},
   "source": [
    "Note the *reshaping* is done such that ``numpy`` understands that $x$ is a 3-by-1 vector. Let us plot this data."
   ]
  },
  {
   "cell_type": "code",
   "execution_count": 3,
   "id": "14bc6900",
   "metadata": {},
   "outputs": [
    {
     "data": {
      "image/png": "[encoded data removed]",
      "text/plain": [
       "<Figure size 800x300 with 1 Axes>"
      ]
     },
     "metadata": {},
     "output_type": "display_data"
    }
   ],
   "source": [
    "fig = plt.figure(figsize=(8,3))\n",
    "plt.plot(x, y, 'o')\n",
    "plt.xlabel('x')\n",
    "plt.ylabel('y')\n",
    "plt.show()"
   ]
  },
  {
   "cell_type": "markdown",
   "id": "a177d9c4",
   "metadata": {},
   "source": [
    "## Curve fitting with least squares"
   ]
  },
  {
   "cell_type": "markdown",
   "id": "ec1ef773",
   "metadata": {},
   "source": [
    "To fit a curve through these points, we first need to decide what *basis* we should use. Do we want sines or cosines, fractions, exponentials, or just a quadratic polynomial? For now let us opt for a quadratic polynomial, as this results in a *linear* problem. The first thing we shall do is generate a matrix; lets call it $\\mathbf{A}$. This matrix has the following form:\n",
    "\n",
    "$$\n",
    "\\large\n",
    "\\mathbf{A}=\\left[\\begin{array}{ccc}\n",
    "\\mathbf{1} & \\mathbf{x} & \\mathbf{x}^{2}\\end{array}\\right]\n",
    "$$"
   ]
  },
  {
   "cell_type": "code",
   "execution_count": 4,
   "id": "eb05cd2c",
   "metadata": {},
   "outputs": [
    {
     "name": "stdout",
     "output_type": "stream",
     "text": [
      "[[1.   0.1  0.01]\n",
      " [1.   0.2  0.04]\n",
      " [1.   0.3  0.09]]\n"
     ]
    }
   ],
   "source": [
    "A = lambda x : np.hstack([np.ones((x.shape[0],1)), x, x**2 ])\n",
    "print(A(x))"
   ]
  },
  {
   "cell_type": "markdown",
   "id": "a7b56994",
   "metadata": {},
   "source": [
    "Now what we will do is to solve\n",
    "\n",
    "$$\n",
    "\\large\n",
    "\\mathbf{Au} = \\mathbf{y}\n",
    "$$\n",
    "\n",
    "for the unknown coefficients $\\mathbf{u}$. Another way of thinking about this equation is that we would like to minimize the *distance* between\n",
    "\n",
    "$$\n",
    "\\large\n",
    "\\mathbf{Au} - \\mathbf{y} \n",
    "$$\n",
    "\n",
    "Mathematically, this distance is the standard Cartesian distance, i.e., *square root sum of the squares*. This is then written as\n",
    "\n",
    "$$\n",
    "\\large\n",
    "\\underset{\\mathbf{u}}{minimize} \\; \\; || \\mathbf{Au} - \\mathbf{y} ||_{2}^{2}\n",
    "$$\n",
    "\n",
    "While you will learn about many more such *distance* metrics in time, for the $L_2$ norm distance above, we can use the least squares approach that solves the normal equations under the hood. In ``python`` this is given by:"
   ]
  },
  {
   "cell_type": "code",
   "execution_count": 5,
   "id": "6a6d8a72",
   "metadata": {},
   "outputs": [
    {
     "name": "stdout",
     "output_type": "stream",
     "text": [
      "[[ 1. ]\n",
      " [-2.5]\n",
      " [ 3. ]]\n"
     ]
    }
   ],
   "source": [
    "u = np.linalg.lstsq(A(x), y, rcond=None)[0]\n",
    "print(u)"
   ]
  },
  {
   "cell_type": "markdown",
   "id": "e87d412d",
   "metadata": {},
   "source": [
    "This tells us what $\\mathbf{u}$ is. Note that the first entry corresponds to the intercept; the second corresponds to the coefficient of the linear term, and the third is the quadratic coefficient. So we have figured out what the underlying function $f$ is! Yay! To plot this curve across a finer grid of points, we first generate a finer grid of points and call it $\\hat{\\mathbf{x}}$"
   ]
  },
  {
   "cell_type": "code",
   "execution_count": 6,
   "id": "32af40e6",
   "metadata": {},
   "outputs": [
    {
     "data": {
      "image/png": "[encoded data removed]",
      "text/plain": [
       "<Figure size 800x300 with 1 Axes>"
      ]
     },
     "metadata": {},
     "output_type": "display_data"
    }
   ],
   "source": [
    "hat_x = np.linspace(0.1, 0.4, 50).reshape(50, 1)\n",
    "\n",
    "fig = plt.figure(figsize=(8,3))\n",
    "ax = plt.gca()\n",
    "plt.plot(hat_x, hat_x*0,  'o')\n",
    "plt.xlabel('x')\n",
    "ax.get_yaxis().set_visible(False)\n",
    "plt.show()"
   ]
  },
  {
   "cell_type": "markdown",
   "id": "919b876b",
   "metadata": {},
   "source": [
    "Finally, we evaluate the matrix $\\hat{\\mathbf{A}}$ at this finer set of points, i.e., \n",
    "\n",
    "$$\n",
    "\\large\n",
    "\\hat{\\mathbf{A}}=\\left[\\begin{array}{ccc}\n",
    "\\mathbf{1} & \\hat{\\mathbf{x}} & \\hat{\\mathbf{x}}^{2}\\end{array}\\right]\n",
    "$$\n",
    "\n",
    "and multiply it by the obtained coefficients, i.e., $\\hat{\\mathbf{y}} = \\hat{\\mathbf{A}} \\mathbf{u}$."
   ]
  },
  {
   "cell_type": "code",
   "execution_count": 7,
   "id": "59d82bf4",
   "metadata": {},
   "outputs": [
    {
     "data": {
      "image/png": "[encoded data removed]",
      "text/plain": [
       "<Figure size 800x300 with 1 Axes>"
      ]
     },
     "metadata": {},
     "output_type": "display_data"
    }
   ],
   "source": [
    "hat_y = A(hat_x) @ u # the @ is the dot operator, i.e., the dot product.\n",
    "\n",
    "fig = plt.figure(figsize=(8,3)) \n",
    "plt.plot(x, y, 'o')\n",
    "plt.plot(hat_x, hat_y, 'r--')\n",
    "plt.xlabel('x')\n",
    "plt.ylabel('y')\n",
    "plt.show()"
   ]
  },
  {
   "cell_type": "code",
   "execution_count": null,
   "id": "b63f8a4c",
   "metadata": {},
   "outputs": [],
   "source": []
  }
 ],
 "metadata": {
  "kernelspec": {
   "display_name": "Python 3 (ipykernel)",
   "language": "python",
   "name": "python3"
  },
  "language_info": {
   "codemirror_mode": {
    "name": "ipython",
    "version": 3
   },
   "file_extension": ".py",
   "mimetype": "text/x-python",
   "name": "python",
   "nbconvert_exporter": "python",
   "pygments_lexer": "ipython3",
   "version": "3.11.1"
  }
 },
 "nbformat": 4,
 "nbformat_minor": 5
}
