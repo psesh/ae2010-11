{
 "cells": [
  {
   "cell_type": "raw",
   "id": "1135697a-df43-4def-88fc-9967b24b7649",
   "metadata": {},
   "source": [
    "---\n",
    "title: \"Overview\"\n",
    "format:\n",
    "    html:\n",
    "        code-fold: true\n",
    "jupyter: python3\n",
    "fontsize: 1.2em\n",
    "linestretch: 1.5\n",
    "toc: true\n",
    "notebook-view: true\n",
    "---"
   ]
  },
  {
   "cell_type": "markdown",
   "id": "f5c362f1-7964-4403-b432-1347e0b962b7",
   "metadata": {},
   "source": [
    "This course comprises three distinct but overlapping modules:\n",
    "\n",
    "- Incompressible fluid mechanics\n",
    "- Compressible fluid mechanics\n",
    "- Thermodynamics\n",
    "\n",
    "While it is undoubedtly a challenging course, it is important for "
   ]
  },
  {
   "cell_type": "code",
   "execution_count": null,
   "id": "51a69bf9-cec8-414b-9834-9b2168df5177",
   "metadata": {},
   "outputs": [],
   "source": []
  }
 ],
 "metadata": {
  "kernelspec": {
   "display_name": "Python 3 (ipykernel)",
   "language": "python",
   "name": "python3"
  },
  "language_info": {
   "codemirror_mode": {
    "name": "ipython",
    "version": 3
   },
   "file_extension": ".py",
   "mimetype": "text/x-python",
   "name": "python",
   "nbconvert_exporter": "python",
   "pygments_lexer": "ipython3",
   "version": "3.11.1"
  }
 },
 "nbformat": 4,
 "nbformat_minor": 5
}
