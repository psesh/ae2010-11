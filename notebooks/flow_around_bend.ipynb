{
 "cells": [
  {
   "cell_type": "raw",
   "id": "e3feceae-d20f-4a4c-8379-2aa603f25431",
   "metadata": {},
   "source": [
    "---\n",
    "title: \"Flow around a bend\"\n",
    "format:\n",
    "    html:\n",
    "        code-fold: true\n",
    "jupyter: python3\n",
    "fontsize: 1.2em\n",
    "linestretch: 1.5\n",
    "toc: true\n",
    "notebook-view: true\n",
    "---"
   ]
  },
  {
   "cell_type": "markdown",
   "id": "dc05bbb5",
   "metadata": {},
   "source": [
    "## Introduction <a class='anchor' id='introduction'></a>"
   ]
  },
  {
   "cell_type": "markdown",
   "id": "72da3f32",
   "metadata": {},
   "source": [
    "In this notebook we will study how a fluid acts when it flows around a bend opposed to moving through a straight section. As the fluid is moving around a bend it will be subject to centripetal force, a force that acts within a rotating reference frame and keeps the particles moving in circular motion. Therefore, we will need to use Newton's second law of motion \n",
    "\n",
    "$$\n",
    "\\large\n",
    "F={\\color[rgb]{0.501961,0.250953,0.010028}m}a\n",
    "$$ \n",
    "\n",
    "to see how the pressure gradient affects the velocity throughout the bend. Newton published this law along with his others in his 1687 book the *Principia* and is pictured here:\n",
    "\n",
    "<center><img src=\"https://upload.wikimedia.org/wikipedia/commons/f/f7/Portrait_of_Sir_Isaac_Newton%2C_1689_%28brightened%29.jpg\" width=\"300\" title=\"Isaac Newton\"/>\n",
    "</center>\n",
    "\n",
    "To understand the relationship between pressure and velocity we need Bernoulli's equation which was qualitatively postulated by Daniel Bernoulli in 1738 and formally written by Leonhard Euler in 1752 as \n",
    "\n",
    "$$\n",
    "\\large\n",
    "\\require{color}{\\color[rgb]{0.315209,0.728565,0.037706}p}_{0}={\\color[rgb]{0.315209,0.728565,0.037706}p}+\\frac{1}{2}{\\color[rgb]{0.814433,0.253157,0.091125}\\rho} {\\color[rgb]{0.059472,0.501943,0.998465}v}^{2}\n",
    "$$ \n",
    "\n",
    "where ${\\color[rgb]{0.315209,0.728565,0.037706}p}_0$ is the total or stagnation pressure, ${\\color[rgb]{0.315209,0.728565,0.037706}p}$ is the static pressure, and $\\frac{1}{2}{\\color[rgb]{0.814433,0.253157,0.091125}\\rho} {\\color[rgb]{0.059472,0.501943,0.998465}v}^{2}$ is the dynamic pressure. Bernoulli (left) and Euler (right) are pictured here: \n",
    "\n",
    "|||\n",
    "|---|---|\n",
    "|<img src=\"https://upload.wikimedia.org/wikipedia/commons/thumb/c/cd/Portr%C3%A4t_des_Daniel_Bernoulli_-_edit1.jpg/330px-Portr%C3%A4t_des_Daniel_Bernoulli_-_edit1.jpg\" alt=\"Drawing\"  title=\"Daniel Bernoulli\" style=\"height: 400px;\"/>|<img src=\"https://upload.wikimedia.org/wikipedia/commons/thumb/d/d7/Leonhard_Euler.jpg/1920px-Leonhard_Euler.jpg\" alt=\"Drawing\" title=\"Leonhard Euler\" style=\"height: 400px;\"/>|\n",
    "\n",
    "Sources: [Isaac Newton](https://en.wikipedia.org/wiki/Isaac_Newton), [Daniel Bernoulli](https://en.wikipedia.org/wiki/Daniel_Bernoulli), [Leonhard Euler](https://en.wikipedia.org/wiki/Leonhard_Euler)"
   ]
  },
  {
   "cell_type": "markdown",
   "id": "92b73161",
   "metadata": {},
   "source": [
    "The velocity of a flow moving through a bend can be represented in polar coordinates:\n",
    "$$\n",
    "\\large\n",
    "\\require{color}\\vec{{\\color[rgb]{0.059472,0.501943,0.998465}v}} = {\\color[rgb]{0.059472,0.501943,0.998465}v}_{r}\\hat{e}_{r} + {\\color[rgb]{0.059472,0.501943,0.998465}v}_{\\theta}\\hat{e}_{\\theta}.\n",
    "$$\n",
    "As the flow is steady the streamlines will follow a circular path, therefore the radial component of velocity is zero, and the velocity will point in the angular direction"
   ]
  },
  {
   "cell_type": "code",
   "execution_count": 1,
   "id": "2d202469",
   "metadata": {},
   "outputs": [],
   "source": [
    "# import necessary libraries\n",
    "import plotly.graph_objects as go\n",
    "import numpy as np\n",
    "import plotly.io as pio\n",
    "pio.renderers.default = 'iframe'"
   ]
  },
  {
   "cell_type": "markdown",
   "id": "6813fcb1",
   "metadata": {},
   "source": [
    "## Defining the Velocity and Pressure <a class='anchor' id='values'></a>"
   ]
  },
  {
   "cell_type": "markdown",
   "id": "bc6593ce-c27a-4deb-87f1-7c355e61804c",
   "metadata": {},
   "source": [
    "It will be useful to define the velocity and pressure and see how they are related. As we will be working in polar coordinates, we initialize $\\theta$ values for the plots below."
   ]
  },
  {
   "cell_type": "code",
   "execution_count": 2,
   "id": "778bd120",
   "metadata": {},
   "outputs": [],
   "source": [
    "# initialize theta values for graph \n",
    "t1=np.linspace(-np.pi/8,np.pi/8,50)\n",
    "t2=np.linspace(-np.pi/2, np.pi/2,50)"
   ]
  },
  {
   "cell_type": "markdown",
   "id": "cd7a4a1e-1bba-4ba9-a0ba-9bd82c9c575b",
   "metadata": {},
   "source": [
    "Now, we will plot a free body diagram for a small elemental area of the bend."
   ]
  },
  {
   "cell_type": "code",
   "execution_count": 3,
   "id": "886bd4f0",
   "metadata": {},
   "outputs": [
    {
     "data": {
      "text/html": [
       "<iframe\n",
       "    scrolling=\"no\"\n",
       "    width=\"100%\"\n",
       "    height=\"545px\"\n",
       "    src=\"iframe_figures/figure_3.html\"\n",
       "    frameborder=\"0\"\n",
       "    allowfullscreen\n",
       "></iframe>\n"
      ]
     },
     "metadata": {},
     "output_type": "display_data"
    }
   ],
   "source": [
    "# plot duct and force diagram for small area of flow \n",
    "fig = go.Figure()\n",
    "fig.add_scatter(x=2*np.cos(t2), y=2*np.sin(t2), fill='tozeroy', fillcolor='rgba(133, 163, 201, 0.5)', line_color='black')\n",
    "fig.add_scatter(x=np.cos(t2), y=np.sin(t2), fill='tozeroy', fillcolor='white', line_color='black')\n",
    "\n",
    "fig.add_scatter(x=1.25*np.cos(t1), y=1.25*np.sin(t1), line_color='black')\n",
    "fig.add_scatter(x=1.75*np.cos(t1), y=1.75*np.sin(t1), fill='tonexty', line_color='black', fillcolor = 'steelblue')\n",
    "fig.add_scatter(x=np.array([1.25,1.75])*np.cos(np.pi/8), y=np.array([1.25,1.75])*np.sin(np.pi/8), line_color='black', \n",
    "                mode='lines')\n",
    "fig.add_scatter(x=np.array([1.25,1.75])*np.cos(-np.pi/8), y=np.array([1.25,1.75])*np.sin(-np.pi/8), line_color='black', \n",
    "                mode='lines')\n",
    "\n",
    "fig.add_annotation(x=1.2, y=0, text=r'$\\require{color}{\\color[rgb]{0.315209,0.728565,0.037706}p}$', ax=0.5, ay=0, xref='x', \n",
    "                   yref='y', axref='x', ayref='y', arrowhead=5)\n",
    "fig.add_annotation(x=1.8, y=0, text=r\"$\\require{color} {\\color[rgb]{0.315209,0.728565,0.037706}p} + \\\n",
    "                   \\frac{d {\\color[rgb]{0.315209,0.728565,0.037706}p}}{dr} \\delta r$\", ax=3, ay=0, xref='x', yref='y', \n",
    "                   axref='x', ayref='y', arrowhead=5)\n",
    "fig.add_annotation(x=0.6, y=0.75, ax=-0.05, ay=-0.09, xref='x', yref='y', axref='x', ayref='y',arrowhead=5)\n",
    "fig.add_scatter(x=[0.25], y=[0.5], mode='text', text=r'$r_1$')\n",
    "fig.add_annotation(x=0.6, y=-1.9, ax=-0.05, ay=0.09, xref='x', yref='y', axref='x', ayref='y', arrowhead=5)\n",
    "fig.add_scatter(x=[0.25], y=[-0.5], mode='text', text=r'$r_2$')\n",
    "\n",
    "fig.update_layout(yaxis=dict(scaleanchor=\"x\", scaleratio=1, showticklabels=False), xaxis=dict(showticklabels=False),\n",
    "                  showlegend=False, plot_bgcolor='rgba(0, 0, 0, 0)')\n",
    "fig.show()"
   ]
  },
  {
   "cell_type": "markdown",
   "id": "ced44876",
   "metadata": {},
   "source": [
    "To find how the velocity changes with radius we need to use Newton's second law of motion. The only force acting on the flow is pressure since the flow is inviscid and therefore does not experience shear force. The flow changes direction as it moves around the bend meaning there must be a radial force causing the flow to move in a circular path around the origin. This force is centripetal and is given by the acceleration \n",
    "\n",
    "$$\n",
    "\\large\n",
    "a_{c} = -\\frac{{\\color[rgb]{0.059472,0.501943,0.998465}v}^{2}(r)}{r} \\hat{r}.\n",
    "$$\n",
    "\n",
    "To find the mass we can use the fact that mass is equivalent to density times volume, when done per unit width this is\n",
    "\n",
    "$$\n",
    "\\large\n",
    "\\require{color}{\\color[rgb]{0.501961,0.250953,0.010028}m}={\\color[rgb]{0.814433,0.253157,0.091125}\\rho}(\\delta l \\delta r)\n",
    "$$\n",
    "\n",
    "Then we can use the force diagram above and write out Newton's second law\n",
    "\n",
    "$$\n",
    "\\large\n",
    "F=\\require{color}{\\color[rgb]{0.501961,0.250953,0.010028}m}a=-{\\color[rgb]{0.814433,0.253157,0.091125}\\rho}(\\delta l \\delta r) \\frac{{\\color[rgb]{0.059472,0.501943,0.998465}v}^{2}(r)}{r} = {\\color[rgb]{0.315209,0.728565,0.037706}p} \\delta l -\\left({\\color[rgb]{0.315209,0.728565,0.037706}p} + \\frac{d{\\color[rgb]{0.315209,0.728565,0.037706}p}}{dr} \\delta r\\right)\\delta l.\n",
    "$$\n",
    "\n",
    "This can then be solved for \n",
    "\n",
    "$$\n",
    "\\large\n",
    "\\require{color}\\frac{d{\\color[rgb]{0.315209,0.728565,0.037706}p}}{dr}\n",
    "$$\n",
    "\n",
    "yielding\n",
    "\n",
    "$$\n",
    "\\large\n",
    "\\require{color}\\frac{d{\\color[rgb]{0.315209,0.728565,0.037706}p}}{dr} = {\\color[rgb]{0.814433,0.253157,0.091125}\\rho} \\frac{{\\color[rgb]{0.059472,0.501943,0.998465}v}^{2}(r)}{r}.\n",
    "$$\n",
    "\n",
    "From this we can see that the normal pressure gradient is what causes the flow to move in a circular path around the bend. To solve for velocity we will need Bernoulli's equation: \n",
    "\n",
    "$$\n",
    "\\large\n",
    "\\require{color}{\\color[rgb]{0.315209,0.728565,0.037706}p}_{0}={\\color[rgb]{0.315209,0.728565,0.037706}p}+\\frac{1}{2}{\\color[rgb]{0.814433,0.253157,0.091125}\\rho} {\\color[rgb]{0.059472,0.501943,0.998465}v}^{2}\n",
    "$$\n",
    "\n",
    "where $\\require{color}{\\color[rgb]{0.315209,0.728565,0.037706}p}_{0}$ is a constant. To relate this equation to the pressure gradient equation we just solved for we must take the derivative of Bernoulli's equation so that it involves the pressure gradient. The derivative should be taken with respect to the radius as that is the only variable that changes velocity and pressure, remembering that this is incompressible flow we get\n",
    "\n",
    "$$\n",
    "\\large\n",
    "\\require{color}0=\\frac{d{\\color[rgb]{0.315209,0.728565,0.037706}p}}{dr}+ {\\color[rgb]{0.814433,0.253157,0.091125}\\rho} {\\color[rgb]{0.059472,0.501943,0.998465}v}\\frac{d{\\color[rgb]{0.059472,0.501943,0.998465}v}}{dr}.\n",
    "$$. \n",
    "\n",
    "Plugging in our previous result for \n",
    "$$\n",
    "\\large\n",
    "\\require{color}\\frac{d{\\color[rgb]{0.315209,0.728565,0.037706}p}}{dr}\n",
    "$$ \n",
    "\n",
    "we have\n",
    "\n",
    "$$\n",
    "\\large\n",
    "\\require{color}0={\\color[rgb]{0.814433,0.253157,0.091125}\\rho} \\frac{{\\color[rgb]{0.059472,0.501943,0.998465}v}^{2}(r)}{r} + {\\color[rgb]{0.814433,0.253157,0.091125}\\rho} {\\color[rgb]{0.059472,0.501943,0.998465}v}(r) \\frac{d{\\color[rgb]{0.059472,0.501943,0.998465}v}(r)}{dr}.\n",
    "$$\n",
    "\n",
    "Next, we can separate the varaibles and integrate both sides: \n",
    "\n",
    "$$\n",
    "\\large\n",
    "\\require{color}-\\frac{dr}{r} = \\frac{d{\\color[rgb]{0.059472,0.501943,0.998465}v}(r)}{{\\color[rgb]{0.059472,0.501943,0.998465}v}(r)} \\longrightarrow {\\color[rgb]{0.059472,0.501943,0.998465}v}(r)=\\frac{C}{r}\n",
    "$$ \n",
    "\n",
    "where $C$ is a constant to be determined by initial conditions. \n",
    "\n",
    "From this we can see that the velocity is only dependent on the radius so velocity will be constant along at each radius, as we expected. Using the boundary conditions that \n",
    "\n",
    "$$\n",
    "\\large\n",
    "\\require{color}{\\color[rgb]{0.059472,0.501943,0.998465}v}(r_1)={\\color[rgb]{0.059472,0.501943,0.998465}v}_0\n",
    "$$ \n",
    "\n",
    "we can get that \n",
    "\n",
    "$$\n",
    "\\large\n",
    "\\require{color}C={\\color[rgb]{0.059472,0.501943,0.998465}v}_{0}r_{1}.\n",
    "$$ \n",
    "\n",
    "Therefore \n",
    "\n",
    "$$\n",
    "\\large\n",
    "\\require{color}{\\color[rgb]{0.059472,0.501943,0.998465}v}(r)={\\color[rgb]{0.059472,0.501943,0.998465}v}_{0}\\frac{r_{1}}{r}\n",
    "$$ \n",
    "\n",
    "where $r_{1}$ is the inner radius of the bend."
   ]
  },
  {
   "cell_type": "markdown",
   "id": "1c2b64bb-b5c2-4afe-a220-d11c64435294",
   "metadata": {},
   "source": [
    "Let us now define the necessary variables to calculate the speed at each radii."
   ]
  },
  {
   "cell_type": "code",
   "execution_count": 4,
   "id": "5430bac6",
   "metadata": {},
   "outputs": [],
   "source": [
    "# define necessary variables to calculate the speed at each radii\n",
    "v_0 = 100 # initial speed at r_1\n",
    "r_1 = 1 # inner radius\n",
    "r_2 = 2 # outer radius\n",
    "\n",
    "# calculate the speed between r_1 and r_2\n",
    "r = np.linspace(r_1, r_2, 9)\n",
    "v = v_0*r_1*(1/r)"
   ]
  },
  {
   "cell_type": "markdown",
   "id": "e878807d",
   "metadata": {},
   "source": [
    "To solve for pressure we must use Bernoulli's equation again. If we assume that at $r_1$ the static pressure is atmospheric $\\require{color}{\\color[rgb]{0.315209,0.728565,0.037706}p}_a = 101.325 \\ kPa$ then we can find the stagnation pressure, this stagnation pressure remains constant throughout the bend. To do so we use Bernoulli's equation at $r_1$ as we know both the pressure and velocity at that point, using those values we get\n",
    "\n",
    "$$\n",
    "\\large\n",
    "\\require{color}{\\color[rgb]{0.315209,0.728565,0.037706}p}_0 = {\\color[rgb]{0.315209,0.728565,0.037706}p}_{\\color[rgb]{0.989013,0.435749,0.811750}a} + \\frac{1}{2}{\\color[rgb]{0.814433,0.253157,0.091125}\\rho} {\\color[rgb]{0.059472,0.501943,0.998465}v}_0^2.\n",
    "$$\n",
    "\n",
    "Now we can solve for the pressure at an radius by using the stagnation pressure we just solved for and the equation for velocity that we previously solved for: \n",
    "\n",
    "$$\n",
    "\\large\n",
    "\\require{color}{\\color[rgb]{0.315209,0.728565,0.037706}p}(r) = {\\color[rgb]{0.315209,0.728565,0.037706}p}_0 - \\frac{1}{2}{\\color[rgb]{0.814433,0.253157,0.091125}\\rho} {\\color[rgb]{0.059472,0.501943,0.998465}v}^2(r) = {\\color[rgb]{0.315209,0.728565,0.037706}p}_0 - \\frac{1}{2}{\\color[rgb]{0.814433,0.253157,0.091125}\\rho} \\frac{{\\color[rgb]{0.059472,0.501943,0.998465}v}_0^2r_1^2}{r^2} \n",
    "$$\n",
    "\n",
    "$$\n",
    "\\large\n",
    "\\Rightarrow {\\color[rgb]{0.315209,0.728565,0.037706}p} = {\\color[rgb]{0.315209,0.728565,0.037706}p}_a + \\frac{1}{2} {\\color[rgb]{0.814433,0.253157,0.091125}\\rho} {\\color[rgb]{0.059472,0.501943,0.998465}v}_0^2\\left(1-\\frac{r_1^2}{r^2}\\right)\n",
    "$$"
   ]
  },
  {
   "cell_type": "markdown",
   "id": "87a0341f-eb86-42f7-ae04-1e3519896820",
   "metadata": {},
   "source": [
    "Next, we define some variables required to work out the pressure"
   ]
  },
  {
   "cell_type": "code",
   "execution_count": 5,
   "id": "a5dbe6a5",
   "metadata": {},
   "outputs": [],
   "source": [
    "# define variables needed to calculate pressure\n",
    "rho = 1.293 # denisty of air in kg/m^3\n",
    "p_a = 101325 # pressure of air (atmospheric pressure) in Pa\n",
    "p_0 = p_a + (1/2)*rho*v_0**2\n",
    "\n",
    "# calculate pressure between r_1 and r_2\n",
    "p = p_0 - (1/2)*rho*(v_0**2)*(r_1**2)/(r**2)\n",
    "\n",
    "# define variables needed to make a contour plot\n",
    "theta = np.linspace(0, np.pi/2, 50)\n",
    "x=r_2*np.cos(theta)\n",
    "y=np.linspace(-2,2,50)"
   ]
  },
  {
   "cell_type": "markdown",
   "id": "8795e235",
   "metadata": {},
   "source": [
    "## Visualizing the Flow <a class='anchor' id='graphs'></a>"
   ]
  },
  {
   "cell_type": "markdown",
   "id": "511fe412-f4b0-46e6-89cb-f36619baa9f9",
   "metadata": {},
   "source": [
    "We are now ready to visualize the velocity and pressure contours!"
   ]
  },
  {
   "cell_type": "code",
   "execution_count": 6,
   "id": "224a7459",
   "metadata": {},
   "outputs": [],
   "source": [
    "# define pressure and velocity for contour plot\n",
    "v_z = []\n",
    "p_z = []\n",
    "for y_val in y:\n",
    "    v_y_list = []\n",
    "    p_y_list = []\n",
    "    for x_val in x:\n",
    "        if (x_val**2 + y_val**2) < r_1:\n",
    "            p_xy = p_a\n",
    "            v_xy = v_0\n",
    "        else:\n",
    "            v_xy = v_0/np.sqrt(x_val**2 + y_val**2)\n",
    "            p_xy = p_0 - (1/2)*rho*(v_0**2)*(r_1**2)/(x_val**2 + y_val**2)\n",
    "        v_y_list.append(v_xy)\n",
    "        p_y_list.append(p_xy)\n",
    "    v_z.append(v_y_list)\n",
    "    p_z.append(p_y_list)"
   ]
  },
  {
   "cell_type": "markdown",
   "id": "9b25e27d-29e0-4489-b750-b654e01e1434",
   "metadata": {},
   "source": [
    "Finally, plotting this yields:"
   ]
  },
  {
   "cell_type": "code",
   "execution_count": 7,
   "id": "6e8c44b6",
   "metadata": {},
   "outputs": [
    {
     "data": {
      "text/html": [
       "<iframe\n",
       "    scrolling=\"no\"\n",
       "    width=\"820px\"\n",
       "    height=\"820\"\n",
       "    src=\"iframe_figures/figure_7.html\"\n",
       "    frameborder=\"0\"\n",
       "    allowfullscreen\n",
       "></iframe>\n"
      ]
     },
     "metadata": {},
     "output_type": "display_data"
    }
   ],
   "source": [
    "# make contour plots for velocity and pressure  \n",
    "fig = go.Figure()\n",
    "fig.add_contour(z=v_z, x=x, y=y, contours_coloring='heatmap', line_width=0, colorbar=dict(title='Velocity (m/s)', \n",
    "                titleside='right'), colorscale='PuBuGn', reversescale=True)\n",
    "fig.add_contour(z=p_z, x=x, y=y, contours_coloring='heatmap', line_width=0, visible=False, colorbar=dict(title=\n",
    "                'Pressure (Pa)', titleside='right'), colorscale='dense', reversescale=True)\n",
    "\n",
    "fig.add_shape(type='circle', xref='x', yref='y', x0=-1, y0=-1, x1=1, y1=1, fillcolor='white', line_color='white')\n",
    "fig.add_scatter(x=2*np.cos(t2), y=2*np.sin(t2), line_width=0)\n",
    "fig.add_scatter(x=3*np.cos(t2), y=3*np.sin(t2), line_color='white', fill='tonexty', fillcolor='white')\n",
    "\n",
    "fig.update_layout(yaxis=dict(scaleanchor=\"x\", scaleratio=1, showticklabels=False, range=[-2,2]), \n",
    "                  xaxis=dict(showticklabels=False), plot_bgcolor='rgba(0, 0, 0, 0)', autosize=False, width=800, height=800, \n",
    "                  showlegend=False, updatemenus=[dict(active=0, buttons=[dict(label='Velocity', method='update', \n",
    "                  args=[{'visible':[True, False, True, True, True]}]), dict(label='Pressure', method='update',\n",
    "                  args=[{'visible':[False, True, True, True, True]}])], y=1.2, x=0.41)])\n",
    "fig.show()"
   ]
  },
  {
   "cell_type": "markdown",
   "id": "6f2496da",
   "metadata": {},
   "source": [
    "As you can see in the contour plots above the pressure and velocity are inversely proportional to eachother which is what we would expect based on Bernoulli's equation. Additionally, the velocity decreases with increasing radius which we would also expect because centripetal acceleration decreases as the radius of curvative increases."
   ]
  },
  {
   "cell_type": "code",
   "execution_count": 8,
   "id": "803c06bd",
   "metadata": {},
   "outputs": [
    {
     "data": {
      "text/html": [
       "<iframe\n",
       "    scrolling=\"no\"\n",
       "    width=\"920px\"\n",
       "    height=\"720\"\n",
       "    src=\"iframe_figures/figure_8.html\"\n",
       "    frameborder=\"0\"\n",
       "    allowfullscreen\n",
       "></iframe>\n"
      ]
     },
     "metadata": {},
     "output_type": "display_data"
    }
   ],
   "source": [
    "# define lines where we want to visualize the flow and time and distance information for those lines\n",
    "total_distance = np.pi*r\n",
    "total_time = total_distance / v\n",
    "dist = total_time[7] * v\n",
    "\n",
    "r_lines = np.array([r[1], r[4], r[7]])\n",
    "r_dist = np.array([dist[1], dist[4], dist[7]])\n",
    "rad = -np.pi/2 + (r_dist / r_lines)\n",
    "\n",
    "# create animated plot to show ideallized flow movement \n",
    "fig = go.Figure()\n",
    "\n",
    "frames = [go.Frame(data=[]) for k in range(50)]\n",
    "for i, r_line in enumerate(r_lines):\n",
    "    fig.add_scatter(x=r_line*np.cos(t2), y=r_line*np.sin(t2), line_dash='dash', line_color='lightsteelblue')\n",
    "    x_pos = r_line*np.cos(np.linspace(-np.pi/2, rad[i], 50))\n",
    "    y_pos = r_line*np.sin(np.linspace(-np.pi/2, rad[i], 50))\n",
    "    try:\n",
    "        end = np.where(x_pos < 0)[0][0]\n",
    "        x_pos[end:len(x_pos)] = 'NaN'\n",
    "    except IndexError:\n",
    "        None\n",
    "    for j, f in enumerate(frames):\n",
    "        f.data += (go.Scatter(x=[x_pos[j]], y=[y_pos[j]], mode='markers', marker=dict(color='teal', size=10)),)\n",
    "\n",
    "fig.update(frames=frames)\n",
    "fig.update_layout(updatemenus = [dict(type='buttons', buttons=[dict(label='play', method='animate', \n",
    "                  args=[None, {'frame':{'duration':100}}])])], xaxis=dict(range=[0,2], showticklabels=False), \n",
    "                  yaxis=dict(scaleanchor=\"x\", scaleratio=1, showticklabels=False), showlegend=False, \n",
    "                  plot_bgcolor='rgba(0, 0, 0, 0)', autosize=False, width=900, height=700)\n",
    "\n",
    "fig.add_scatter(x=2*np.cos(t2), y=2*np.sin(t2), fill='tozeroy', fillcolor='rgba(133, 163, 201, 0.5)', line_color='black')\n",
    "fig.add_scatter(x=np.cos(t2), y=np.sin(t2), fill='tozeroy', fillcolor='white', line_color='black')\n",
    "\n",
    "fig.show()"
   ]
  },
  {
   "cell_type": "markdown",
   "id": "a7bf62e4",
   "metadata": {},
   "source": [
    "In the above animation we can visually see how an idealized fluid would move around a bend, and we can see how the particles at inner radii move faster than those at outer radii"
   ]
  }
 ],
 "metadata": {
  "kernelspec": {
   "display_name": "Python 3 (ipykernel)",
   "language": "python",
   "name": "python3"
  },
  "language_info": {
   "codemirror_mode": {
    "name": "ipython",
    "version": 3
   },
   "file_extension": ".py",
   "mimetype": "text/x-python",
   "name": "python",
   "nbconvert_exporter": "python",
   "pygments_lexer": "ipython3",
   "version": "3.11.1"
  }
 },
 "nbformat": 4,
 "nbformat_minor": 5
}
