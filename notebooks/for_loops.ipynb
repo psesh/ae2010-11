{
 "cells": [
  {
   "cell_type": "raw",
   "id": "08a06c32",
   "metadata": {},
   "source": [
    "---\n",
    "title: \"Lists and For loops\"\n",
    "format:\n",
    "    html:\n",
    "        code-fold: true\n",
    "jupyter: python3\n",
    "fontsize: 1.2em\n",
    "linestretch: 1.5\n",
    "toc: true\n",
    "notebook-view: true\n",
    "---"
   ]
  },
  {
   "cell_type": "markdown",
   "id": "3cef0369",
   "metadata": {},
   "source": [
    "## Introduction\n",
    "\n",
    "This notebook covers lists and for-loops. These will prove to useful in future notebooks. Naturally this tutorial is broken up into lists, for-loops, and for-loops over lists. \n",
    "\n"
   ]
  },
  {
   "cell_type": "markdown",
   "id": "fea8b88d",
   "metadata": {},
   "source": [
    "## Lists\n",
    "\n",
    "A list comprises strings, numbers, and even abstract class instances. Items in a list are changeable in the sense that we can alter add, remove, or alter existing list entries. A list also permits duplicates, and thus, items in a list do not have to be unique. A given item in a list may also be another list. \n",
    "\n",
    "Each item in a list can be referenced by its index, i.e., the order of its appearance in the list. Consider the following list"
   ]
  },
  {
   "cell_type": "code",
   "execution_count": 3,
   "id": "97553299",
   "metadata": {},
   "outputs": [
    {
     "name": "stdout",
     "output_type": "stream",
     "text": [
      "Bernoulli\n",
      "True\n",
      "streamwise\n",
      "2.718281828459045\n"
     ]
    }
   ],
   "source": [
    "import numpy as np\n",
    "\n",
    "todays_terms = [\"Bernoulli\", \"streamline\", \"streamwise\", \"blobs\", np.pi, np.exp(1), True]\n",
    "print(todays_terms[0])\n",
    "print(todays_terms[-1])\n",
    "print(todays_terms[2])\n",
    "print(todays_terms[5])"
   ]
  },
  {
   "cell_type": "markdown",
   "id": "acde4648",
   "metadata": {},
   "source": [
    "As noted above, ``python`` starts counting at 0. A ``list`` has a length, corresponding to the number of items it contains. Items in a list can be removed; items can also be appended to a list."
   ]
  },
  {
   "cell_type": "code",
   "execution_count": 4,
   "id": "ab57a296",
   "metadata": {},
   "outputs": [
    {
     "name": "stdout",
     "output_type": "stream",
     "text": [
      "['streamline', 'streamwise', 'blobs', 3.141592653589793, 2.718281828459045, True]\n",
      "['streamline', 'streamwise', 'blobs', 3.141592653589793, 2.718281828459045, True, 0.001]\n",
      "['streamline', 'streamwise', 'blobs', 'adding', 3.141592653589793, 2.718281828459045, True, 0.001]\n",
      "['streamline', 'streamwise', 'blobs', 'adding', 3.141592653589793, 2.718281828459045, True, 0.001]\n",
      "['streamline', 'streamwise', 'blobs', 'adding', 3.141592653589793, True, 0.001]\n"
     ]
    }
   ],
   "source": [
    "todays_terms.remove(\"Bernoulli\")\n",
    "print(todays_terms)\n",
    "todays_terms.append(0.001)\n",
    "print(todays_terms)\n",
    "todays_terms.insert(3, \"adding\") # \"adding\" inserted in position 3\n",
    "print(todays_terms)\n",
    "tomorrows_terms = todays_terms.copy()\n",
    "print(tomorrows_terms)\n",
    "tomorrows_terms.pop(5) # Removing the 5th entry\n",
    "print(tomorrows_terms)"
   ]
  },
  {
   "cell_type": "markdown",
   "id": "342a36af",
   "metadata": {},
   "source": [
    "Below you will find an example of a list comprising instances of a class called ``Cards``. "
   ]
  },
  {
   "cell_type": "code",
   "execution_count": 5,
   "id": "88f0aa3e",
   "metadata": {},
   "outputs": [
    {
     "name": "stdout",
     "output_type": "stream",
     "text": [
      "[<__main__.Cards object at 0x107b0ce50>, <__main__.Cards object at 0x107b0cf90>, <__main__.Cards object at 0x107b0d090>]\n"
     ]
    }
   ],
   "source": [
    "class Cards(object):\n",
    "    def __init__(self, name):\n",
    "        self.name = name\n",
    "\n",
    "my_card_1 = Cards(\"hearts\")\n",
    "my_card_2 = Cards(\"spades\")\n",
    "my_card_3 = Cards(\"diamonds\")\n",
    "\n",
    "my_list = [my_card_1, my_card_2, my_card_3]\n",
    "print(my_list)"
   ]
  },
  {
   "cell_type": "markdown",
   "id": "9af5ca47",
   "metadata": {},
   "source": [
    "## For loops\n",
    "\n",
    "In ``python`` the ``for`` loop is used for iterating. However, unlike many other languages, it can iterate over a list, strings, or even other sequences (such as dictionaries and tuples). First, consider the standard use where we iterate across a range of integers."
   ]
  },
  {
   "cell_type": "code",
   "execution_count": 6,
   "id": "b5216098",
   "metadata": {},
   "outputs": [
    {
     "name": "stdout",
     "output_type": "stream",
     "text": [
      "0\n",
      "1\n",
      "2\n",
      "3\n",
      "4\n",
      "5\n",
      "6\n",
      "7\n",
      "8\n",
      "9\n"
     ]
    }
   ],
   "source": [
    "for i in range(0, 10): # iterating between 0 and 9\n",
    "    print(i)"
   ]
  },
  {
   "cell_type": "code",
   "execution_count": 7,
   "id": "d69b8d61",
   "metadata": {},
   "outputs": [
    {
     "name": "stdout",
     "output_type": "stream",
     "text": [
      "0\n",
      "2\n",
      "4\n",
      "6\n",
      "8\n"
     ]
    }
   ],
   "source": [
    "for i in range(0, 10, 2): # iterating between 0 and 9, whilst skipping every 2nd entry\n",
    "    print(i)"
   ]
  },
  {
   "cell_type": "code",
   "execution_count": 8,
   "id": "cb59739c",
   "metadata": {},
   "outputs": [
    {
     "name": "stdout",
     "output_type": "stream",
     "text": [
      "hearts\n",
      "spades\n",
      "diamonds\n"
     ]
    }
   ],
   "source": [
    "for card in my_list: # iterating our list of cards\n",
    "    print(card.name)"
   ]
  },
  {
   "cell_type": "code",
   "execution_count": 9,
   "id": "5eb635dc",
   "metadata": {},
   "outputs": [
    {
     "name": "stdout",
     "output_type": "stream",
     "text": [
      "streamline\n",
      "streamwise\n",
      "blobs\n",
      "adding\n",
      "3.141592653589793\n",
      "2.718281828459045\n",
      "True\n",
      "0.001\n"
     ]
    }
   ],
   "source": [
    "for value in todays_terms:\n",
    "    print(value)"
   ]
  },
  {
   "cell_type": "markdown",
   "id": "43c98a18",
   "metadata": {},
   "source": [
    "These loops can also start counting in reverse, i.e.,"
   ]
  },
  {
   "cell_type": "code",
   "execution_count": 10,
   "id": "faaa3bb7",
   "metadata": {},
   "outputs": [
    {
     "name": "stdout",
     "output_type": "stream",
     "text": [
      "0.001\n",
      "True\n",
      "2.718281828459045\n",
      "3.141592653589793\n",
      "adding\n",
      "blobs\n",
      "streamwise\n",
      "streamline\n"
     ]
    }
   ],
   "source": [
    "for value in reversed(todays_terms):\n",
    "    print(value)"
   ]
  },
  {
   "cell_type": "code",
   "execution_count": 11,
   "id": "9b55e09a",
   "metadata": {},
   "outputs": [
    {
     "name": "stdout",
     "output_type": "stream",
     "text": [
      "10\n",
      "9\n",
      "8\n",
      "7\n",
      "6\n",
      "5\n",
      "4\n",
      "3\n",
      "2\n",
      "1\n"
     ]
    }
   ],
   "source": [
    "for j in range(10, 0, -1): # Starting at 10 iterate to 1. \n",
    "    print(j)"
   ]
  },
  {
   "cell_type": "code",
   "execution_count": null,
   "id": "82a12637",
   "metadata": {},
   "outputs": [],
   "source": []
  }
 ],
 "metadata": {
  "kernelspec": {
   "display_name": "Python 3 (ipykernel)",
   "language": "python",
   "name": "python3"
  },
  "language_info": {
   "codemirror_mode": {
    "name": "ipython",
    "version": 3
   },
   "file_extension": ".py",
   "mimetype": "text/x-python",
   "name": "python",
   "nbconvert_exporter": "python",
   "pygments_lexer": "ipython3",
   "version": "3.11.1"
  }
 },
 "nbformat": 4,
 "nbformat_minor": 5
}
